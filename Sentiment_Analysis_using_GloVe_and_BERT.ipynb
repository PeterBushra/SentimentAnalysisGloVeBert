{
  "nbformat": 4,
  "nbformat_minor": 0,
  "metadata": {
    "colab": {
      "name": "Sentiment Analysis using GloVe and BERT.ipynb",
      "provenance": [],
      "collapsed_sections": []
    },
    "kernelspec": {
      "name": "python3",
      "display_name": "Python 3"
    },
    "language_info": {
      "name": "python"
    },
    "accelerator": "GPU",
    "widgets": {
      "application/vnd.jupyter.widget-state+json": {
        "1fae204190df4ee48616f604c9e7ae72": {
          "model_module": "@jupyter-widgets/controls",
          "model_name": "HBoxModel",
          "state": {
            "_view_name": "HBoxView",
            "_dom_classes": [],
            "_model_name": "HBoxModel",
            "_view_module": "@jupyter-widgets/controls",
            "_model_module_version": "1.5.0",
            "_view_count": null,
            "_view_module_version": "1.5.0",
            "box_style": "",
            "layout": "IPY_MODEL_8cbec1b3e50b4ebebfb37df661f111bb",
            "_model_module": "@jupyter-widgets/controls",
            "children": [
              "IPY_MODEL_703fd71673a04ab49a745c3bdf919aef",
              "IPY_MODEL_d7a2f5c3275646e1a4220ce5e7da4159"
            ]
          }
        },
        "8cbec1b3e50b4ebebfb37df661f111bb": {
          "model_module": "@jupyter-widgets/base",
          "model_name": "LayoutModel",
          "state": {
            "_view_name": "LayoutView",
            "grid_template_rows": null,
            "right": null,
            "justify_content": null,
            "_view_module": "@jupyter-widgets/base",
            "overflow": null,
            "_model_module_version": "1.2.0",
            "_view_count": null,
            "flex_flow": null,
            "width": null,
            "min_width": null,
            "border": null,
            "align_items": null,
            "bottom": null,
            "_model_module": "@jupyter-widgets/base",
            "top": null,
            "grid_column": null,
            "overflow_y": null,
            "overflow_x": null,
            "grid_auto_flow": null,
            "grid_area": null,
            "grid_template_columns": null,
            "flex": null,
            "_model_name": "LayoutModel",
            "justify_items": null,
            "grid_row": null,
            "max_height": null,
            "align_content": null,
            "visibility": null,
            "align_self": null,
            "height": null,
            "min_height": null,
            "padding": null,
            "grid_auto_rows": null,
            "grid_gap": null,
            "max_width": null,
            "order": null,
            "_view_module_version": "1.2.0",
            "grid_template_areas": null,
            "object_position": null,
            "object_fit": null,
            "grid_auto_columns": null,
            "margin": null,
            "display": null,
            "left": null
          }
        },
        "703fd71673a04ab49a745c3bdf919aef": {
          "model_module": "@jupyter-widgets/controls",
          "model_name": "FloatProgressModel",
          "state": {
            "_view_name": "ProgressView",
            "style": "IPY_MODEL_e718b3782c004b968a4c872be0f5e702",
            "_dom_classes": [],
            "description": "Dl Completed...: 100%",
            "_model_name": "FloatProgressModel",
            "bar_style": "success",
            "max": 1,
            "_view_module": "@jupyter-widgets/controls",
            "_model_module_version": "1.5.0",
            "value": 1,
            "_view_count": null,
            "_view_module_version": "1.5.0",
            "orientation": "horizontal",
            "min": 0,
            "description_tooltip": null,
            "_model_module": "@jupyter-widgets/controls",
            "layout": "IPY_MODEL_506de5c20d364c519724e33ec0a0a075"
          }
        },
        "d7a2f5c3275646e1a4220ce5e7da4159": {
          "model_module": "@jupyter-widgets/controls",
          "model_name": "HTMLModel",
          "state": {
            "_view_name": "HTMLView",
            "style": "IPY_MODEL_20961145b62841128b713cceaf8782e9",
            "_dom_classes": [],
            "description": "",
            "_model_name": "HTMLModel",
            "placeholder": "​",
            "_view_module": "@jupyter-widgets/controls",
            "_model_module_version": "1.5.0",
            "value": " 1/1 [00:01&lt;00:00,  1.54s/ url]",
            "_view_count": null,
            "_view_module_version": "1.5.0",
            "description_tooltip": null,
            "_model_module": "@jupyter-widgets/controls",
            "layout": "IPY_MODEL_b3102d74c2714a088ca6698e20a87d35"
          }
        },
        "e718b3782c004b968a4c872be0f5e702": {
          "model_module": "@jupyter-widgets/controls",
          "model_name": "ProgressStyleModel",
          "state": {
            "_view_name": "StyleView",
            "_model_name": "ProgressStyleModel",
            "description_width": "initial",
            "_view_module": "@jupyter-widgets/base",
            "_model_module_version": "1.5.0",
            "_view_count": null,
            "_view_module_version": "1.2.0",
            "bar_color": null,
            "_model_module": "@jupyter-widgets/controls"
          }
        },
        "506de5c20d364c519724e33ec0a0a075": {
          "model_module": "@jupyter-widgets/base",
          "model_name": "LayoutModel",
          "state": {
            "_view_name": "LayoutView",
            "grid_template_rows": null,
            "right": null,
            "justify_content": null,
            "_view_module": "@jupyter-widgets/base",
            "overflow": null,
            "_model_module_version": "1.2.0",
            "_view_count": null,
            "flex_flow": null,
            "width": null,
            "min_width": null,
            "border": null,
            "align_items": null,
            "bottom": null,
            "_model_module": "@jupyter-widgets/base",
            "top": null,
            "grid_column": null,
            "overflow_y": null,
            "overflow_x": null,
            "grid_auto_flow": null,
            "grid_area": null,
            "grid_template_columns": null,
            "flex": null,
            "_model_name": "LayoutModel",
            "justify_items": null,
            "grid_row": null,
            "max_height": null,
            "align_content": null,
            "visibility": null,
            "align_self": null,
            "height": null,
            "min_height": null,
            "padding": null,
            "grid_auto_rows": null,
            "grid_gap": null,
            "max_width": null,
            "order": null,
            "_view_module_version": "1.2.0",
            "grid_template_areas": null,
            "object_position": null,
            "object_fit": null,
            "grid_auto_columns": null,
            "margin": null,
            "display": null,
            "left": null
          }
        },
        "20961145b62841128b713cceaf8782e9": {
          "model_module": "@jupyter-widgets/controls",
          "model_name": "DescriptionStyleModel",
          "state": {
            "_view_name": "StyleView",
            "_model_name": "DescriptionStyleModel",
            "description_width": "",
            "_view_module": "@jupyter-widgets/base",
            "_model_module_version": "1.5.0",
            "_view_count": null,
            "_view_module_version": "1.2.0",
            "_model_module": "@jupyter-widgets/controls"
          }
        },
        "b3102d74c2714a088ca6698e20a87d35": {
          "model_module": "@jupyter-widgets/base",
          "model_name": "LayoutModel",
          "state": {
            "_view_name": "LayoutView",
            "grid_template_rows": null,
            "right": null,
            "justify_content": null,
            "_view_module": "@jupyter-widgets/base",
            "overflow": null,
            "_model_module_version": "1.2.0",
            "_view_count": null,
            "flex_flow": null,
            "width": null,
            "min_width": null,
            "border": null,
            "align_items": null,
            "bottom": null,
            "_model_module": "@jupyter-widgets/base",
            "top": null,
            "grid_column": null,
            "overflow_y": null,
            "overflow_x": null,
            "grid_auto_flow": null,
            "grid_area": null,
            "grid_template_columns": null,
            "flex": null,
            "_model_name": "LayoutModel",
            "justify_items": null,
            "grid_row": null,
            "max_height": null,
            "align_content": null,
            "visibility": null,
            "align_self": null,
            "height": null,
            "min_height": null,
            "padding": null,
            "grid_auto_rows": null,
            "grid_gap": null,
            "max_width": null,
            "order": null,
            "_view_module_version": "1.2.0",
            "grid_template_areas": null,
            "object_position": null,
            "object_fit": null,
            "grid_auto_columns": null,
            "margin": null,
            "display": null,
            "left": null
          }
        },
        "fcb4cced6ac84224884fc5d17c1f10de": {
          "model_module": "@jupyter-widgets/controls",
          "model_name": "HBoxModel",
          "state": {
            "_view_name": "HBoxView",
            "_dom_classes": [],
            "_model_name": "HBoxModel",
            "_view_module": "@jupyter-widgets/controls",
            "_model_module_version": "1.5.0",
            "_view_count": null,
            "_view_module_version": "1.5.0",
            "box_style": "",
            "layout": "IPY_MODEL_4885f578364b44eaa69c78ad929a3b53",
            "_model_module": "@jupyter-widgets/controls",
            "children": [
              "IPY_MODEL_ac3e863f71b44bb2868824a76c01c059",
              "IPY_MODEL_755ab27165054c9cb3e8332183148b9c"
            ]
          }
        },
        "4885f578364b44eaa69c78ad929a3b53": {
          "model_module": "@jupyter-widgets/base",
          "model_name": "LayoutModel",
          "state": {
            "_view_name": "LayoutView",
            "grid_template_rows": null,
            "right": null,
            "justify_content": null,
            "_view_module": "@jupyter-widgets/base",
            "overflow": null,
            "_model_module_version": "1.2.0",
            "_view_count": null,
            "flex_flow": null,
            "width": null,
            "min_width": null,
            "border": null,
            "align_items": null,
            "bottom": null,
            "_model_module": "@jupyter-widgets/base",
            "top": null,
            "grid_column": null,
            "overflow_y": null,
            "overflow_x": null,
            "grid_auto_flow": null,
            "grid_area": null,
            "grid_template_columns": null,
            "flex": null,
            "_model_name": "LayoutModel",
            "justify_items": null,
            "grid_row": null,
            "max_height": null,
            "align_content": null,
            "visibility": null,
            "align_self": null,
            "height": null,
            "min_height": null,
            "padding": null,
            "grid_auto_rows": null,
            "grid_gap": null,
            "max_width": null,
            "order": null,
            "_view_module_version": "1.2.0",
            "grid_template_areas": null,
            "object_position": null,
            "object_fit": null,
            "grid_auto_columns": null,
            "margin": null,
            "display": null,
            "left": null
          }
        },
        "ac3e863f71b44bb2868824a76c01c059": {
          "model_module": "@jupyter-widgets/controls",
          "model_name": "FloatProgressModel",
          "state": {
            "_view_name": "ProgressView",
            "style": "IPY_MODEL_92d83bdf3e8344dfb96b02318160585c",
            "_dom_classes": [],
            "description": "Dl Size...: 100%",
            "_model_name": "FloatProgressModel",
            "bar_style": "success",
            "max": 1,
            "_view_module": "@jupyter-widgets/controls",
            "_model_module_version": "1.5.0",
            "value": 1,
            "_view_count": null,
            "_view_module_version": "1.5.0",
            "orientation": "horizontal",
            "min": 0,
            "description_tooltip": null,
            "_model_module": "@jupyter-widgets/controls",
            "layout": "IPY_MODEL_0b97bb6b48554bf2a5bea06afd6448a0"
          }
        },
        "755ab27165054c9cb3e8332183148b9c": {
          "model_module": "@jupyter-widgets/controls",
          "model_name": "HTMLModel",
          "state": {
            "_view_name": "HTMLView",
            "style": "IPY_MODEL_b27730c054a34b10be8aabeab29b9135",
            "_dom_classes": [],
            "description": "",
            "_model_name": "HTMLModel",
            "placeholder": "​",
            "_view_module": "@jupyter-widgets/controls",
            "_model_module_version": "1.5.0",
            "value": " 80/80 [00:01&lt;00:00, 53.61 MiB/s]",
            "_view_count": null,
            "_view_module_version": "1.5.0",
            "description_tooltip": null,
            "_model_module": "@jupyter-widgets/controls",
            "layout": "IPY_MODEL_01d56b61f9644a4ead6df1bb09a2f9f6"
          }
        },
        "92d83bdf3e8344dfb96b02318160585c": {
          "model_module": "@jupyter-widgets/controls",
          "model_name": "ProgressStyleModel",
          "state": {
            "_view_name": "StyleView",
            "_model_name": "ProgressStyleModel",
            "description_width": "initial",
            "_view_module": "@jupyter-widgets/base",
            "_model_module_version": "1.5.0",
            "_view_count": null,
            "_view_module_version": "1.2.0",
            "bar_color": null,
            "_model_module": "@jupyter-widgets/controls"
          }
        },
        "0b97bb6b48554bf2a5bea06afd6448a0": {
          "model_module": "@jupyter-widgets/base",
          "model_name": "LayoutModel",
          "state": {
            "_view_name": "LayoutView",
            "grid_template_rows": null,
            "right": null,
            "justify_content": null,
            "_view_module": "@jupyter-widgets/base",
            "overflow": null,
            "_model_module_version": "1.2.0",
            "_view_count": null,
            "flex_flow": null,
            "width": null,
            "min_width": null,
            "border": null,
            "align_items": null,
            "bottom": null,
            "_model_module": "@jupyter-widgets/base",
            "top": null,
            "grid_column": null,
            "overflow_y": null,
            "overflow_x": null,
            "grid_auto_flow": null,
            "grid_area": null,
            "grid_template_columns": null,
            "flex": null,
            "_model_name": "LayoutModel",
            "justify_items": null,
            "grid_row": null,
            "max_height": null,
            "align_content": null,
            "visibility": null,
            "align_self": null,
            "height": null,
            "min_height": null,
            "padding": null,
            "grid_auto_rows": null,
            "grid_gap": null,
            "max_width": null,
            "order": null,
            "_view_module_version": "1.2.0",
            "grid_template_areas": null,
            "object_position": null,
            "object_fit": null,
            "grid_auto_columns": null,
            "margin": null,
            "display": null,
            "left": null
          }
        },
        "b27730c054a34b10be8aabeab29b9135": {
          "model_module": "@jupyter-widgets/controls",
          "model_name": "DescriptionStyleModel",
          "state": {
            "_view_name": "StyleView",
            "_model_name": "DescriptionStyleModel",
            "description_width": "",
            "_view_module": "@jupyter-widgets/base",
            "_model_module_version": "1.5.0",
            "_view_count": null,
            "_view_module_version": "1.2.0",
            "_model_module": "@jupyter-widgets/controls"
          }
        },
        "01d56b61f9644a4ead6df1bb09a2f9f6": {
          "model_module": "@jupyter-widgets/base",
          "model_name": "LayoutModel",
          "state": {
            "_view_name": "LayoutView",
            "grid_template_rows": null,
            "right": null,
            "justify_content": null,
            "_view_module": "@jupyter-widgets/base",
            "overflow": null,
            "_model_module_version": "1.2.0",
            "_view_count": null,
            "flex_flow": null,
            "width": null,
            "min_width": null,
            "border": null,
            "align_items": null,
            "bottom": null,
            "_model_module": "@jupyter-widgets/base",
            "top": null,
            "grid_column": null,
            "overflow_y": null,
            "overflow_x": null,
            "grid_auto_flow": null,
            "grid_area": null,
            "grid_template_columns": null,
            "flex": null,
            "_model_name": "LayoutModel",
            "justify_items": null,
            "grid_row": null,
            "max_height": null,
            "align_content": null,
            "visibility": null,
            "align_self": null,
            "height": null,
            "min_height": null,
            "padding": null,
            "grid_auto_rows": null,
            "grid_gap": null,
            "max_width": null,
            "order": null,
            "_view_module_version": "1.2.0",
            "grid_template_areas": null,
            "object_position": null,
            "object_fit": null,
            "grid_auto_columns": null,
            "margin": null,
            "display": null,
            "left": null
          }
        },
        "f95f420959d24f1a8f0baba594940335": {
          "model_module": "@jupyter-widgets/controls",
          "model_name": "HBoxModel",
          "state": {
            "_view_name": "HBoxView",
            "_dom_classes": [],
            "_model_name": "HBoxModel",
            "_view_module": "@jupyter-widgets/controls",
            "_model_module_version": "1.5.0",
            "_view_count": null,
            "_view_module_version": "1.5.0",
            "box_style": "",
            "layout": "IPY_MODEL_59d374d4165542749dce17257fe78af2",
            "_model_module": "@jupyter-widgets/controls",
            "children": [
              "IPY_MODEL_fa05cde9b32b4936bcdd7ef85666aa14",
              "IPY_MODEL_6a0e474bb14340538476fb5af392177c"
            ]
          }
        },
        "59d374d4165542749dce17257fe78af2": {
          "model_module": "@jupyter-widgets/base",
          "model_name": "LayoutModel",
          "state": {
            "_view_name": "LayoutView",
            "grid_template_rows": null,
            "right": null,
            "justify_content": null,
            "_view_module": "@jupyter-widgets/base",
            "overflow": null,
            "_model_module_version": "1.2.0",
            "_view_count": null,
            "flex_flow": null,
            "width": null,
            "min_width": null,
            "border": null,
            "align_items": null,
            "bottom": null,
            "_model_module": "@jupyter-widgets/base",
            "top": null,
            "grid_column": null,
            "overflow_y": null,
            "overflow_x": null,
            "grid_auto_flow": null,
            "grid_area": null,
            "grid_template_columns": null,
            "flex": null,
            "_model_name": "LayoutModel",
            "justify_items": null,
            "grid_row": null,
            "max_height": null,
            "align_content": null,
            "visibility": null,
            "align_self": null,
            "height": null,
            "min_height": null,
            "padding": null,
            "grid_auto_rows": null,
            "grid_gap": null,
            "max_width": null,
            "order": null,
            "_view_module_version": "1.2.0",
            "grid_template_areas": null,
            "object_position": null,
            "object_fit": null,
            "grid_auto_columns": null,
            "margin": null,
            "display": null,
            "left": null
          }
        },
        "fa05cde9b32b4936bcdd7ef85666aa14": {
          "model_module": "@jupyter-widgets/controls",
          "model_name": "FloatProgressModel",
          "state": {
            "_view_name": "ProgressView",
            "style": "IPY_MODEL_4ae82080cfcc43e3ab812e51dc69f892",
            "_dom_classes": [],
            "description": "",
            "_model_name": "FloatProgressModel",
            "bar_style": "info",
            "max": 1,
            "_view_module": "@jupyter-widgets/controls",
            "_model_module_version": "1.5.0",
            "value": 1,
            "_view_count": null,
            "_view_module_version": "1.5.0",
            "orientation": "horizontal",
            "min": 0,
            "description_tooltip": null,
            "_model_module": "@jupyter-widgets/controls",
            "layout": "IPY_MODEL_fa20e1a6d9c74929b82350e4f2f52cb0"
          }
        },
        "6a0e474bb14340538476fb5af392177c": {
          "model_module": "@jupyter-widgets/controls",
          "model_name": "HTMLModel",
          "state": {
            "_view_name": "HTMLView",
            "style": "IPY_MODEL_78b54c17e3a5483786bea2350cb5d5b2",
            "_dom_classes": [],
            "description": "",
            "_model_name": "HTMLModel",
            "placeholder": "​",
            "_view_module": "@jupyter-widgets/controls",
            "_model_module_version": "1.5.0",
            "value": " 25000/0 [00:13&lt;00:00, 3568.90 examples/s]",
            "_view_count": null,
            "_view_module_version": "1.5.0",
            "description_tooltip": null,
            "_model_module": "@jupyter-widgets/controls",
            "layout": "IPY_MODEL_886f796fd8284afc9ca61ee6bb57cb53"
          }
        },
        "4ae82080cfcc43e3ab812e51dc69f892": {
          "model_module": "@jupyter-widgets/controls",
          "model_name": "ProgressStyleModel",
          "state": {
            "_view_name": "StyleView",
            "_model_name": "ProgressStyleModel",
            "description_width": "initial",
            "_view_module": "@jupyter-widgets/base",
            "_model_module_version": "1.5.0",
            "_view_count": null,
            "_view_module_version": "1.2.0",
            "bar_color": null,
            "_model_module": "@jupyter-widgets/controls"
          }
        },
        "fa20e1a6d9c74929b82350e4f2f52cb0": {
          "model_module": "@jupyter-widgets/base",
          "model_name": "LayoutModel",
          "state": {
            "_view_name": "LayoutView",
            "grid_template_rows": null,
            "right": null,
            "justify_content": null,
            "_view_module": "@jupyter-widgets/base",
            "overflow": null,
            "_model_module_version": "1.2.0",
            "_view_count": null,
            "flex_flow": null,
            "width": null,
            "min_width": null,
            "border": null,
            "align_items": null,
            "bottom": null,
            "_model_module": "@jupyter-widgets/base",
            "top": null,
            "grid_column": null,
            "overflow_y": null,
            "overflow_x": null,
            "grid_auto_flow": null,
            "grid_area": null,
            "grid_template_columns": null,
            "flex": null,
            "_model_name": "LayoutModel",
            "justify_items": null,
            "grid_row": null,
            "max_height": null,
            "align_content": null,
            "visibility": null,
            "align_self": null,
            "height": null,
            "min_height": null,
            "padding": null,
            "grid_auto_rows": null,
            "grid_gap": null,
            "max_width": null,
            "order": null,
            "_view_module_version": "1.2.0",
            "grid_template_areas": null,
            "object_position": null,
            "object_fit": null,
            "grid_auto_columns": null,
            "margin": null,
            "display": null,
            "left": null
          }
        },
        "78b54c17e3a5483786bea2350cb5d5b2": {
          "model_module": "@jupyter-widgets/controls",
          "model_name": "DescriptionStyleModel",
          "state": {
            "_view_name": "StyleView",
            "_model_name": "DescriptionStyleModel",
            "description_width": "",
            "_view_module": "@jupyter-widgets/base",
            "_model_module_version": "1.5.0",
            "_view_count": null,
            "_view_module_version": "1.2.0",
            "_model_module": "@jupyter-widgets/controls"
          }
        },
        "886f796fd8284afc9ca61ee6bb57cb53": {
          "model_module": "@jupyter-widgets/base",
          "model_name": "LayoutModel",
          "state": {
            "_view_name": "LayoutView",
            "grid_template_rows": null,
            "right": null,
            "justify_content": null,
            "_view_module": "@jupyter-widgets/base",
            "overflow": null,
            "_model_module_version": "1.2.0",
            "_view_count": null,
            "flex_flow": null,
            "width": null,
            "min_width": null,
            "border": null,
            "align_items": null,
            "bottom": null,
            "_model_module": "@jupyter-widgets/base",
            "top": null,
            "grid_column": null,
            "overflow_y": null,
            "overflow_x": null,
            "grid_auto_flow": null,
            "grid_area": null,
            "grid_template_columns": null,
            "flex": null,
            "_model_name": "LayoutModel",
            "justify_items": null,
            "grid_row": null,
            "max_height": null,
            "align_content": null,
            "visibility": null,
            "align_self": null,
            "height": null,
            "min_height": null,
            "padding": null,
            "grid_auto_rows": null,
            "grid_gap": null,
            "max_width": null,
            "order": null,
            "_view_module_version": "1.2.0",
            "grid_template_areas": null,
            "object_position": null,
            "object_fit": null,
            "grid_auto_columns": null,
            "margin": null,
            "display": null,
            "left": null
          }
        },
        "47af50f4814844679feba7f05deb2aba": {
          "model_module": "@jupyter-widgets/controls",
          "model_name": "HBoxModel",
          "state": {
            "_view_name": "HBoxView",
            "_dom_classes": [],
            "_model_name": "HBoxModel",
            "_view_module": "@jupyter-widgets/controls",
            "_model_module_version": "1.5.0",
            "_view_count": null,
            "_view_module_version": "1.5.0",
            "box_style": "",
            "layout": "IPY_MODEL_235b5ea294d44d979dbb7dce0f5b3894",
            "_model_module": "@jupyter-widgets/controls",
            "children": [
              "IPY_MODEL_44e260187288437f9bd6b11c76b4be15",
              "IPY_MODEL_00c1956df5d14782baea2a7ff073abfa"
            ]
          }
        },
        "235b5ea294d44d979dbb7dce0f5b3894": {
          "model_module": "@jupyter-widgets/base",
          "model_name": "LayoutModel",
          "state": {
            "_view_name": "LayoutView",
            "grid_template_rows": null,
            "right": null,
            "justify_content": null,
            "_view_module": "@jupyter-widgets/base",
            "overflow": null,
            "_model_module_version": "1.2.0",
            "_view_count": null,
            "flex_flow": null,
            "width": null,
            "min_width": null,
            "border": null,
            "align_items": null,
            "bottom": null,
            "_model_module": "@jupyter-widgets/base",
            "top": null,
            "grid_column": null,
            "overflow_y": null,
            "overflow_x": null,
            "grid_auto_flow": null,
            "grid_area": null,
            "grid_template_columns": null,
            "flex": null,
            "_model_name": "LayoutModel",
            "justify_items": null,
            "grid_row": null,
            "max_height": null,
            "align_content": null,
            "visibility": null,
            "align_self": null,
            "height": null,
            "min_height": null,
            "padding": null,
            "grid_auto_rows": null,
            "grid_gap": null,
            "max_width": null,
            "order": null,
            "_view_module_version": "1.2.0",
            "grid_template_areas": null,
            "object_position": null,
            "object_fit": null,
            "grid_auto_columns": null,
            "margin": null,
            "display": null,
            "left": null
          }
        },
        "44e260187288437f9bd6b11c76b4be15": {
          "model_module": "@jupyter-widgets/controls",
          "model_name": "FloatProgressModel",
          "state": {
            "_view_name": "ProgressView",
            "style": "IPY_MODEL_5d532c83a6b54b0a837f0ea6c867426b",
            "_dom_classes": [],
            "description": " 47%",
            "_model_name": "FloatProgressModel",
            "bar_style": "danger",
            "max": 25000,
            "_view_module": "@jupyter-widgets/controls",
            "_model_module_version": "1.5.0",
            "value": 11874,
            "_view_count": null,
            "_view_module_version": "1.5.0",
            "orientation": "horizontal",
            "min": 0,
            "description_tooltip": null,
            "_model_module": "@jupyter-widgets/controls",
            "layout": "IPY_MODEL_5b692c7abb7b489cb1e0de18b197021f"
          }
        },
        "00c1956df5d14782baea2a7ff073abfa": {
          "model_module": "@jupyter-widgets/controls",
          "model_name": "HTMLModel",
          "state": {
            "_view_name": "HTMLView",
            "style": "IPY_MODEL_08f649e2cd2a4f92882228c62fad36d0",
            "_dom_classes": [],
            "description": "",
            "_model_name": "HTMLModel",
            "placeholder": "​",
            "_view_module": "@jupyter-widgets/controls",
            "_model_module_version": "1.5.0",
            "value": " 11874/25000 [00:00&lt;00:00, 118739.26 examples/s]",
            "_view_count": null,
            "_view_module_version": "1.5.0",
            "description_tooltip": null,
            "_model_module": "@jupyter-widgets/controls",
            "layout": "IPY_MODEL_ac31cd107b95472197a5bf3e87b4eb54"
          }
        },
        "5d532c83a6b54b0a837f0ea6c867426b": {
          "model_module": "@jupyter-widgets/controls",
          "model_name": "ProgressStyleModel",
          "state": {
            "_view_name": "StyleView",
            "_model_name": "ProgressStyleModel",
            "description_width": "initial",
            "_view_module": "@jupyter-widgets/base",
            "_model_module_version": "1.5.0",
            "_view_count": null,
            "_view_module_version": "1.2.0",
            "bar_color": null,
            "_model_module": "@jupyter-widgets/controls"
          }
        },
        "5b692c7abb7b489cb1e0de18b197021f": {
          "model_module": "@jupyter-widgets/base",
          "model_name": "LayoutModel",
          "state": {
            "_view_name": "LayoutView",
            "grid_template_rows": null,
            "right": null,
            "justify_content": null,
            "_view_module": "@jupyter-widgets/base",
            "overflow": null,
            "_model_module_version": "1.2.0",
            "_view_count": null,
            "flex_flow": null,
            "width": null,
            "min_width": null,
            "border": null,
            "align_items": null,
            "bottom": null,
            "_model_module": "@jupyter-widgets/base",
            "top": null,
            "grid_column": null,
            "overflow_y": null,
            "overflow_x": null,
            "grid_auto_flow": null,
            "grid_area": null,
            "grid_template_columns": null,
            "flex": null,
            "_model_name": "LayoutModel",
            "justify_items": null,
            "grid_row": null,
            "max_height": null,
            "align_content": null,
            "visibility": null,
            "align_self": null,
            "height": null,
            "min_height": null,
            "padding": null,
            "grid_auto_rows": null,
            "grid_gap": null,
            "max_width": null,
            "order": null,
            "_view_module_version": "1.2.0",
            "grid_template_areas": null,
            "object_position": null,
            "object_fit": null,
            "grid_auto_columns": null,
            "margin": null,
            "display": null,
            "left": null
          }
        },
        "08f649e2cd2a4f92882228c62fad36d0": {
          "model_module": "@jupyter-widgets/controls",
          "model_name": "DescriptionStyleModel",
          "state": {
            "_view_name": "StyleView",
            "_model_name": "DescriptionStyleModel",
            "description_width": "",
            "_view_module": "@jupyter-widgets/base",
            "_model_module_version": "1.5.0",
            "_view_count": null,
            "_view_module_version": "1.2.0",
            "_model_module": "@jupyter-widgets/controls"
          }
        },
        "ac31cd107b95472197a5bf3e87b4eb54": {
          "model_module": "@jupyter-widgets/base",
          "model_name": "LayoutModel",
          "state": {
            "_view_name": "LayoutView",
            "grid_template_rows": null,
            "right": null,
            "justify_content": null,
            "_view_module": "@jupyter-widgets/base",
            "overflow": null,
            "_model_module_version": "1.2.0",
            "_view_count": null,
            "flex_flow": null,
            "width": null,
            "min_width": null,
            "border": null,
            "align_items": null,
            "bottom": null,
            "_model_module": "@jupyter-widgets/base",
            "top": null,
            "grid_column": null,
            "overflow_y": null,
            "overflow_x": null,
            "grid_auto_flow": null,
            "grid_area": null,
            "grid_template_columns": null,
            "flex": null,
            "_model_name": "LayoutModel",
            "justify_items": null,
            "grid_row": null,
            "max_height": null,
            "align_content": null,
            "visibility": null,
            "align_self": null,
            "height": null,
            "min_height": null,
            "padding": null,
            "grid_auto_rows": null,
            "grid_gap": null,
            "max_width": null,
            "order": null,
            "_view_module_version": "1.2.0",
            "grid_template_areas": null,
            "object_position": null,
            "object_fit": null,
            "grid_auto_columns": null,
            "margin": null,
            "display": null,
            "left": null
          }
        },
        "42c468aa91684801ba2fa88ec3ab9915": {
          "model_module": "@jupyter-widgets/controls",
          "model_name": "HBoxModel",
          "state": {
            "_view_name": "HBoxView",
            "_dom_classes": [],
            "_model_name": "HBoxModel",
            "_view_module": "@jupyter-widgets/controls",
            "_model_module_version": "1.5.0",
            "_view_count": null,
            "_view_module_version": "1.5.0",
            "box_style": "",
            "layout": "IPY_MODEL_9e34054c855840a6bd6deb33572ab56c",
            "_model_module": "@jupyter-widgets/controls",
            "children": [
              "IPY_MODEL_7e9fd57ef6fb4aa8b3bb11506ef3cdde",
              "IPY_MODEL_d5fcc8ad47e04fa7a3f5feac94d033f9"
            ]
          }
        },
        "9e34054c855840a6bd6deb33572ab56c": {
          "model_module": "@jupyter-widgets/base",
          "model_name": "LayoutModel",
          "state": {
            "_view_name": "LayoutView",
            "grid_template_rows": null,
            "right": null,
            "justify_content": null,
            "_view_module": "@jupyter-widgets/base",
            "overflow": null,
            "_model_module_version": "1.2.0",
            "_view_count": null,
            "flex_flow": null,
            "width": null,
            "min_width": null,
            "border": null,
            "align_items": null,
            "bottom": null,
            "_model_module": "@jupyter-widgets/base",
            "top": null,
            "grid_column": null,
            "overflow_y": null,
            "overflow_x": null,
            "grid_auto_flow": null,
            "grid_area": null,
            "grid_template_columns": null,
            "flex": null,
            "_model_name": "LayoutModel",
            "justify_items": null,
            "grid_row": null,
            "max_height": null,
            "align_content": null,
            "visibility": null,
            "align_self": null,
            "height": null,
            "min_height": null,
            "padding": null,
            "grid_auto_rows": null,
            "grid_gap": null,
            "max_width": null,
            "order": null,
            "_view_module_version": "1.2.0",
            "grid_template_areas": null,
            "object_position": null,
            "object_fit": null,
            "grid_auto_columns": null,
            "margin": null,
            "display": null,
            "left": null
          }
        },
        "7e9fd57ef6fb4aa8b3bb11506ef3cdde": {
          "model_module": "@jupyter-widgets/controls",
          "model_name": "FloatProgressModel",
          "state": {
            "_view_name": "ProgressView",
            "style": "IPY_MODEL_40dc98ab51f34a35addb16976acd0205",
            "_dom_classes": [],
            "description": "",
            "_model_name": "FloatProgressModel",
            "bar_style": "info",
            "max": 1,
            "_view_module": "@jupyter-widgets/controls",
            "_model_module_version": "1.5.0",
            "value": 1,
            "_view_count": null,
            "_view_module_version": "1.5.0",
            "orientation": "horizontal",
            "min": 0,
            "description_tooltip": null,
            "_model_module": "@jupyter-widgets/controls",
            "layout": "IPY_MODEL_50f4db07cab84e668dbbc75ab50cb92b"
          }
        },
        "d5fcc8ad47e04fa7a3f5feac94d033f9": {
          "model_module": "@jupyter-widgets/controls",
          "model_name": "HTMLModel",
          "state": {
            "_view_name": "HTMLView",
            "style": "IPY_MODEL_e55a79a39f1e416b890d4db3b76d9585",
            "_dom_classes": [],
            "description": "",
            "_model_name": "HTMLModel",
            "placeholder": "​",
            "_view_module": "@jupyter-widgets/controls",
            "_model_module_version": "1.5.0",
            "value": " 25000/0 [00:13&lt;00:00, 3570.44 examples/s]",
            "_view_count": null,
            "_view_module_version": "1.5.0",
            "description_tooltip": null,
            "_model_module": "@jupyter-widgets/controls",
            "layout": "IPY_MODEL_ffc4f0f734e043e9a405cdfabec2b2ce"
          }
        },
        "40dc98ab51f34a35addb16976acd0205": {
          "model_module": "@jupyter-widgets/controls",
          "model_name": "ProgressStyleModel",
          "state": {
            "_view_name": "StyleView",
            "_model_name": "ProgressStyleModel",
            "description_width": "initial",
            "_view_module": "@jupyter-widgets/base",
            "_model_module_version": "1.5.0",
            "_view_count": null,
            "_view_module_version": "1.2.0",
            "bar_color": null,
            "_model_module": "@jupyter-widgets/controls"
          }
        },
        "50f4db07cab84e668dbbc75ab50cb92b": {
          "model_module": "@jupyter-widgets/base",
          "model_name": "LayoutModel",
          "state": {
            "_view_name": "LayoutView",
            "grid_template_rows": null,
            "right": null,
            "justify_content": null,
            "_view_module": "@jupyter-widgets/base",
            "overflow": null,
            "_model_module_version": "1.2.0",
            "_view_count": null,
            "flex_flow": null,
            "width": null,
            "min_width": null,
            "border": null,
            "align_items": null,
            "bottom": null,
            "_model_module": "@jupyter-widgets/base",
            "top": null,
            "grid_column": null,
            "overflow_y": null,
            "overflow_x": null,
            "grid_auto_flow": null,
            "grid_area": null,
            "grid_template_columns": null,
            "flex": null,
            "_model_name": "LayoutModel",
            "justify_items": null,
            "grid_row": null,
            "max_height": null,
            "align_content": null,
            "visibility": null,
            "align_self": null,
            "height": null,
            "min_height": null,
            "padding": null,
            "grid_auto_rows": null,
            "grid_gap": null,
            "max_width": null,
            "order": null,
            "_view_module_version": "1.2.0",
            "grid_template_areas": null,
            "object_position": null,
            "object_fit": null,
            "grid_auto_columns": null,
            "margin": null,
            "display": null,
            "left": null
          }
        },
        "e55a79a39f1e416b890d4db3b76d9585": {
          "model_module": "@jupyter-widgets/controls",
          "model_name": "DescriptionStyleModel",
          "state": {
            "_view_name": "StyleView",
            "_model_name": "DescriptionStyleModel",
            "description_width": "",
            "_view_module": "@jupyter-widgets/base",
            "_model_module_version": "1.5.0",
            "_view_count": null,
            "_view_module_version": "1.2.0",
            "_model_module": "@jupyter-widgets/controls"
          }
        },
        "ffc4f0f734e043e9a405cdfabec2b2ce": {
          "model_module": "@jupyter-widgets/base",
          "model_name": "LayoutModel",
          "state": {
            "_view_name": "LayoutView",
            "grid_template_rows": null,
            "right": null,
            "justify_content": null,
            "_view_module": "@jupyter-widgets/base",
            "overflow": null,
            "_model_module_version": "1.2.0",
            "_view_count": null,
            "flex_flow": null,
            "width": null,
            "min_width": null,
            "border": null,
            "align_items": null,
            "bottom": null,
            "_model_module": "@jupyter-widgets/base",
            "top": null,
            "grid_column": null,
            "overflow_y": null,
            "overflow_x": null,
            "grid_auto_flow": null,
            "grid_area": null,
            "grid_template_columns": null,
            "flex": null,
            "_model_name": "LayoutModel",
            "justify_items": null,
            "grid_row": null,
            "max_height": null,
            "align_content": null,
            "visibility": null,
            "align_self": null,
            "height": null,
            "min_height": null,
            "padding": null,
            "grid_auto_rows": null,
            "grid_gap": null,
            "max_width": null,
            "order": null,
            "_view_module_version": "1.2.0",
            "grid_template_areas": null,
            "object_position": null,
            "object_fit": null,
            "grid_auto_columns": null,
            "margin": null,
            "display": null,
            "left": null
          }
        },
        "3f7fc7fb67974d809d211d4889c02f40": {
          "model_module": "@jupyter-widgets/controls",
          "model_name": "HBoxModel",
          "state": {
            "_view_name": "HBoxView",
            "_dom_classes": [],
            "_model_name": "HBoxModel",
            "_view_module": "@jupyter-widgets/controls",
            "_model_module_version": "1.5.0",
            "_view_count": null,
            "_view_module_version": "1.5.0",
            "box_style": "",
            "layout": "IPY_MODEL_a5a9612a4f994182a4bd29d9dd8e6bc4",
            "_model_module": "@jupyter-widgets/controls",
            "children": [
              "IPY_MODEL_419e6430e59c4fcf9c183f862e5f279d",
              "IPY_MODEL_44acb3d84f474a17870f373313b9064c"
            ]
          }
        },
        "a5a9612a4f994182a4bd29d9dd8e6bc4": {
          "model_module": "@jupyter-widgets/base",
          "model_name": "LayoutModel",
          "state": {
            "_view_name": "LayoutView",
            "grid_template_rows": null,
            "right": null,
            "justify_content": null,
            "_view_module": "@jupyter-widgets/base",
            "overflow": null,
            "_model_module_version": "1.2.0",
            "_view_count": null,
            "flex_flow": null,
            "width": null,
            "min_width": null,
            "border": null,
            "align_items": null,
            "bottom": null,
            "_model_module": "@jupyter-widgets/base",
            "top": null,
            "grid_column": null,
            "overflow_y": null,
            "overflow_x": null,
            "grid_auto_flow": null,
            "grid_area": null,
            "grid_template_columns": null,
            "flex": null,
            "_model_name": "LayoutModel",
            "justify_items": null,
            "grid_row": null,
            "max_height": null,
            "align_content": null,
            "visibility": null,
            "align_self": null,
            "height": null,
            "min_height": null,
            "padding": null,
            "grid_auto_rows": null,
            "grid_gap": null,
            "max_width": null,
            "order": null,
            "_view_module_version": "1.2.0",
            "grid_template_areas": null,
            "object_position": null,
            "object_fit": null,
            "grid_auto_columns": null,
            "margin": null,
            "display": null,
            "left": null
          }
        },
        "419e6430e59c4fcf9c183f862e5f279d": {
          "model_module": "@jupyter-widgets/controls",
          "model_name": "FloatProgressModel",
          "state": {
            "_view_name": "ProgressView",
            "style": "IPY_MODEL_530b578dc957425eaafe478270ab43ee",
            "_dom_classes": [],
            "description": " 51%",
            "_model_name": "FloatProgressModel",
            "bar_style": "danger",
            "max": 25000,
            "_view_module": "@jupyter-widgets/controls",
            "_model_module_version": "1.5.0",
            "value": 12677,
            "_view_count": null,
            "_view_module_version": "1.5.0",
            "orientation": "horizontal",
            "min": 0,
            "description_tooltip": null,
            "_model_module": "@jupyter-widgets/controls",
            "layout": "IPY_MODEL_cc7f4a2135294857af374ecc9cfd652a"
          }
        },
        "44acb3d84f474a17870f373313b9064c": {
          "model_module": "@jupyter-widgets/controls",
          "model_name": "HTMLModel",
          "state": {
            "_view_name": "HTMLView",
            "style": "IPY_MODEL_ecf0548a22114c51b7dd05392cc6ed4c",
            "_dom_classes": [],
            "description": "",
            "_model_name": "HTMLModel",
            "placeholder": "​",
            "_view_module": "@jupyter-widgets/controls",
            "_model_module_version": "1.5.0",
            "value": " 12677/25000 [00:00&lt;00:00, 126769.52 examples/s]",
            "_view_count": null,
            "_view_module_version": "1.5.0",
            "description_tooltip": null,
            "_model_module": "@jupyter-widgets/controls",
            "layout": "IPY_MODEL_65be851fb131412ba277525a42d7a800"
          }
        },
        "530b578dc957425eaafe478270ab43ee": {
          "model_module": "@jupyter-widgets/controls",
          "model_name": "ProgressStyleModel",
          "state": {
            "_view_name": "StyleView",
            "_model_name": "ProgressStyleModel",
            "description_width": "initial",
            "_view_module": "@jupyter-widgets/base",
            "_model_module_version": "1.5.0",
            "_view_count": null,
            "_view_module_version": "1.2.0",
            "bar_color": null,
            "_model_module": "@jupyter-widgets/controls"
          }
        },
        "cc7f4a2135294857af374ecc9cfd652a": {
          "model_module": "@jupyter-widgets/base",
          "model_name": "LayoutModel",
          "state": {
            "_view_name": "LayoutView",
            "grid_template_rows": null,
            "right": null,
            "justify_content": null,
            "_view_module": "@jupyter-widgets/base",
            "overflow": null,
            "_model_module_version": "1.2.0",
            "_view_count": null,
            "flex_flow": null,
            "width": null,
            "min_width": null,
            "border": null,
            "align_items": null,
            "bottom": null,
            "_model_module": "@jupyter-widgets/base",
            "top": null,
            "grid_column": null,
            "overflow_y": null,
            "overflow_x": null,
            "grid_auto_flow": null,
            "grid_area": null,
            "grid_template_columns": null,
            "flex": null,
            "_model_name": "LayoutModel",
            "justify_items": null,
            "grid_row": null,
            "max_height": null,
            "align_content": null,
            "visibility": null,
            "align_self": null,
            "height": null,
            "min_height": null,
            "padding": null,
            "grid_auto_rows": null,
            "grid_gap": null,
            "max_width": null,
            "order": null,
            "_view_module_version": "1.2.0",
            "grid_template_areas": null,
            "object_position": null,
            "object_fit": null,
            "grid_auto_columns": null,
            "margin": null,
            "display": null,
            "left": null
          }
        },
        "ecf0548a22114c51b7dd05392cc6ed4c": {
          "model_module": "@jupyter-widgets/controls",
          "model_name": "DescriptionStyleModel",
          "state": {
            "_view_name": "StyleView",
            "_model_name": "DescriptionStyleModel",
            "description_width": "",
            "_view_module": "@jupyter-widgets/base",
            "_model_module_version": "1.5.0",
            "_view_count": null,
            "_view_module_version": "1.2.0",
            "_model_module": "@jupyter-widgets/controls"
          }
        },
        "65be851fb131412ba277525a42d7a800": {
          "model_module": "@jupyter-widgets/base",
          "model_name": "LayoutModel",
          "state": {
            "_view_name": "LayoutView",
            "grid_template_rows": null,
            "right": null,
            "justify_content": null,
            "_view_module": "@jupyter-widgets/base",
            "overflow": null,
            "_model_module_version": "1.2.0",
            "_view_count": null,
            "flex_flow": null,
            "width": null,
            "min_width": null,
            "border": null,
            "align_items": null,
            "bottom": null,
            "_model_module": "@jupyter-widgets/base",
            "top": null,
            "grid_column": null,
            "overflow_y": null,
            "overflow_x": null,
            "grid_auto_flow": null,
            "grid_area": null,
            "grid_template_columns": null,
            "flex": null,
            "_model_name": "LayoutModel",
            "justify_items": null,
            "grid_row": null,
            "max_height": null,
            "align_content": null,
            "visibility": null,
            "align_self": null,
            "height": null,
            "min_height": null,
            "padding": null,
            "grid_auto_rows": null,
            "grid_gap": null,
            "max_width": null,
            "order": null,
            "_view_module_version": "1.2.0",
            "grid_template_areas": null,
            "object_position": null,
            "object_fit": null,
            "grid_auto_columns": null,
            "margin": null,
            "display": null,
            "left": null
          }
        },
        "8f6ba089078c43a5a01272e7800cb139": {
          "model_module": "@jupyter-widgets/controls",
          "model_name": "HBoxModel",
          "state": {
            "_view_name": "HBoxView",
            "_dom_classes": [],
            "_model_name": "HBoxModel",
            "_view_module": "@jupyter-widgets/controls",
            "_model_module_version": "1.5.0",
            "_view_count": null,
            "_view_module_version": "1.5.0",
            "box_style": "",
            "layout": "IPY_MODEL_3a64b0ba9fe0415cadf0c66946ac9fd6",
            "_model_module": "@jupyter-widgets/controls",
            "children": [
              "IPY_MODEL_e5a2e9163a07430892c64e548a5de12b",
              "IPY_MODEL_5c985084874243f08f70d61fbafc5a64"
            ]
          }
        },
        "3a64b0ba9fe0415cadf0c66946ac9fd6": {
          "model_module": "@jupyter-widgets/base",
          "model_name": "LayoutModel",
          "state": {
            "_view_name": "LayoutView",
            "grid_template_rows": null,
            "right": null,
            "justify_content": null,
            "_view_module": "@jupyter-widgets/base",
            "overflow": null,
            "_model_module_version": "1.2.0",
            "_view_count": null,
            "flex_flow": null,
            "width": null,
            "min_width": null,
            "border": null,
            "align_items": null,
            "bottom": null,
            "_model_module": "@jupyter-widgets/base",
            "top": null,
            "grid_column": null,
            "overflow_y": null,
            "overflow_x": null,
            "grid_auto_flow": null,
            "grid_area": null,
            "grid_template_columns": null,
            "flex": null,
            "_model_name": "LayoutModel",
            "justify_items": null,
            "grid_row": null,
            "max_height": null,
            "align_content": null,
            "visibility": null,
            "align_self": null,
            "height": null,
            "min_height": null,
            "padding": null,
            "grid_auto_rows": null,
            "grid_gap": null,
            "max_width": null,
            "order": null,
            "_view_module_version": "1.2.0",
            "grid_template_areas": null,
            "object_position": null,
            "object_fit": null,
            "grid_auto_columns": null,
            "margin": null,
            "display": null,
            "left": null
          }
        },
        "e5a2e9163a07430892c64e548a5de12b": {
          "model_module": "@jupyter-widgets/controls",
          "model_name": "FloatProgressModel",
          "state": {
            "_view_name": "ProgressView",
            "style": "IPY_MODEL_7839051f700a471882a19fe00749155a",
            "_dom_classes": [],
            "description": "",
            "_model_name": "FloatProgressModel",
            "bar_style": "info",
            "max": 1,
            "_view_module": "@jupyter-widgets/controls",
            "_model_module_version": "1.5.0",
            "value": 1,
            "_view_count": null,
            "_view_module_version": "1.5.0",
            "orientation": "horizontal",
            "min": 0,
            "description_tooltip": null,
            "_model_module": "@jupyter-widgets/controls",
            "layout": "IPY_MODEL_3e69569c860c4d6b934e1c97b47aa73f"
          }
        },
        "5c985084874243f08f70d61fbafc5a64": {
          "model_module": "@jupyter-widgets/controls",
          "model_name": "HTMLModel",
          "state": {
            "_view_name": "HTMLView",
            "style": "IPY_MODEL_c1c09a8000fc40e5a3f1cdd3fa377417",
            "_dom_classes": [],
            "description": "",
            "_model_name": "HTMLModel",
            "placeholder": "​",
            "_view_module": "@jupyter-widgets/controls",
            "_model_module_version": "1.5.0",
            "value": " 50000/0 [00:18&lt;00:00, 3394.70 examples/s]",
            "_view_count": null,
            "_view_module_version": "1.5.0",
            "description_tooltip": null,
            "_model_module": "@jupyter-widgets/controls",
            "layout": "IPY_MODEL_9c2e97cbab4948cb925b5e44e1f63a6c"
          }
        },
        "7839051f700a471882a19fe00749155a": {
          "model_module": "@jupyter-widgets/controls",
          "model_name": "ProgressStyleModel",
          "state": {
            "_view_name": "StyleView",
            "_model_name": "ProgressStyleModel",
            "description_width": "initial",
            "_view_module": "@jupyter-widgets/base",
            "_model_module_version": "1.5.0",
            "_view_count": null,
            "_view_module_version": "1.2.0",
            "bar_color": null,
            "_model_module": "@jupyter-widgets/controls"
          }
        },
        "3e69569c860c4d6b934e1c97b47aa73f": {
          "model_module": "@jupyter-widgets/base",
          "model_name": "LayoutModel",
          "state": {
            "_view_name": "LayoutView",
            "grid_template_rows": null,
            "right": null,
            "justify_content": null,
            "_view_module": "@jupyter-widgets/base",
            "overflow": null,
            "_model_module_version": "1.2.0",
            "_view_count": null,
            "flex_flow": null,
            "width": null,
            "min_width": null,
            "border": null,
            "align_items": null,
            "bottom": null,
            "_model_module": "@jupyter-widgets/base",
            "top": null,
            "grid_column": null,
            "overflow_y": null,
            "overflow_x": null,
            "grid_auto_flow": null,
            "grid_area": null,
            "grid_template_columns": null,
            "flex": null,
            "_model_name": "LayoutModel",
            "justify_items": null,
            "grid_row": null,
            "max_height": null,
            "align_content": null,
            "visibility": null,
            "align_self": null,
            "height": null,
            "min_height": null,
            "padding": null,
            "grid_auto_rows": null,
            "grid_gap": null,
            "max_width": null,
            "order": null,
            "_view_module_version": "1.2.0",
            "grid_template_areas": null,
            "object_position": null,
            "object_fit": null,
            "grid_auto_columns": null,
            "margin": null,
            "display": null,
            "left": null
          }
        },
        "c1c09a8000fc40e5a3f1cdd3fa377417": {
          "model_module": "@jupyter-widgets/controls",
          "model_name": "DescriptionStyleModel",
          "state": {
            "_view_name": "StyleView",
            "_model_name": "DescriptionStyleModel",
            "description_width": "",
            "_view_module": "@jupyter-widgets/base",
            "_model_module_version": "1.5.0",
            "_view_count": null,
            "_view_module_version": "1.2.0",
            "_model_module": "@jupyter-widgets/controls"
          }
        },
        "9c2e97cbab4948cb925b5e44e1f63a6c": {
          "model_module": "@jupyter-widgets/base",
          "model_name": "LayoutModel",
          "state": {
            "_view_name": "LayoutView",
            "grid_template_rows": null,
            "right": null,
            "justify_content": null,
            "_view_module": "@jupyter-widgets/base",
            "overflow": null,
            "_model_module_version": "1.2.0",
            "_view_count": null,
            "flex_flow": null,
            "width": null,
            "min_width": null,
            "border": null,
            "align_items": null,
            "bottom": null,
            "_model_module": "@jupyter-widgets/base",
            "top": null,
            "grid_column": null,
            "overflow_y": null,
            "overflow_x": null,
            "grid_auto_flow": null,
            "grid_area": null,
            "grid_template_columns": null,
            "flex": null,
            "_model_name": "LayoutModel",
            "justify_items": null,
            "grid_row": null,
            "max_height": null,
            "align_content": null,
            "visibility": null,
            "align_self": null,
            "height": null,
            "min_height": null,
            "padding": null,
            "grid_auto_rows": null,
            "grid_gap": null,
            "max_width": null,
            "order": null,
            "_view_module_version": "1.2.0",
            "grid_template_areas": null,
            "object_position": null,
            "object_fit": null,
            "grid_auto_columns": null,
            "margin": null,
            "display": null,
            "left": null
          }
        },
        "36d935b5547d40a19f8a0cae6b0adfcf": {
          "model_module": "@jupyter-widgets/controls",
          "model_name": "HBoxModel",
          "state": {
            "_view_name": "HBoxView",
            "_dom_classes": [],
            "_model_name": "HBoxModel",
            "_view_module": "@jupyter-widgets/controls",
            "_model_module_version": "1.5.0",
            "_view_count": null,
            "_view_module_version": "1.5.0",
            "box_style": "",
            "layout": "IPY_MODEL_3a0205ded90149d89c0dbdd18ce0fb97",
            "_model_module": "@jupyter-widgets/controls",
            "children": [
              "IPY_MODEL_822492b8887441bfb15fd141704e0e10",
              "IPY_MODEL_f37acd7a6788477595bb9d9c7c84fa11"
            ]
          }
        },
        "3a0205ded90149d89c0dbdd18ce0fb97": {
          "model_module": "@jupyter-widgets/base",
          "model_name": "LayoutModel",
          "state": {
            "_view_name": "LayoutView",
            "grid_template_rows": null,
            "right": null,
            "justify_content": null,
            "_view_module": "@jupyter-widgets/base",
            "overflow": null,
            "_model_module_version": "1.2.0",
            "_view_count": null,
            "flex_flow": null,
            "width": null,
            "min_width": null,
            "border": null,
            "align_items": null,
            "bottom": null,
            "_model_module": "@jupyter-widgets/base",
            "top": null,
            "grid_column": null,
            "overflow_y": null,
            "overflow_x": null,
            "grid_auto_flow": null,
            "grid_area": null,
            "grid_template_columns": null,
            "flex": null,
            "_model_name": "LayoutModel",
            "justify_items": null,
            "grid_row": null,
            "max_height": null,
            "align_content": null,
            "visibility": null,
            "align_self": null,
            "height": null,
            "min_height": null,
            "padding": null,
            "grid_auto_rows": null,
            "grid_gap": null,
            "max_width": null,
            "order": null,
            "_view_module_version": "1.2.0",
            "grid_template_areas": null,
            "object_position": null,
            "object_fit": null,
            "grid_auto_columns": null,
            "margin": null,
            "display": null,
            "left": null
          }
        },
        "822492b8887441bfb15fd141704e0e10": {
          "model_module": "@jupyter-widgets/controls",
          "model_name": "FloatProgressModel",
          "state": {
            "_view_name": "ProgressView",
            "style": "IPY_MODEL_e20a1ab880ed4935aece3115b804ded0",
            "_dom_classes": [],
            "description": " 96%",
            "_model_name": "FloatProgressModel",
            "bar_style": "danger",
            "max": 50000,
            "_view_module": "@jupyter-widgets/controls",
            "_model_module_version": "1.5.0",
            "value": 48139,
            "_view_count": null,
            "_view_module_version": "1.5.0",
            "orientation": "horizontal",
            "min": 0,
            "description_tooltip": null,
            "_model_module": "@jupyter-widgets/controls",
            "layout": "IPY_MODEL_65581027d5d74d1b816481c4ec3c8fb2"
          }
        },
        "f37acd7a6788477595bb9d9c7c84fa11": {
          "model_module": "@jupyter-widgets/controls",
          "model_name": "HTMLModel",
          "state": {
            "_view_name": "HTMLView",
            "style": "IPY_MODEL_c289dfcaf82540b5aac76e2835c5bca9",
            "_dom_classes": [],
            "description": "",
            "_model_name": "HTMLModel",
            "placeholder": "​",
            "_view_module": "@jupyter-widgets/controls",
            "_model_module_version": "1.5.0",
            "value": " 48139/50000 [00:00&lt;00:00, 40140.87 examples/s]",
            "_view_count": null,
            "_view_module_version": "1.5.0",
            "description_tooltip": null,
            "_model_module": "@jupyter-widgets/controls",
            "layout": "IPY_MODEL_f68a56500b644a95a15628df5dc966dd"
          }
        },
        "e20a1ab880ed4935aece3115b804ded0": {
          "model_module": "@jupyter-widgets/controls",
          "model_name": "ProgressStyleModel",
          "state": {
            "_view_name": "StyleView",
            "_model_name": "ProgressStyleModel",
            "description_width": "initial",
            "_view_module": "@jupyter-widgets/base",
            "_model_module_version": "1.5.0",
            "_view_count": null,
            "_view_module_version": "1.2.0",
            "bar_color": null,
            "_model_module": "@jupyter-widgets/controls"
          }
        },
        "65581027d5d74d1b816481c4ec3c8fb2": {
          "model_module": "@jupyter-widgets/base",
          "model_name": "LayoutModel",
          "state": {
            "_view_name": "LayoutView",
            "grid_template_rows": null,
            "right": null,
            "justify_content": null,
            "_view_module": "@jupyter-widgets/base",
            "overflow": null,
            "_model_module_version": "1.2.0",
            "_view_count": null,
            "flex_flow": null,
            "width": null,
            "min_width": null,
            "border": null,
            "align_items": null,
            "bottom": null,
            "_model_module": "@jupyter-widgets/base",
            "top": null,
            "grid_column": null,
            "overflow_y": null,
            "overflow_x": null,
            "grid_auto_flow": null,
            "grid_area": null,
            "grid_template_columns": null,
            "flex": null,
            "_model_name": "LayoutModel",
            "justify_items": null,
            "grid_row": null,
            "max_height": null,
            "align_content": null,
            "visibility": null,
            "align_self": null,
            "height": null,
            "min_height": null,
            "padding": null,
            "grid_auto_rows": null,
            "grid_gap": null,
            "max_width": null,
            "order": null,
            "_view_module_version": "1.2.0",
            "grid_template_areas": null,
            "object_position": null,
            "object_fit": null,
            "grid_auto_columns": null,
            "margin": null,
            "display": null,
            "left": null
          }
        },
        "c289dfcaf82540b5aac76e2835c5bca9": {
          "model_module": "@jupyter-widgets/controls",
          "model_name": "DescriptionStyleModel",
          "state": {
            "_view_name": "StyleView",
            "_model_name": "DescriptionStyleModel",
            "description_width": "",
            "_view_module": "@jupyter-widgets/base",
            "_model_module_version": "1.5.0",
            "_view_count": null,
            "_view_module_version": "1.2.0",
            "_model_module": "@jupyter-widgets/controls"
          }
        },
        "f68a56500b644a95a15628df5dc966dd": {
          "model_module": "@jupyter-widgets/base",
          "model_name": "LayoutModel",
          "state": {
            "_view_name": "LayoutView",
            "grid_template_rows": null,
            "right": null,
            "justify_content": null,
            "_view_module": "@jupyter-widgets/base",
            "overflow": null,
            "_model_module_version": "1.2.0",
            "_view_count": null,
            "flex_flow": null,
            "width": null,
            "min_width": null,
            "border": null,
            "align_items": null,
            "bottom": null,
            "_model_module": "@jupyter-widgets/base",
            "top": null,
            "grid_column": null,
            "overflow_y": null,
            "overflow_x": null,
            "grid_auto_flow": null,
            "grid_area": null,
            "grid_template_columns": null,
            "flex": null,
            "_model_name": "LayoutModel",
            "justify_items": null,
            "grid_row": null,
            "max_height": null,
            "align_content": null,
            "visibility": null,
            "align_self": null,
            "height": null,
            "min_height": null,
            "padding": null,
            "grid_auto_rows": null,
            "grid_gap": null,
            "max_width": null,
            "order": null,
            "_view_module_version": "1.2.0",
            "grid_template_areas": null,
            "object_position": null,
            "object_fit": null,
            "grid_auto_columns": null,
            "margin": null,
            "display": null,
            "left": null
          }
        },
        "5725bd5fe95045d39d6b377b9ad1c734": {
          "model_module": "@jupyter-widgets/controls",
          "model_name": "HBoxModel",
          "state": {
            "_view_name": "HBoxView",
            "_dom_classes": [],
            "_model_name": "HBoxModel",
            "_view_module": "@jupyter-widgets/controls",
            "_model_module_version": "1.5.0",
            "_view_count": null,
            "_view_module_version": "1.5.0",
            "box_style": "",
            "layout": "IPY_MODEL_943e017fc4c745c8bc49c3a9f70664ac",
            "_model_module": "@jupyter-widgets/controls",
            "children": [
              "IPY_MODEL_dcea4da3be57424ba9acfc74278ed431",
              "IPY_MODEL_84f6d94c2cec4857963eb6acc6c77e73"
            ]
          }
        },
        "943e017fc4c745c8bc49c3a9f70664ac": {
          "model_module": "@jupyter-widgets/base",
          "model_name": "LayoutModel",
          "state": {
            "_view_name": "LayoutView",
            "grid_template_rows": null,
            "right": null,
            "justify_content": null,
            "_view_module": "@jupyter-widgets/base",
            "overflow": null,
            "_model_module_version": "1.2.0",
            "_view_count": null,
            "flex_flow": null,
            "width": null,
            "min_width": null,
            "border": null,
            "align_items": null,
            "bottom": null,
            "_model_module": "@jupyter-widgets/base",
            "top": null,
            "grid_column": null,
            "overflow_y": null,
            "overflow_x": null,
            "grid_auto_flow": null,
            "grid_area": null,
            "grid_template_columns": null,
            "flex": null,
            "_model_name": "LayoutModel",
            "justify_items": null,
            "grid_row": null,
            "max_height": null,
            "align_content": null,
            "visibility": null,
            "align_self": null,
            "height": null,
            "min_height": null,
            "padding": null,
            "grid_auto_rows": null,
            "grid_gap": null,
            "max_width": null,
            "order": null,
            "_view_module_version": "1.2.0",
            "grid_template_areas": null,
            "object_position": null,
            "object_fit": null,
            "grid_auto_columns": null,
            "margin": null,
            "display": null,
            "left": null
          }
        },
        "dcea4da3be57424ba9acfc74278ed431": {
          "model_module": "@jupyter-widgets/controls",
          "model_name": "FloatProgressModel",
          "state": {
            "_view_name": "ProgressView",
            "style": "IPY_MODEL_1ec7a717e701494683441e4fd0b2b9c5",
            "_dom_classes": [],
            "description": "Downloading: 100%",
            "_model_name": "FloatProgressModel",
            "bar_style": "success",
            "max": 213450,
            "_view_module": "@jupyter-widgets/controls",
            "_model_module_version": "1.5.0",
            "value": 213450,
            "_view_count": null,
            "_view_module_version": "1.5.0",
            "orientation": "horizontal",
            "min": 0,
            "description_tooltip": null,
            "_model_module": "@jupyter-widgets/controls",
            "layout": "IPY_MODEL_574e37422d434f6bad6163507803a656"
          }
        },
        "84f6d94c2cec4857963eb6acc6c77e73": {
          "model_module": "@jupyter-widgets/controls",
          "model_name": "HTMLModel",
          "state": {
            "_view_name": "HTMLView",
            "style": "IPY_MODEL_39bc362addf94e969a2ad9b720e0ad18",
            "_dom_classes": [],
            "description": "",
            "_model_name": "HTMLModel",
            "placeholder": "​",
            "_view_module": "@jupyter-widgets/controls",
            "_model_module_version": "1.5.0",
            "value": " 213k/213k [02:07&lt;00:00, 1.67kB/s]",
            "_view_count": null,
            "_view_module_version": "1.5.0",
            "description_tooltip": null,
            "_model_module": "@jupyter-widgets/controls",
            "layout": "IPY_MODEL_d8c1ab19222341299926a65c27071108"
          }
        },
        "1ec7a717e701494683441e4fd0b2b9c5": {
          "model_module": "@jupyter-widgets/controls",
          "model_name": "ProgressStyleModel",
          "state": {
            "_view_name": "StyleView",
            "_model_name": "ProgressStyleModel",
            "description_width": "initial",
            "_view_module": "@jupyter-widgets/base",
            "_model_module_version": "1.5.0",
            "_view_count": null,
            "_view_module_version": "1.2.0",
            "bar_color": null,
            "_model_module": "@jupyter-widgets/controls"
          }
        },
        "574e37422d434f6bad6163507803a656": {
          "model_module": "@jupyter-widgets/base",
          "model_name": "LayoutModel",
          "state": {
            "_view_name": "LayoutView",
            "grid_template_rows": null,
            "right": null,
            "justify_content": null,
            "_view_module": "@jupyter-widgets/base",
            "overflow": null,
            "_model_module_version": "1.2.0",
            "_view_count": null,
            "flex_flow": null,
            "width": null,
            "min_width": null,
            "border": null,
            "align_items": null,
            "bottom": null,
            "_model_module": "@jupyter-widgets/base",
            "top": null,
            "grid_column": null,
            "overflow_y": null,
            "overflow_x": null,
            "grid_auto_flow": null,
            "grid_area": null,
            "grid_template_columns": null,
            "flex": null,
            "_model_name": "LayoutModel",
            "justify_items": null,
            "grid_row": null,
            "max_height": null,
            "align_content": null,
            "visibility": null,
            "align_self": null,
            "height": null,
            "min_height": null,
            "padding": null,
            "grid_auto_rows": null,
            "grid_gap": null,
            "max_width": null,
            "order": null,
            "_view_module_version": "1.2.0",
            "grid_template_areas": null,
            "object_position": null,
            "object_fit": null,
            "grid_auto_columns": null,
            "margin": null,
            "display": null,
            "left": null
          }
        },
        "39bc362addf94e969a2ad9b720e0ad18": {
          "model_module": "@jupyter-widgets/controls",
          "model_name": "DescriptionStyleModel",
          "state": {
            "_view_name": "StyleView",
            "_model_name": "DescriptionStyleModel",
            "description_width": "",
            "_view_module": "@jupyter-widgets/base",
            "_model_module_version": "1.5.0",
            "_view_count": null,
            "_view_module_version": "1.2.0",
            "_model_module": "@jupyter-widgets/controls"
          }
        },
        "d8c1ab19222341299926a65c27071108": {
          "model_module": "@jupyter-widgets/base",
          "model_name": "LayoutModel",
          "state": {
            "_view_name": "LayoutView",
            "grid_template_rows": null,
            "right": null,
            "justify_content": null,
            "_view_module": "@jupyter-widgets/base",
            "overflow": null,
            "_model_module_version": "1.2.0",
            "_view_count": null,
            "flex_flow": null,
            "width": null,
            "min_width": null,
            "border": null,
            "align_items": null,
            "bottom": null,
            "_model_module": "@jupyter-widgets/base",
            "top": null,
            "grid_column": null,
            "overflow_y": null,
            "overflow_x": null,
            "grid_auto_flow": null,
            "grid_area": null,
            "grid_template_columns": null,
            "flex": null,
            "_model_name": "LayoutModel",
            "justify_items": null,
            "grid_row": null,
            "max_height": null,
            "align_content": null,
            "visibility": null,
            "align_self": null,
            "height": null,
            "min_height": null,
            "padding": null,
            "grid_auto_rows": null,
            "grid_gap": null,
            "max_width": null,
            "order": null,
            "_view_module_version": "1.2.0",
            "grid_template_areas": null,
            "object_position": null,
            "object_fit": null,
            "grid_auto_columns": null,
            "margin": null,
            "display": null,
            "left": null
          }
        },
        "d774ab6c8b1c4b9a8d25085160806cf2": {
          "model_module": "@jupyter-widgets/controls",
          "model_name": "HBoxModel",
          "state": {
            "_view_name": "HBoxView",
            "_dom_classes": [],
            "_model_name": "HBoxModel",
            "_view_module": "@jupyter-widgets/controls",
            "_model_module_version": "1.5.0",
            "_view_count": null,
            "_view_module_version": "1.5.0",
            "box_style": "",
            "layout": "IPY_MODEL_c8823e0f460348af99aa9422c3e6db8c",
            "_model_module": "@jupyter-widgets/controls",
            "children": [
              "IPY_MODEL_1a9334f372724f4fb95aacab7d8dfcd6",
              "IPY_MODEL_d8496e5c41054f58837618de0928b3d6"
            ]
          }
        },
        "c8823e0f460348af99aa9422c3e6db8c": {
          "model_module": "@jupyter-widgets/base",
          "model_name": "LayoutModel",
          "state": {
            "_view_name": "LayoutView",
            "grid_template_rows": null,
            "right": null,
            "justify_content": null,
            "_view_module": "@jupyter-widgets/base",
            "overflow": null,
            "_model_module_version": "1.2.0",
            "_view_count": null,
            "flex_flow": null,
            "width": null,
            "min_width": null,
            "border": null,
            "align_items": null,
            "bottom": null,
            "_model_module": "@jupyter-widgets/base",
            "top": null,
            "grid_column": null,
            "overflow_y": null,
            "overflow_x": null,
            "grid_auto_flow": null,
            "grid_area": null,
            "grid_template_columns": null,
            "flex": null,
            "_model_name": "LayoutModel",
            "justify_items": null,
            "grid_row": null,
            "max_height": null,
            "align_content": null,
            "visibility": null,
            "align_self": null,
            "height": null,
            "min_height": null,
            "padding": null,
            "grid_auto_rows": null,
            "grid_gap": null,
            "max_width": null,
            "order": null,
            "_view_module_version": "1.2.0",
            "grid_template_areas": null,
            "object_position": null,
            "object_fit": null,
            "grid_auto_columns": null,
            "margin": null,
            "display": null,
            "left": null
          }
        },
        "1a9334f372724f4fb95aacab7d8dfcd6": {
          "model_module": "@jupyter-widgets/controls",
          "model_name": "FloatProgressModel",
          "state": {
            "_view_name": "ProgressView",
            "style": "IPY_MODEL_e5a7c72557c14719a6f8b26f32bf179b",
            "_dom_classes": [],
            "description": "Downloading: 100%",
            "_model_name": "FloatProgressModel",
            "bar_style": "success",
            "max": 29,
            "_view_module": "@jupyter-widgets/controls",
            "_model_module_version": "1.5.0",
            "value": 29,
            "_view_count": null,
            "_view_module_version": "1.5.0",
            "orientation": "horizontal",
            "min": 0,
            "description_tooltip": null,
            "_model_module": "@jupyter-widgets/controls",
            "layout": "IPY_MODEL_3e170a362c70479e985522ff8cd03d26"
          }
        },
        "d8496e5c41054f58837618de0928b3d6": {
          "model_module": "@jupyter-widgets/controls",
          "model_name": "HTMLModel",
          "state": {
            "_view_name": "HTMLView",
            "style": "IPY_MODEL_9a6bc743e2404737b869c0722519b403",
            "_dom_classes": [],
            "description": "",
            "_model_name": "HTMLModel",
            "placeholder": "​",
            "_view_module": "@jupyter-widgets/controls",
            "_model_module_version": "1.5.0",
            "value": " 29.0/29.0 [00:00&lt;00:00, 36.6B/s]",
            "_view_count": null,
            "_view_module_version": "1.5.0",
            "description_tooltip": null,
            "_model_module": "@jupyter-widgets/controls",
            "layout": "IPY_MODEL_1c0829f2abf548a4b901db25ef111bb6"
          }
        },
        "e5a7c72557c14719a6f8b26f32bf179b": {
          "model_module": "@jupyter-widgets/controls",
          "model_name": "ProgressStyleModel",
          "state": {
            "_view_name": "StyleView",
            "_model_name": "ProgressStyleModel",
            "description_width": "initial",
            "_view_module": "@jupyter-widgets/base",
            "_model_module_version": "1.5.0",
            "_view_count": null,
            "_view_module_version": "1.2.0",
            "bar_color": null,
            "_model_module": "@jupyter-widgets/controls"
          }
        },
        "3e170a362c70479e985522ff8cd03d26": {
          "model_module": "@jupyter-widgets/base",
          "model_name": "LayoutModel",
          "state": {
            "_view_name": "LayoutView",
            "grid_template_rows": null,
            "right": null,
            "justify_content": null,
            "_view_module": "@jupyter-widgets/base",
            "overflow": null,
            "_model_module_version": "1.2.0",
            "_view_count": null,
            "flex_flow": null,
            "width": null,
            "min_width": null,
            "border": null,
            "align_items": null,
            "bottom": null,
            "_model_module": "@jupyter-widgets/base",
            "top": null,
            "grid_column": null,
            "overflow_y": null,
            "overflow_x": null,
            "grid_auto_flow": null,
            "grid_area": null,
            "grid_template_columns": null,
            "flex": null,
            "_model_name": "LayoutModel",
            "justify_items": null,
            "grid_row": null,
            "max_height": null,
            "align_content": null,
            "visibility": null,
            "align_self": null,
            "height": null,
            "min_height": null,
            "padding": null,
            "grid_auto_rows": null,
            "grid_gap": null,
            "max_width": null,
            "order": null,
            "_view_module_version": "1.2.0",
            "grid_template_areas": null,
            "object_position": null,
            "object_fit": null,
            "grid_auto_columns": null,
            "margin": null,
            "display": null,
            "left": null
          }
        },
        "9a6bc743e2404737b869c0722519b403": {
          "model_module": "@jupyter-widgets/controls",
          "model_name": "DescriptionStyleModel",
          "state": {
            "_view_name": "StyleView",
            "_model_name": "DescriptionStyleModel",
            "description_width": "",
            "_view_module": "@jupyter-widgets/base",
            "_model_module_version": "1.5.0",
            "_view_count": null,
            "_view_module_version": "1.2.0",
            "_model_module": "@jupyter-widgets/controls"
          }
        },
        "1c0829f2abf548a4b901db25ef111bb6": {
          "model_module": "@jupyter-widgets/base",
          "model_name": "LayoutModel",
          "state": {
            "_view_name": "LayoutView",
            "grid_template_rows": null,
            "right": null,
            "justify_content": null,
            "_view_module": "@jupyter-widgets/base",
            "overflow": null,
            "_model_module_version": "1.2.0",
            "_view_count": null,
            "flex_flow": null,
            "width": null,
            "min_width": null,
            "border": null,
            "align_items": null,
            "bottom": null,
            "_model_module": "@jupyter-widgets/base",
            "top": null,
            "grid_column": null,
            "overflow_y": null,
            "overflow_x": null,
            "grid_auto_flow": null,
            "grid_area": null,
            "grid_template_columns": null,
            "flex": null,
            "_model_name": "LayoutModel",
            "justify_items": null,
            "grid_row": null,
            "max_height": null,
            "align_content": null,
            "visibility": null,
            "align_self": null,
            "height": null,
            "min_height": null,
            "padding": null,
            "grid_auto_rows": null,
            "grid_gap": null,
            "max_width": null,
            "order": null,
            "_view_module_version": "1.2.0",
            "grid_template_areas": null,
            "object_position": null,
            "object_fit": null,
            "grid_auto_columns": null,
            "margin": null,
            "display": null,
            "left": null
          }
        },
        "ad0059fac62b44baaac28ba870ef6995": {
          "model_module": "@jupyter-widgets/controls",
          "model_name": "HBoxModel",
          "state": {
            "_view_name": "HBoxView",
            "_dom_classes": [],
            "_model_name": "HBoxModel",
            "_view_module": "@jupyter-widgets/controls",
            "_model_module_version": "1.5.0",
            "_view_count": null,
            "_view_module_version": "1.5.0",
            "box_style": "",
            "layout": "IPY_MODEL_937159a3eac44f448212a5aadffdccd2",
            "_model_module": "@jupyter-widgets/controls",
            "children": [
              "IPY_MODEL_9198cd782bb34f8082a62935a7f2b7ff",
              "IPY_MODEL_4099f32de3e2481bae5f1a4c7c711809"
            ]
          }
        },
        "937159a3eac44f448212a5aadffdccd2": {
          "model_module": "@jupyter-widgets/base",
          "model_name": "LayoutModel",
          "state": {
            "_view_name": "LayoutView",
            "grid_template_rows": null,
            "right": null,
            "justify_content": null,
            "_view_module": "@jupyter-widgets/base",
            "overflow": null,
            "_model_module_version": "1.2.0",
            "_view_count": null,
            "flex_flow": null,
            "width": null,
            "min_width": null,
            "border": null,
            "align_items": null,
            "bottom": null,
            "_model_module": "@jupyter-widgets/base",
            "top": null,
            "grid_column": null,
            "overflow_y": null,
            "overflow_x": null,
            "grid_auto_flow": null,
            "grid_area": null,
            "grid_template_columns": null,
            "flex": null,
            "_model_name": "LayoutModel",
            "justify_items": null,
            "grid_row": null,
            "max_height": null,
            "align_content": null,
            "visibility": null,
            "align_self": null,
            "height": null,
            "min_height": null,
            "padding": null,
            "grid_auto_rows": null,
            "grid_gap": null,
            "max_width": null,
            "order": null,
            "_view_module_version": "1.2.0",
            "grid_template_areas": null,
            "object_position": null,
            "object_fit": null,
            "grid_auto_columns": null,
            "margin": null,
            "display": null,
            "left": null
          }
        },
        "9198cd782bb34f8082a62935a7f2b7ff": {
          "model_module": "@jupyter-widgets/controls",
          "model_name": "FloatProgressModel",
          "state": {
            "_view_name": "ProgressView",
            "style": "IPY_MODEL_8ea8171696344bacae447203d881d41d",
            "_dom_classes": [],
            "description": "Downloading: 100%",
            "_model_name": "FloatProgressModel",
            "bar_style": "success",
            "max": 435797,
            "_view_module": "@jupyter-widgets/controls",
            "_model_module_version": "1.5.0",
            "value": 435797,
            "_view_count": null,
            "_view_module_version": "1.5.0",
            "orientation": "horizontal",
            "min": 0,
            "description_tooltip": null,
            "_model_module": "@jupyter-widgets/controls",
            "layout": "IPY_MODEL_9db9b70e8f2e465f954730176db56c11"
          }
        },
        "4099f32de3e2481bae5f1a4c7c711809": {
          "model_module": "@jupyter-widgets/controls",
          "model_name": "HTMLModel",
          "state": {
            "_view_name": "HTMLView",
            "style": "IPY_MODEL_976495f68a8d4630a4a42679bc3237a3",
            "_dom_classes": [],
            "description": "",
            "_model_name": "HTMLModel",
            "placeholder": "​",
            "_view_module": "@jupyter-widgets/controls",
            "_model_module_version": "1.5.0",
            "value": " 436k/436k [00:00&lt;00:00, 2.61MB/s]",
            "_view_count": null,
            "_view_module_version": "1.5.0",
            "description_tooltip": null,
            "_model_module": "@jupyter-widgets/controls",
            "layout": "IPY_MODEL_a18f7b2866834946b2bdceabd44622c5"
          }
        },
        "8ea8171696344bacae447203d881d41d": {
          "model_module": "@jupyter-widgets/controls",
          "model_name": "ProgressStyleModel",
          "state": {
            "_view_name": "StyleView",
            "_model_name": "ProgressStyleModel",
            "description_width": "initial",
            "_view_module": "@jupyter-widgets/base",
            "_model_module_version": "1.5.0",
            "_view_count": null,
            "_view_module_version": "1.2.0",
            "bar_color": null,
            "_model_module": "@jupyter-widgets/controls"
          }
        },
        "9db9b70e8f2e465f954730176db56c11": {
          "model_module": "@jupyter-widgets/base",
          "model_name": "LayoutModel",
          "state": {
            "_view_name": "LayoutView",
            "grid_template_rows": null,
            "right": null,
            "justify_content": null,
            "_view_module": "@jupyter-widgets/base",
            "overflow": null,
            "_model_module_version": "1.2.0",
            "_view_count": null,
            "flex_flow": null,
            "width": null,
            "min_width": null,
            "border": null,
            "align_items": null,
            "bottom": null,
            "_model_module": "@jupyter-widgets/base",
            "top": null,
            "grid_column": null,
            "overflow_y": null,
            "overflow_x": null,
            "grid_auto_flow": null,
            "grid_area": null,
            "grid_template_columns": null,
            "flex": null,
            "_model_name": "LayoutModel",
            "justify_items": null,
            "grid_row": null,
            "max_height": null,
            "align_content": null,
            "visibility": null,
            "align_self": null,
            "height": null,
            "min_height": null,
            "padding": null,
            "grid_auto_rows": null,
            "grid_gap": null,
            "max_width": null,
            "order": null,
            "_view_module_version": "1.2.0",
            "grid_template_areas": null,
            "object_position": null,
            "object_fit": null,
            "grid_auto_columns": null,
            "margin": null,
            "display": null,
            "left": null
          }
        },
        "976495f68a8d4630a4a42679bc3237a3": {
          "model_module": "@jupyter-widgets/controls",
          "model_name": "DescriptionStyleModel",
          "state": {
            "_view_name": "StyleView",
            "_model_name": "DescriptionStyleModel",
            "description_width": "",
            "_view_module": "@jupyter-widgets/base",
            "_model_module_version": "1.5.0",
            "_view_count": null,
            "_view_module_version": "1.2.0",
            "_model_module": "@jupyter-widgets/controls"
          }
        },
        "a18f7b2866834946b2bdceabd44622c5": {
          "model_module": "@jupyter-widgets/base",
          "model_name": "LayoutModel",
          "state": {
            "_view_name": "LayoutView",
            "grid_template_rows": null,
            "right": null,
            "justify_content": null,
            "_view_module": "@jupyter-widgets/base",
            "overflow": null,
            "_model_module_version": "1.2.0",
            "_view_count": null,
            "flex_flow": null,
            "width": null,
            "min_width": null,
            "border": null,
            "align_items": null,
            "bottom": null,
            "_model_module": "@jupyter-widgets/base",
            "top": null,
            "grid_column": null,
            "overflow_y": null,
            "overflow_x": null,
            "grid_auto_flow": null,
            "grid_area": null,
            "grid_template_columns": null,
            "flex": null,
            "_model_name": "LayoutModel",
            "justify_items": null,
            "grid_row": null,
            "max_height": null,
            "align_content": null,
            "visibility": null,
            "align_self": null,
            "height": null,
            "min_height": null,
            "padding": null,
            "grid_auto_rows": null,
            "grid_gap": null,
            "max_width": null,
            "order": null,
            "_view_module_version": "1.2.0",
            "grid_template_areas": null,
            "object_position": null,
            "object_fit": null,
            "grid_auto_columns": null,
            "margin": null,
            "display": null,
            "left": null
          }
        },
        "158f04008f314d2ea9ecf33eea628e8e": {
          "model_module": "@jupyter-widgets/controls",
          "model_name": "HBoxModel",
          "state": {
            "_view_name": "HBoxView",
            "_dom_classes": [],
            "_model_name": "HBoxModel",
            "_view_module": "@jupyter-widgets/controls",
            "_model_module_version": "1.5.0",
            "_view_count": null,
            "_view_module_version": "1.5.0",
            "box_style": "",
            "layout": "IPY_MODEL_0272fbc449df4d0781a56974f5eaefe7",
            "_model_module": "@jupyter-widgets/controls",
            "children": [
              "IPY_MODEL_8fe0b0ae40774e2caabe6da0f56ba1cd",
              "IPY_MODEL_369b5e6b402c4269a2fcb5d80c2d9e14"
            ]
          }
        },
        "0272fbc449df4d0781a56974f5eaefe7": {
          "model_module": "@jupyter-widgets/base",
          "model_name": "LayoutModel",
          "state": {
            "_view_name": "LayoutView",
            "grid_template_rows": null,
            "right": null,
            "justify_content": null,
            "_view_module": "@jupyter-widgets/base",
            "overflow": null,
            "_model_module_version": "1.2.0",
            "_view_count": null,
            "flex_flow": null,
            "width": null,
            "min_width": null,
            "border": null,
            "align_items": null,
            "bottom": null,
            "_model_module": "@jupyter-widgets/base",
            "top": null,
            "grid_column": null,
            "overflow_y": null,
            "overflow_x": null,
            "grid_auto_flow": null,
            "grid_area": null,
            "grid_template_columns": null,
            "flex": null,
            "_model_name": "LayoutModel",
            "justify_items": null,
            "grid_row": null,
            "max_height": null,
            "align_content": null,
            "visibility": null,
            "align_self": null,
            "height": null,
            "min_height": null,
            "padding": null,
            "grid_auto_rows": null,
            "grid_gap": null,
            "max_width": null,
            "order": null,
            "_view_module_version": "1.2.0",
            "grid_template_areas": null,
            "object_position": null,
            "object_fit": null,
            "grid_auto_columns": null,
            "margin": null,
            "display": null,
            "left": null
          }
        },
        "8fe0b0ae40774e2caabe6da0f56ba1cd": {
          "model_module": "@jupyter-widgets/controls",
          "model_name": "FloatProgressModel",
          "state": {
            "_view_name": "ProgressView",
            "style": "IPY_MODEL_12d76167ea1045f7963ed517d6adc5fb",
            "_dom_classes": [],
            "description": "Downloading: 100%",
            "_model_name": "FloatProgressModel",
            "bar_style": "success",
            "max": 570,
            "_view_module": "@jupyter-widgets/controls",
            "_model_module_version": "1.5.0",
            "value": 570,
            "_view_count": null,
            "_view_module_version": "1.5.0",
            "orientation": "horizontal",
            "min": 0,
            "description_tooltip": null,
            "_model_module": "@jupyter-widgets/controls",
            "layout": "IPY_MODEL_e696032c96ee4380a0d116353ea7582c"
          }
        },
        "369b5e6b402c4269a2fcb5d80c2d9e14": {
          "model_module": "@jupyter-widgets/controls",
          "model_name": "HTMLModel",
          "state": {
            "_view_name": "HTMLView",
            "style": "IPY_MODEL_1f5fab0203604b949ae1c1ecefa68990",
            "_dom_classes": [],
            "description": "",
            "_model_name": "HTMLModel",
            "placeholder": "​",
            "_view_module": "@jupyter-widgets/controls",
            "_model_module_version": "1.5.0",
            "value": " 570/570 [00:11&lt;00:00, 47.8B/s]",
            "_view_count": null,
            "_view_module_version": "1.5.0",
            "description_tooltip": null,
            "_model_module": "@jupyter-widgets/controls",
            "layout": "IPY_MODEL_fba1ff07faad466393116733d6f13f5e"
          }
        },
        "12d76167ea1045f7963ed517d6adc5fb": {
          "model_module": "@jupyter-widgets/controls",
          "model_name": "ProgressStyleModel",
          "state": {
            "_view_name": "StyleView",
            "_model_name": "ProgressStyleModel",
            "description_width": "initial",
            "_view_module": "@jupyter-widgets/base",
            "_model_module_version": "1.5.0",
            "_view_count": null,
            "_view_module_version": "1.2.0",
            "bar_color": null,
            "_model_module": "@jupyter-widgets/controls"
          }
        },
        "e696032c96ee4380a0d116353ea7582c": {
          "model_module": "@jupyter-widgets/base",
          "model_name": "LayoutModel",
          "state": {
            "_view_name": "LayoutView",
            "grid_template_rows": null,
            "right": null,
            "justify_content": null,
            "_view_module": "@jupyter-widgets/base",
            "overflow": null,
            "_model_module_version": "1.2.0",
            "_view_count": null,
            "flex_flow": null,
            "width": null,
            "min_width": null,
            "border": null,
            "align_items": null,
            "bottom": null,
            "_model_module": "@jupyter-widgets/base",
            "top": null,
            "grid_column": null,
            "overflow_y": null,
            "overflow_x": null,
            "grid_auto_flow": null,
            "grid_area": null,
            "grid_template_columns": null,
            "flex": null,
            "_model_name": "LayoutModel",
            "justify_items": null,
            "grid_row": null,
            "max_height": null,
            "align_content": null,
            "visibility": null,
            "align_self": null,
            "height": null,
            "min_height": null,
            "padding": null,
            "grid_auto_rows": null,
            "grid_gap": null,
            "max_width": null,
            "order": null,
            "_view_module_version": "1.2.0",
            "grid_template_areas": null,
            "object_position": null,
            "object_fit": null,
            "grid_auto_columns": null,
            "margin": null,
            "display": null,
            "left": null
          }
        },
        "1f5fab0203604b949ae1c1ecefa68990": {
          "model_module": "@jupyter-widgets/controls",
          "model_name": "DescriptionStyleModel",
          "state": {
            "_view_name": "StyleView",
            "_model_name": "DescriptionStyleModel",
            "description_width": "",
            "_view_module": "@jupyter-widgets/base",
            "_model_module_version": "1.5.0",
            "_view_count": null,
            "_view_module_version": "1.2.0",
            "_model_module": "@jupyter-widgets/controls"
          }
        },
        "fba1ff07faad466393116733d6f13f5e": {
          "model_module": "@jupyter-widgets/base",
          "model_name": "LayoutModel",
          "state": {
            "_view_name": "LayoutView",
            "grid_template_rows": null,
            "right": null,
            "justify_content": null,
            "_view_module": "@jupyter-widgets/base",
            "overflow": null,
            "_model_module_version": "1.2.0",
            "_view_count": null,
            "flex_flow": null,
            "width": null,
            "min_width": null,
            "border": null,
            "align_items": null,
            "bottom": null,
            "_model_module": "@jupyter-widgets/base",
            "top": null,
            "grid_column": null,
            "overflow_y": null,
            "overflow_x": null,
            "grid_auto_flow": null,
            "grid_area": null,
            "grid_template_columns": null,
            "flex": null,
            "_model_name": "LayoutModel",
            "justify_items": null,
            "grid_row": null,
            "max_height": null,
            "align_content": null,
            "visibility": null,
            "align_self": null,
            "height": null,
            "min_height": null,
            "padding": null,
            "grid_auto_rows": null,
            "grid_gap": null,
            "max_width": null,
            "order": null,
            "_view_module_version": "1.2.0",
            "grid_template_areas": null,
            "object_position": null,
            "object_fit": null,
            "grid_auto_columns": null,
            "margin": null,
            "display": null,
            "left": null
          }
        },
        "2cd03a73790b433e84f2c69b65325685": {
          "model_module": "@jupyter-widgets/controls",
          "model_name": "HBoxModel",
          "state": {
            "_view_name": "HBoxView",
            "_dom_classes": [],
            "_model_name": "HBoxModel",
            "_view_module": "@jupyter-widgets/controls",
            "_model_module_version": "1.5.0",
            "_view_count": null,
            "_view_module_version": "1.5.0",
            "box_style": "",
            "layout": "IPY_MODEL_dd8330100aa14cc48d589ce388beda58",
            "_model_module": "@jupyter-widgets/controls",
            "children": [
              "IPY_MODEL_f8025d4bc53b4c3ea3dfbfa929616d9e",
              "IPY_MODEL_41a7289e8f9a4e96abc260696dcb4f7d"
            ]
          }
        },
        "dd8330100aa14cc48d589ce388beda58": {
          "model_module": "@jupyter-widgets/base",
          "model_name": "LayoutModel",
          "state": {
            "_view_name": "LayoutView",
            "grid_template_rows": null,
            "right": null,
            "justify_content": null,
            "_view_module": "@jupyter-widgets/base",
            "overflow": null,
            "_model_module_version": "1.2.0",
            "_view_count": null,
            "flex_flow": null,
            "width": null,
            "min_width": null,
            "border": null,
            "align_items": null,
            "bottom": null,
            "_model_module": "@jupyter-widgets/base",
            "top": null,
            "grid_column": null,
            "overflow_y": null,
            "overflow_x": null,
            "grid_auto_flow": null,
            "grid_area": null,
            "grid_template_columns": null,
            "flex": null,
            "_model_name": "LayoutModel",
            "justify_items": null,
            "grid_row": null,
            "max_height": null,
            "align_content": null,
            "visibility": null,
            "align_self": null,
            "height": null,
            "min_height": null,
            "padding": null,
            "grid_auto_rows": null,
            "grid_gap": null,
            "max_width": null,
            "order": null,
            "_view_module_version": "1.2.0",
            "grid_template_areas": null,
            "object_position": null,
            "object_fit": null,
            "grid_auto_columns": null,
            "margin": null,
            "display": null,
            "left": null
          }
        },
        "f8025d4bc53b4c3ea3dfbfa929616d9e": {
          "model_module": "@jupyter-widgets/controls",
          "model_name": "FloatProgressModel",
          "state": {
            "_view_name": "ProgressView",
            "style": "IPY_MODEL_e7a8494d434148ce9f092a60d5ceb530",
            "_dom_classes": [],
            "description": "Downloading: 100%",
            "_model_name": "FloatProgressModel",
            "bar_style": "success",
            "max": 526681800,
            "_view_module": "@jupyter-widgets/controls",
            "_model_module_version": "1.5.0",
            "value": 526681800,
            "_view_count": null,
            "_view_module_version": "1.5.0",
            "orientation": "horizontal",
            "min": 0,
            "description_tooltip": null,
            "_model_module": "@jupyter-widgets/controls",
            "layout": "IPY_MODEL_4625d54dcecc472d8b68615143d6f3e5"
          }
        },
        "41a7289e8f9a4e96abc260696dcb4f7d": {
          "model_module": "@jupyter-widgets/controls",
          "model_name": "HTMLModel",
          "state": {
            "_view_name": "HTMLView",
            "style": "IPY_MODEL_d0119c084f4045f5b2fb05eff26510ee",
            "_dom_classes": [],
            "description": "",
            "_model_name": "HTMLModel",
            "placeholder": "​",
            "_view_module": "@jupyter-widgets/controls",
            "_model_module_version": "1.5.0",
            "value": " 527M/527M [00:11&lt;00:00, 45.6MB/s]",
            "_view_count": null,
            "_view_module_version": "1.5.0",
            "description_tooltip": null,
            "_model_module": "@jupyter-widgets/controls",
            "layout": "IPY_MODEL_a195fdbe3dc640d4a0dee0a215f0e1b7"
          }
        },
        "e7a8494d434148ce9f092a60d5ceb530": {
          "model_module": "@jupyter-widgets/controls",
          "model_name": "ProgressStyleModel",
          "state": {
            "_view_name": "StyleView",
            "_model_name": "ProgressStyleModel",
            "description_width": "initial",
            "_view_module": "@jupyter-widgets/base",
            "_model_module_version": "1.5.0",
            "_view_count": null,
            "_view_module_version": "1.2.0",
            "bar_color": null,
            "_model_module": "@jupyter-widgets/controls"
          }
        },
        "4625d54dcecc472d8b68615143d6f3e5": {
          "model_module": "@jupyter-widgets/base",
          "model_name": "LayoutModel",
          "state": {
            "_view_name": "LayoutView",
            "grid_template_rows": null,
            "right": null,
            "justify_content": null,
            "_view_module": "@jupyter-widgets/base",
            "overflow": null,
            "_model_module_version": "1.2.0",
            "_view_count": null,
            "flex_flow": null,
            "width": null,
            "min_width": null,
            "border": null,
            "align_items": null,
            "bottom": null,
            "_model_module": "@jupyter-widgets/base",
            "top": null,
            "grid_column": null,
            "overflow_y": null,
            "overflow_x": null,
            "grid_auto_flow": null,
            "grid_area": null,
            "grid_template_columns": null,
            "flex": null,
            "_model_name": "LayoutModel",
            "justify_items": null,
            "grid_row": null,
            "max_height": null,
            "align_content": null,
            "visibility": null,
            "align_self": null,
            "height": null,
            "min_height": null,
            "padding": null,
            "grid_auto_rows": null,
            "grid_gap": null,
            "max_width": null,
            "order": null,
            "_view_module_version": "1.2.0",
            "grid_template_areas": null,
            "object_position": null,
            "object_fit": null,
            "grid_auto_columns": null,
            "margin": null,
            "display": null,
            "left": null
          }
        },
        "d0119c084f4045f5b2fb05eff26510ee": {
          "model_module": "@jupyter-widgets/controls",
          "model_name": "DescriptionStyleModel",
          "state": {
            "_view_name": "StyleView",
            "_model_name": "DescriptionStyleModel",
            "description_width": "",
            "_view_module": "@jupyter-widgets/base",
            "_model_module_version": "1.5.0",
            "_view_count": null,
            "_view_module_version": "1.2.0",
            "_model_module": "@jupyter-widgets/controls"
          }
        },
        "a195fdbe3dc640d4a0dee0a215f0e1b7": {
          "model_module": "@jupyter-widgets/base",
          "model_name": "LayoutModel",
          "state": {
            "_view_name": "LayoutView",
            "grid_template_rows": null,
            "right": null,
            "justify_content": null,
            "_view_module": "@jupyter-widgets/base",
            "overflow": null,
            "_model_module_version": "1.2.0",
            "_view_count": null,
            "flex_flow": null,
            "width": null,
            "min_width": null,
            "border": null,
            "align_items": null,
            "bottom": null,
            "_model_module": "@jupyter-widgets/base",
            "top": null,
            "grid_column": null,
            "overflow_y": null,
            "overflow_x": null,
            "grid_auto_flow": null,
            "grid_area": null,
            "grid_template_columns": null,
            "flex": null,
            "_model_name": "LayoutModel",
            "justify_items": null,
            "grid_row": null,
            "max_height": null,
            "align_content": null,
            "visibility": null,
            "align_self": null,
            "height": null,
            "min_height": null,
            "padding": null,
            "grid_auto_rows": null,
            "grid_gap": null,
            "max_width": null,
            "order": null,
            "_view_module_version": "1.2.0",
            "grid_template_areas": null,
            "object_position": null,
            "object_fit": null,
            "grid_auto_columns": null,
            "margin": null,
            "display": null,
            "left": null
          }
        }
      }
    }
  },
  "cells": [
    {
      "cell_type": "markdown",
      "metadata": {
        "id": "ypkEgHAayt3g"
      },
      "source": [
        "# Explaination Of Transfer Learning Idea"
      ]
    },
    {
      "cell_type": "markdown",
      "metadata": {
        "id": "1fsf4BnCvW6n"
      },
      "source": [
        "**Types of transfer learning**\n",
        "\n",
        "* Domain adaptation\n",
        "```\n",
        "In this setting, the domains of source and target tasks are usually the same. However,\n",
        "the differences are related to the distribution of training and testing data. This\n",
        "case of transfer learning is related to a fundamental assumption in any machine\n",
        "learning task – the assumption that training and testing data are i.i.d. The first i\n",
        "stands for independent, which implies that each sample is independent of the others.\n",
        "In practice, this assumption can be violated when there are feedback loops, like in\n",
        "recommendation systems. The second section is i.d., which stands for identically\n",
        "distributed and implies that the distribution of labels and other characteristics\n",
        "between training and test samples is the same.\n",
        "```\n",
        "\n",
        "\n",
        "***\n",
        "* Multi-task learning\n",
        "```\n",
        "In multi-task learning, data from different but related tasks are passed through a\n",
        "set of common layers. Then, there may be task-specific layers on the top that learn\n",
        "about a particular task objective\n",
        "The output of these task-specific layers would be evaluated on different loss\n",
        "functions. All the training examples for all the tasks are passed through all the\n",
        "layers of the model. The task-specific layers are not expected to do well for all the\n",
        "tasks. The expectation is that the common layers learn some of the underlying\n",
        "structure that is shared by the different tasks. This information about structure\n",
        "provides useful signals and improves the performance of all the models. The data\n",
        "for each task has many features. However, these features may be used to construct\n",
        "representations that can be useful in other related tasks\n",
        "```\n",
        "![image.png](data:image/png;base64,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)\n",
        "\n",
        "***\n",
        "* Sequential learning\n",
        "```\n",
        "Sequential learning is the most common form of transfer learning. It is named so\n",
        "because it involves two simple steps executed in sequence. The first step is pretraining and the second step is fine-tuning\n",
        "The first step is to pre-train a model. The most successful pre-trained models use\n",
        "some form of multi-task learning objectives, as depicted on the left side of the figure.\n",
        "A portion of the model used for pre-training is then used for different tasks shown\n",
        "on the right in the figure. This reusable part of the pre-trained model depends on the\n",
        "specific architecture and may have a different set of layers. The reusable partition\n",
        " In the second step, the pre-trained model is\n",
        "loaded and added as the starting layer of a task-specific model. The weights learned\n",
        "by the pre-trained model can be frozen during the training of the task-specific model,\n",
        "or those weights can be updated or fine-tuned. When the weights are frozen, then\n",
        "this pattern of using the pre-trained model is called feature extraction.\n",
        "Generally, fine-tuning gives better performance than a feature extraction approach.\n",
        "However, there are some pros and cons to both approaches. In fine-tuning, not all\n",
        "weights get updated as the task-specific training data may be much smaller in size.\n",
        "If the pre-trained model is an embedding for words, then other embeddings can\n",
        "become stale. If the task is such that it has a small vocabulary or has\n",
        "many out-of vocabulary words, then this can hurt the performance of the model. Generally, if the\n",
        "source and target tasks are similar, then fine-tuning would produce better results.\n",
        "```\n",
        "\n",
        "![image.png](data:image/png;base64,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)"
      ]
    },
    {
      "cell_type": "markdown",
      "metadata": {
        "id": "rqUAf8Mmmxbw"
      },
      "source": [
        "# Installing LIBs"
      ]
    },
    {
      "cell_type": "code",
      "metadata": {
        "colab": {
          "base_uri": "https://localhost:8080/"
        },
        "id": "T2ebdWQZm-fv",
        "outputId": "04c5a47f-7294-4a75-dacb-3d30f37d6626"
      },
      "source": [
        "!pip install transformers\n",
        "!wget http://nlp.stanford.edu/data/glove.6B.zip\n"
      ],
      "execution_count": null,
      "outputs": [
        {
          "output_type": "stream",
          "text": [
            "Collecting transformers\n",
            "  Downloading transformers-4.8.2-py3-none-any.whl (2.5 MB)\n",
            "\u001b[K     |████████████████████████████████| 2.5 MB 9.8 MB/s \n",
            "\u001b[?25hCollecting huggingface-hub==0.0.12\n",
            "  Downloading huggingface_hub-0.0.12-py3-none-any.whl (37 kB)\n",
            "Collecting tokenizers<0.11,>=0.10.1\n",
            "  Downloading tokenizers-0.10.3-cp37-cp37m-manylinux_2_5_x86_64.manylinux1_x86_64.manylinux_2_12_x86_64.manylinux2010_x86_64.whl (3.3 MB)\n",
            "\u001b[K     |████████████████████████████████| 3.3 MB 52.0 MB/s \n",
            "\u001b[?25hRequirement already satisfied: requests in /usr/local/lib/python3.7/dist-packages (from transformers) (2.23.0)\n",
            "Collecting sacremoses\n",
            "  Downloading sacremoses-0.0.45-py3-none-any.whl (895 kB)\n",
            "\u001b[K     |████████████████████████████████| 895 kB 42.9 MB/s \n",
            "\u001b[?25hRequirement already satisfied: numpy>=1.17 in /usr/local/lib/python3.7/dist-packages (from transformers) (1.19.5)\n",
            "Requirement already satisfied: pyyaml in /usr/local/lib/python3.7/dist-packages (from transformers) (3.13)\n",
            "Requirement already satisfied: importlib-metadata in /usr/local/lib/python3.7/dist-packages (from transformers) (4.6.1)\n",
            "Requirement already satisfied: regex!=2019.12.17 in /usr/local/lib/python3.7/dist-packages (from transformers) (2019.12.20)\n",
            "Requirement already satisfied: filelock in /usr/local/lib/python3.7/dist-packages (from transformers) (3.0.12)\n",
            "Requirement already satisfied: packaging in /usr/local/lib/python3.7/dist-packages (from transformers) (21.0)\n",
            "Requirement already satisfied: tqdm>=4.27 in /usr/local/lib/python3.7/dist-packages (from transformers) (4.41.1)\n",
            "Requirement already satisfied: typing-extensions in /usr/local/lib/python3.7/dist-packages (from huggingface-hub==0.0.12->transformers) (3.7.4.3)\n",
            "Requirement already satisfied: pyparsing>=2.0.2 in /usr/local/lib/python3.7/dist-packages (from packaging->transformers) (2.4.7)\n",
            "Requirement already satisfied: zipp>=0.5 in /usr/local/lib/python3.7/dist-packages (from importlib-metadata->transformers) (3.5.0)\n",
            "Requirement already satisfied: chardet<4,>=3.0.2 in /usr/local/lib/python3.7/dist-packages (from requests->transformers) (3.0.4)\n",
            "Requirement already satisfied: idna<3,>=2.5 in /usr/local/lib/python3.7/dist-packages (from requests->transformers) (2.10)\n",
            "Requirement already satisfied: certifi>=2017.4.17 in /usr/local/lib/python3.7/dist-packages (from requests->transformers) (2021.5.30)\n",
            "Requirement already satisfied: urllib3!=1.25.0,!=1.25.1,<1.26,>=1.21.1 in /usr/local/lib/python3.7/dist-packages (from requests->transformers) (1.24.3)\n",
            "Requirement already satisfied: joblib in /usr/local/lib/python3.7/dist-packages (from sacremoses->transformers) (1.0.1)\n",
            "Requirement already satisfied: six in /usr/local/lib/python3.7/dist-packages (from sacremoses->transformers) (1.15.0)\n",
            "Requirement already satisfied: click in /usr/local/lib/python3.7/dist-packages (from sacremoses->transformers) (7.1.2)\n",
            "Installing collected packages: tokenizers, sacremoses, huggingface-hub, transformers\n",
            "Successfully installed huggingface-hub-0.0.12 sacremoses-0.0.45 tokenizers-0.10.3 transformers-4.8.2\n",
            "--2021-07-20 11:44:11--  http://nlp.stanford.edu/data/glove.6B.zip\n",
            "Resolving nlp.stanford.edu (nlp.stanford.edu)... 171.64.67.140\n",
            "Connecting to nlp.stanford.edu (nlp.stanford.edu)|171.64.67.140|:80... connected.\n",
            "HTTP request sent, awaiting response... 302 Found\n",
            "Location: https://nlp.stanford.edu/data/glove.6B.zip [following]\n",
            "--2021-07-20 11:44:11--  https://nlp.stanford.edu/data/glove.6B.zip\n",
            "Connecting to nlp.stanford.edu (nlp.stanford.edu)|171.64.67.140|:443... connected.\n",
            "HTTP request sent, awaiting response... 301 Moved Permanently\n",
            "Location: http://downloads.cs.stanford.edu/nlp/data/glove.6B.zip [following]\n",
            "--2021-07-20 11:44:11--  http://downloads.cs.stanford.edu/nlp/data/glove.6B.zip\n",
            "Resolving downloads.cs.stanford.edu (downloads.cs.stanford.edu)... 171.64.64.22\n",
            "Connecting to downloads.cs.stanford.edu (downloads.cs.stanford.edu)|171.64.64.22|:80... connected.\n",
            "HTTP request sent, awaiting response... 200 OK\n",
            "Length: 862182613 (822M) [application/zip]\n",
            "Saving to: ‘glove.6B.zip’\n",
            "\n",
            "glove.6B.zip        100%[===================>] 822.24M  5.01MB/s    in 2m 40s  \n",
            "\n",
            "2021-07-20 11:46:51 (5.14 MB/s) - ‘glove.6B.zip’ saved [862182613/862182613]\n",
            "\n"
          ],
          "name": "stdout"
        }
      ]
    },
    {
      "cell_type": "code",
      "metadata": {
        "colab": {
          "base_uri": "https://localhost:8080/"
        },
        "id": "CZLI_VPtnQS2",
        "outputId": "0378cc1b-1186-4937-8c3b-2a14f04a9109"
      },
      "source": [
        "!unzip glove.6B.zip\n"
      ],
      "execution_count": null,
      "outputs": [
        {
          "output_type": "stream",
          "text": [
            "Archive:  glove.6B.zip\n",
            "  inflating: glove.6B.50d.txt        \n",
            "  inflating: glove.6B.100d.txt       \n",
            "  inflating: glove.6B.200d.txt       \n",
            "  inflating: glove.6B.300d.txt       \n"
          ],
          "name": "stdout"
        }
      ]
    },
    {
      "cell_type": "markdown",
      "metadata": {
        "id": "bVIr-Ypem6V5"
      },
      "source": [
        "# Importing LIBs"
      ]
    },
    {
      "cell_type": "code",
      "metadata": {
        "id": "NKJIBQJfED0M"
      },
      "source": [
        "import tensorflow as tf\n",
        "import tensorflow_datasets as tfds\n",
        "import numpy as np\n",
        "import pandas as pd\n",
        "from tensorflow.keras.preprocessing import sequence\n",
        "from tensorflow.keras.layers import Embedding, LSTM, Bidirectional, Dense, Dropout\n",
        "from transformers import BertTokenizer\n",
        "from sklearn.model_selection import train_test_split\n",
        "from transformers import TFBertForSequenceClassification\n",
        "from transformers import TFBertModel\n"
      ],
      "execution_count": null,
      "outputs": []
    },
    {
      "cell_type": "markdown",
      "metadata": {
        "id": "6ucGZ5Vrn2HC"
      },
      "source": [
        "# Loading IMDB Data\n"
      ]
    },
    {
      "cell_type": "code",
      "metadata": {
        "colab": {
          "base_uri": "https://localhost:8080/",
          "height": 701,
          "referenced_widgets": [
            "1fae204190df4ee48616f604c9e7ae72",
            "8cbec1b3e50b4ebebfb37df661f111bb",
            "703fd71673a04ab49a745c3bdf919aef",
            "d7a2f5c3275646e1a4220ce5e7da4159",
            "e718b3782c004b968a4c872be0f5e702",
            "506de5c20d364c519724e33ec0a0a075",
            "20961145b62841128b713cceaf8782e9",
            "b3102d74c2714a088ca6698e20a87d35",
            "fcb4cced6ac84224884fc5d17c1f10de",
            "4885f578364b44eaa69c78ad929a3b53",
            "ac3e863f71b44bb2868824a76c01c059",
            "755ab27165054c9cb3e8332183148b9c",
            "92d83bdf3e8344dfb96b02318160585c",
            "0b97bb6b48554bf2a5bea06afd6448a0",
            "b27730c054a34b10be8aabeab29b9135",
            "01d56b61f9644a4ead6df1bb09a2f9f6",
            "f95f420959d24f1a8f0baba594940335",
            "59d374d4165542749dce17257fe78af2",
            "fa05cde9b32b4936bcdd7ef85666aa14",
            "6a0e474bb14340538476fb5af392177c",
            "4ae82080cfcc43e3ab812e51dc69f892",
            "fa20e1a6d9c74929b82350e4f2f52cb0",
            "78b54c17e3a5483786bea2350cb5d5b2",
            "886f796fd8284afc9ca61ee6bb57cb53",
            "47af50f4814844679feba7f05deb2aba",
            "235b5ea294d44d979dbb7dce0f5b3894",
            "44e260187288437f9bd6b11c76b4be15",
            "00c1956df5d14782baea2a7ff073abfa",
            "5d532c83a6b54b0a837f0ea6c867426b",
            "5b692c7abb7b489cb1e0de18b197021f",
            "08f649e2cd2a4f92882228c62fad36d0",
            "ac31cd107b95472197a5bf3e87b4eb54",
            "42c468aa91684801ba2fa88ec3ab9915",
            "9e34054c855840a6bd6deb33572ab56c",
            "7e9fd57ef6fb4aa8b3bb11506ef3cdde",
            "d5fcc8ad47e04fa7a3f5feac94d033f9",
            "40dc98ab51f34a35addb16976acd0205",
            "50f4db07cab84e668dbbc75ab50cb92b",
            "e55a79a39f1e416b890d4db3b76d9585",
            "ffc4f0f734e043e9a405cdfabec2b2ce",
            "3f7fc7fb67974d809d211d4889c02f40",
            "a5a9612a4f994182a4bd29d9dd8e6bc4",
            "419e6430e59c4fcf9c183f862e5f279d",
            "44acb3d84f474a17870f373313b9064c",
            "530b578dc957425eaafe478270ab43ee",
            "cc7f4a2135294857af374ecc9cfd652a",
            "ecf0548a22114c51b7dd05392cc6ed4c",
            "65be851fb131412ba277525a42d7a800",
            "8f6ba089078c43a5a01272e7800cb139",
            "3a64b0ba9fe0415cadf0c66946ac9fd6",
            "e5a2e9163a07430892c64e548a5de12b",
            "5c985084874243f08f70d61fbafc5a64",
            "7839051f700a471882a19fe00749155a",
            "3e69569c860c4d6b934e1c97b47aa73f",
            "c1c09a8000fc40e5a3f1cdd3fa377417",
            "9c2e97cbab4948cb925b5e44e1f63a6c",
            "36d935b5547d40a19f8a0cae6b0adfcf",
            "3a0205ded90149d89c0dbdd18ce0fb97",
            "822492b8887441bfb15fd141704e0e10",
            "f37acd7a6788477595bb9d9c7c84fa11",
            "e20a1ab880ed4935aece3115b804ded0",
            "65581027d5d74d1b816481c4ec3c8fb2",
            "c289dfcaf82540b5aac76e2835c5bca9",
            "f68a56500b644a95a15628df5dc966dd"
          ]
        },
        "id": "mxqeluMnn0Sq",
        "outputId": "df6f6d35-e979-4675-8494-d21d1b225259"
      },
      "source": [
        "imdb_train, ds_info = tfds.load(name=\"imdb_reviews\", split=\"train\", \n",
        "                                with_info=True, as_supervised=True)\n",
        "\n",
        "imdb_test = tfds.load(name=\"imdb_reviews\", split=\"test\", \n",
        "                      as_supervised=True)\n"
      ],
      "execution_count": null,
      "outputs": [
        {
          "output_type": "stream",
          "text": [
            "INFO:absl:No config specified, defaulting to first: imdb_reviews/plain_text\n",
            "INFO:absl:Load pre-computed DatasetInfo (eg: splits, num examples,...) from GCS: imdb_reviews/plain_text/1.0.0\n",
            "INFO:absl:Load dataset info from /tmp/tmpu4g57gj2tfds\n",
            "INFO:absl:Field info.config_name from disk and from code do not match. Keeping the one from code.\n",
            "INFO:absl:Field info.config_description from disk and from code do not match. Keeping the one from code.\n",
            "INFO:absl:Field info.citation from disk and from code do not match. Keeping the one from code.\n",
            "INFO:absl:Generating dataset imdb_reviews (/root/tensorflow_datasets/imdb_reviews/plain_text/1.0.0)\n"
          ],
          "name": "stderr"
        },
        {
          "output_type": "stream",
          "text": [
            "\u001b[1mDownloading and preparing dataset imdb_reviews/plain_text/1.0.0 (download: 80.23 MiB, generated: Unknown size, total: 80.23 MiB) to /root/tensorflow_datasets/imdb_reviews/plain_text/1.0.0...\u001b[0m\n"
          ],
          "name": "stdout"
        },
        {
          "output_type": "display_data",
          "data": {
            "application/vnd.jupyter.widget-view+json": {
              "model_id": "1fae204190df4ee48616f604c9e7ae72",
              "version_minor": 0,
              "version_major": 2
            },
            "text/plain": [
              "HBox(children=(FloatProgress(value=1.0, bar_style='info', description='Dl Completed...', max=1.0, style=Progre…"
            ]
          },
          "metadata": {
            "tags": []
          }
        },
        {
          "output_type": "display_data",
          "data": {
            "application/vnd.jupyter.widget-view+json": {
              "model_id": "fcb4cced6ac84224884fc5d17c1f10de",
              "version_minor": 0,
              "version_major": 2
            },
            "text/plain": [
              "HBox(children=(FloatProgress(value=1.0, bar_style='info', description='Dl Size...', max=1.0, style=ProgressSty…"
            ]
          },
          "metadata": {
            "tags": []
          }
        },
        {
          "output_type": "stream",
          "text": [
            "INFO:absl:Downloading http://ai.stanford.edu/~amaas/data/sentiment/aclImdb_v1.tar.gz into /root/tensorflow_datasets/downloads/ai.stanfor.edu_amaas_sentime_aclImdb_v1PaujRp-TxjBWz59jHXsMDm5WiexbxzaFQkEnXc3Tvo8.tar.gz.tmp.e7fb7db7b9884fb888d6a86167b79093...\n",
            "INFO:absl:Generating split train\n"
          ],
          "name": "stderr"
        },
        {
          "output_type": "stream",
          "text": [
            "\n",
            "\n",
            "\n",
            "\n"
          ],
          "name": "stdout"
        },
        {
          "output_type": "display_data",
          "data": {
            "application/vnd.jupyter.widget-view+json": {
              "model_id": "f95f420959d24f1a8f0baba594940335",
              "version_minor": 0,
              "version_major": 2
            },
            "text/plain": [
              "HBox(children=(FloatProgress(value=1.0, bar_style='info', max=1.0), HTML(value='')))"
            ]
          },
          "metadata": {
            "tags": []
          }
        },
        {
          "output_type": "stream",
          "text": [
            "\rShuffling and writing examples to /root/tensorflow_datasets/imdb_reviews/plain_text/1.0.0.incompleteVGM4P5/imdb_reviews-train.tfrecord\n"
          ],
          "name": "stdout"
        },
        {
          "output_type": "display_data",
          "data": {
            "application/vnd.jupyter.widget-view+json": {
              "model_id": "47af50f4814844679feba7f05deb2aba",
              "version_minor": 0,
              "version_major": 2
            },
            "text/plain": [
              "HBox(children=(FloatProgress(value=0.0, max=25000.0), HTML(value='')))"
            ]
          },
          "metadata": {
            "tags": []
          }
        },
        {
          "output_type": "stream",
          "text": [
            "INFO:absl:Done writing /root/tensorflow_datasets/imdb_reviews/plain_text/1.0.0.incompleteVGM4P5/imdb_reviews-train.tfrecord. Shard lengths: [25000]\n",
            "INFO:absl:Generating split test\n"
          ],
          "name": "stderr"
        },
        {
          "output_type": "stream",
          "text": [
            "\r"
          ],
          "name": "stdout"
        },
        {
          "output_type": "display_data",
          "data": {
            "application/vnd.jupyter.widget-view+json": {
              "model_id": "42c468aa91684801ba2fa88ec3ab9915",
              "version_minor": 0,
              "version_major": 2
            },
            "text/plain": [
              "HBox(children=(FloatProgress(value=1.0, bar_style='info', max=1.0), HTML(value='')))"
            ]
          },
          "metadata": {
            "tags": []
          }
        },
        {
          "output_type": "stream",
          "text": [
            "\rShuffling and writing examples to /root/tensorflow_datasets/imdb_reviews/plain_text/1.0.0.incompleteVGM4P5/imdb_reviews-test.tfrecord\n"
          ],
          "name": "stdout"
        },
        {
          "output_type": "display_data",
          "data": {
            "application/vnd.jupyter.widget-view+json": {
              "model_id": "3f7fc7fb67974d809d211d4889c02f40",
              "version_minor": 0,
              "version_major": 2
            },
            "text/plain": [
              "HBox(children=(FloatProgress(value=0.0, max=25000.0), HTML(value='')))"
            ]
          },
          "metadata": {
            "tags": []
          }
        },
        {
          "output_type": "stream",
          "text": [
            "INFO:absl:Done writing /root/tensorflow_datasets/imdb_reviews/plain_text/1.0.0.incompleteVGM4P5/imdb_reviews-test.tfrecord. Shard lengths: [25000]\n",
            "INFO:absl:Generating split unsupervised\n"
          ],
          "name": "stderr"
        },
        {
          "output_type": "stream",
          "text": [
            "\r"
          ],
          "name": "stdout"
        },
        {
          "output_type": "display_data",
          "data": {
            "application/vnd.jupyter.widget-view+json": {
              "model_id": "8f6ba089078c43a5a01272e7800cb139",
              "version_minor": 0,
              "version_major": 2
            },
            "text/plain": [
              "HBox(children=(FloatProgress(value=1.0, bar_style='info', max=1.0), HTML(value='')))"
            ]
          },
          "metadata": {
            "tags": []
          }
        },
        {
          "output_type": "stream",
          "text": [
            "\rShuffling and writing examples to /root/tensorflow_datasets/imdb_reviews/plain_text/1.0.0.incompleteVGM4P5/imdb_reviews-unsupervised.tfrecord\n"
          ],
          "name": "stdout"
        },
        {
          "output_type": "display_data",
          "data": {
            "application/vnd.jupyter.widget-view+json": {
              "model_id": "36d935b5547d40a19f8a0cae6b0adfcf",
              "version_minor": 0,
              "version_major": 2
            },
            "text/plain": [
              "HBox(children=(FloatProgress(value=0.0, max=50000.0), HTML(value='')))"
            ]
          },
          "metadata": {
            "tags": []
          }
        },
        {
          "output_type": "stream",
          "text": [
            "INFO:absl:Done writing /root/tensorflow_datasets/imdb_reviews/plain_text/1.0.0.incompleteVGM4P5/imdb_reviews-unsupervised.tfrecord. Shard lengths: [50000]\n",
            "INFO:absl:Skipping computing stats for mode ComputeStatsMode.SKIP.\n",
            "WARNING:absl:Dataset is using deprecated text encoder API which will be removed soon. Please use the plain_text version of the dataset and migrate to `tensorflow_text`.\n",
            "INFO:absl:Constructing tf.data.Dataset for split train, from /root/tensorflow_datasets/imdb_reviews/plain_text/1.0.0\n"
          ],
          "name": "stderr"
        },
        {
          "output_type": "stream",
          "text": [
            "\u001b[1mDataset imdb_reviews downloaded and prepared to /root/tensorflow_datasets/imdb_reviews/plain_text/1.0.0. Subsequent calls will reuse this data.\u001b[0m\n",
            "\r"
          ],
          "name": "stdout"
        },
        {
          "output_type": "stream",
          "text": [
            "INFO:absl:No config specified, defaulting to first: imdb_reviews/plain_text\n",
            "INFO:absl:Load dataset info from /root/tensorflow_datasets/imdb_reviews/plain_text/1.0.0\n",
            "INFO:absl:Reusing dataset imdb_reviews (/root/tensorflow_datasets/imdb_reviews/plain_text/1.0.0)\n",
            "INFO:absl:Constructing tf.data.Dataset for split test, from /root/tensorflow_datasets/imdb_reviews/plain_text/1.0.0\n"
          ],
          "name": "stderr"
        }
      ]
    },
    {
      "cell_type": "code",
      "metadata": {
        "colab": {
          "base_uri": "https://localhost:8080/"
        },
        "id": "BTK2CNMUoA9U",
        "outputId": "a32b2dc5-0d0d-4b54-d904-bc2dbdc4ca68"
      },
      "source": [
        "for example, label in imdb_train.take(1):\n",
        "    print(example, '\\n', label)"
      ],
      "execution_count": null,
      "outputs": [
        {
          "output_type": "stream",
          "text": [
            "tf.Tensor(b\"This was an absolutely terrible movie. Don't be lured in by Christopher Walken or Michael Ironside. Both are great actors, but this must simply be their worst role in history. Even their great acting could not redeem this movie's ridiculous storyline. This movie is an early nineties US propaganda piece. The most pathetic scenes were those when the Columbian rebels were making their cases for revolutions. Maria Conchita Alonso appeared phony, and her pseudo-love affair with Walken was nothing but a pathetic emotional plug in a movie that was devoid of any real meaning. I am disappointed that there are movies like this, ruining actor's like Christopher Walken's good name. I could barely sit through it.\", shape=(), dtype=string) \n",
            " tf.Tensor(0, shape=(), dtype=int64)\n"
          ],
          "name": "stdout"
        }
      ]
    },
    {
      "cell_type": "markdown",
      "metadata": {
        "id": "9-ti-EUWoaqA"
      },
      "source": [
        "# **GloVe**"
      ]
    },
    {
      "cell_type": "markdown",
      "metadata": {
        "id": "xvXQUiWLoi9p"
      },
      "source": [
        "## Vocab And Tokenizer"
      ]
    },
    {
      "cell_type": "code",
      "metadata": {
        "id": "0tFaPYgpoBLU"
      },
      "source": [
        "# use a default Tokenizer\n",
        "tokenizer = tfds.deprecated.text.Tokenizer()\n",
        "# unique words in dataset\n",
        "vocab = set()\n",
        "MAX_TOKENS = 0\n",
        "for sent, label in imdb_train:\n",
        "  tokens = tokenizer.tokenize(sent.numpy())\n",
        "  vocab.update(tokens)\n",
        "  if len(tokens) > MAX_TOKENS:\n",
        "    MAX_TOKENS = len(tokens)\n"
      ],
      "execution_count": null,
      "outputs": []
    },
    {
      "cell_type": "code",
      "metadata": {
        "id": "sbibieSNqY50"
      },
      "source": [
        "imdb_encoder =  tfds.deprecated.text.TokenTextEncoder(vocab,lowercase=True,tokenizer=tokenizer)\n",
        "vocab_size = imdb_encoder.vocab_size"
      ],
      "execution_count": null,
      "outputs": []
    },
    {
      "cell_type": "code",
      "metadata": {
        "colab": {
          "base_uri": "https://localhost:8080/"
        },
        "id": "Yt_nW8TQqvNH",
        "outputId": "4a5d6294-ccaa-4874-e009-78a2fd7a3b4b"
      },
      "source": [
        "vocab_size , MAX_TOKENS, len(vocab)"
      ],
      "execution_count": null,
      "outputs": [
        {
          "output_type": "execute_result",
          "data": {
            "text/plain": [
              "(93931, 2525, 93929)"
            ]
          },
          "metadata": {
            "tags": []
          },
          "execution_count": 8
        }
      ]
    },
    {
      "cell_type": "code",
      "metadata": {
        "colab": {
          "base_uri": "https://localhost:8080/"
        },
        "id": "7eKIvrZbq-Hx",
        "outputId": "d18d698f-8849-4066-93a3-acce2056e3fc"
      },
      "source": [
        "# Verify\n",
        "print(imdb_encoder.encode(\"i'm peter\"))\n",
        "print(imdb_encoder.decode(imdb_encoder.encode(\"i'm peter\")))"
      ],
      "execution_count": null,
      "outputs": [
        {
          "output_type": "stream",
          "text": [
            "[87169, 91427, 79025]\n",
            "i m peter\n"
          ],
          "name": "stdout"
        }
      ]
    },
    {
      "cell_type": "code",
      "metadata": {
        "id": "ZVJCiXV4rHpr"
      },
      "source": [
        "# encoding and Padding\n",
        "def encode_pad_transform(sample):\n",
        "    encoded = imdb_encoder.encode(sample.numpy())\n",
        "    pad = sequence.pad_sequences([encoded], padding='post', \n",
        "                                 maxlen=150)\n",
        "    return np.array(pad[0], dtype=np.int64)  \n",
        "    \n",
        "# Tf eager function for mapping later\n",
        "def encode_tf_fn(sample, label):\n",
        "    encoded = tf.py_function(encode_pad_transform, \n",
        "                                       inp=[sample], \n",
        "                                       Tout=(tf.int64))\n",
        "    encoded.set_shape([None])\n",
        "    label.set_shape([])\n",
        "    return encoded, label"
      ],
      "execution_count": null,
      "outputs": []
    },
    {
      "cell_type": "code",
      "metadata": {
        "colab": {
          "base_uri": "https://localhost:8080/"
        },
        "id": "ixxxskR-r88r",
        "outputId": "eb5b7d69-cb5e-47c6-e9ce-34f7a2d7ac21"
      },
      "source": [
        "# TESTING\n",
        "subset = imdb_train.take(10)\n",
        "tst = subset.map(encode_tf_fn)\n",
        "for review, label in tst.take(1):\n",
        "    print(review, label)\n",
        "    print(imdb_encoder.decode(review))"
      ],
      "execution_count": null,
      "outputs": [
        {
          "output_type": "stream",
          "text": [
            "tf.Tensor(\n",
            "[78701 70146 92318 90361 81122 90737 64724 75449 84149 54810 78779 67350\n",
            " 58494 57799 75024 43025 51177 39444 74853 69149 55385 82413 78701 50249\n",
            " 86478 84149 93603 12896 75330 78779 41337 78126 93603 69149 88253 74855\n",
            " 64572 10388 78701 90737 38345 79674  6259 78701 90737 48336 92318 90531\n",
            " 53689 17294 58239 86265 79959 69346 29477 35017 81099 37711 69179 79959\n",
            " 30425 82553 81099 61953 93603 28293 68920 87085 83156 52019 52391 45608\n",
            " 14150 54483 89455 79257 93779 44500 81130 57799 70146 77704 82413 44976\n",
            " 29477 80973 22829 78779 44976 90737 82858 70146 84397 85212 54742 27740\n",
            " 81858 87169 85107 66516 82858 67483 74853 92993 71444 78701 91736 81854\n",
            " 38345 71444 58494 57799 38345 93446 76348 87169 74855 74952 40175 57181\n",
            " 93391     0     0     0     0     0     0     0     0     0     0     0\n",
            "     0     0     0     0     0     0     0     0     0     0     0     0\n",
            "     0     0     0     0     0     0], shape=(150,), dtype=int64) tf.Tensor(0, shape=(), dtype=int64)\n",
            "this was an absolutely terrible movie don t be lured in by christopher walken or michael ironside both are great actors but this must simply be their worst role in history even their great acting could not redeem this movie s ridiculous storyline this movie is an early nineties us propaganda piece the most pathetic scenes were those when the columbian rebels were making their cases for revolutions maria conchita alonso appeared phony and her pseudo love affair with walken was nothing but a pathetic emotional plug in a movie that was devoid of any real meaning i am disappointed that there are movies like this ruining actor s like christopher walken s good name i could barely sit through it\n"
          ],
          "name": "stdout"
        }
      ]
    },
    {
      "cell_type": "code",
      "metadata": {
        "id": "pwtALtTrsCos"
      },
      "source": [
        "# now tokenize/encode/pad all training\n",
        "# and testing data\n",
        "encoded_train = imdb_train.map(encode_tf_fn,\n",
        "                               num_parallel_calls=tf.data.experimental.AUTOTUNE)\n",
        "encoded_test = imdb_test.map(encode_tf_fn,\n",
        "                             num_parallel_calls=tf.data.experimental.AUTOTUNE)"
      ],
      "execution_count": null,
      "outputs": []
    },
    {
      "cell_type": "markdown",
      "metadata": {
        "id": "j-s-VlsxsUFH"
      },
      "source": [
        "## Read Glove File"
      ]
    },
    {
      "cell_type": "code",
      "metadata": {
        "id": "t9TXcvUysTsw"
      },
      "source": [
        "# every line conatin word and it's vector \n",
        "# first column is word , rest of line is vector\n",
        "\n",
        "dict_w2v = {}\n",
        "with open('glove.6B.50d.txt', \"r\") as file:\n",
        "  for line in file:\n",
        "    splitted = line.split()\n",
        "    word = splitted[0]\n",
        "    vector = np.array(splitted[1:], dtype=np.float32)\n",
        "    if vector.shape[0] == 50:\n",
        "      dict_w2v[word] = vector\n",
        "    else:\n",
        "      print(\"There was an issue with \" + word) \n"
      ],
      "execution_count": null,
      "outputs": []
    },
    {
      "cell_type": "code",
      "metadata": {
        "colab": {
          "base_uri": "https://localhost:8080/"
        },
        "id": "oDNqjxULsO13",
        "outputId": "1b05c39a-25ea-41c0-e53f-39e98566da59"
      },
      "source": [
        "@print(\"Dictionary Size: \", len(dict_w2v))\n"
      ],
      "execution_count": null,
      "outputs": [
        {
          "output_type": "stream",
          "text": [
            "Dictionary Size:  400000\n"
          ],
          "name": "stdout"
        }
      ]
    },
    {
      "cell_type": "markdown",
      "metadata": {
        "id": "DQ_52ZaTtDq3"
      },
      "source": [
        "## Building an Embedding Matrix\n"
      ]
    },
    {
      "cell_type": "code",
      "metadata": {
        "id": "oT42uoGatBGe"
      },
      "source": [
        "# dim of embedding matrix\n",
        "embedding_dim = 50\n",
        "# size of embedding will be size of vocab * embedding dim\n",
        "embedding_matrix = np.zeros((imdb_encoder.vocab_size, embedding_dim))"
      ],
      "execution_count": null,
      "outputs": []
    },
    {
      "cell_type": "code",
      "metadata": {
        "colab": {
          "base_uri": "https://localhost:8080/"
        },
        "id": "grFQadRftN1o",
        "outputId": "6ce22971-c628-4166-879a-199b90bd0374"
      },
      "source": [
        "# initalize emb matrix and count unk words\n",
        "unk_cnt = 0\n",
        "unk_set = set()\n",
        "for word in imdb_encoder.tokens:\n",
        "    embedding_vector = dict_w2v.get(word)\n",
        "\n",
        "    if embedding_vector is not None:\n",
        "        tkn_id = imdb_encoder.encode(word)[0]\n",
        "        embedding_matrix[tkn_id] = embedding_vector\n",
        "    else:\n",
        "        unk_cnt += 1\n",
        "        unk_set.add(word)\n",
        "\n",
        "# Print how many werent found\n",
        "print(\"Total unknown words: \", unk_cnt)"
      ],
      "execution_count": null,
      "outputs": [
        {
          "output_type": "stream",
          "text": [
            "Total unknown words:  14553\n"
          ],
          "name": "stdout"
        }
      ]
    },
    {
      "cell_type": "code",
      "metadata": {
        "id": "VmCsIU66tZiB"
      },
      "source": [
        "vocab_size = imdb_encoder.vocab_size \n",
        "\n",
        "# Number of RNN units\n",
        "rnn_units = 64\n",
        "\n",
        "#batch size\n",
        "BATCH_SIZE=100"
      ],
      "execution_count": null,
      "outputs": []
    },
    {
      "cell_type": "markdown",
      "metadata": {
        "id": "css_ZEFqtoDF"
      },
      "source": [
        "## BiLSTM Model"
      ]
    },
    {
      "cell_type": "code",
      "metadata": {
        "id": "BzYNLlIMtji7"
      },
      "source": [
        "def build_model_bilstm(vocab_size, embedding_dim, \n",
        "                       rnn_units, batch_size, train_emb=False):\n",
        "  model = tf.keras.Sequential([\n",
        "    Embedding(vocab_size, embedding_dim, mask_zero=True,\n",
        "              weights=[embedding_matrix], trainable=train_emb),\n",
        "    #Dropout(0.25),  \n",
        "    Bidirectional(tf.keras.layers.LSTM(rnn_units, return_sequences=True, \n",
        "                                      dropout=0.5)),\n",
        "    Bidirectional(tf.keras.layers.LSTM(rnn_units, dropout=0.25)),\n",
        "    Dense(1, activation='sigmoid')\n",
        "  ])\n",
        "  return model"
      ],
      "execution_count": null,
      "outputs": []
    },
    {
      "cell_type": "code",
      "metadata": {
        "colab": {
          "base_uri": "https://localhost:8080/"
        },
        "id": "4_CZV51ut20e",
        "outputId": "6025afd8-4d72-4c68-874b-e85cab8dd3c0"
      },
      "source": [
        "#Train a Feature Extraction Sequential Transfer Learning Model\n",
        "model_fe = build_model_bilstm(\n",
        "  vocab_size = vocab_size,\n",
        "  embedding_dim=embedding_dim,\n",
        "  rnn_units=rnn_units,\n",
        "  batch_size=BATCH_SIZE)\n",
        "\n",
        "model_fe.summary()"
      ],
      "execution_count": null,
      "outputs": [
        {
          "output_type": "stream",
          "text": [
            "Model: \"sequential\"\n",
            "_________________________________________________________________\n",
            "Layer (type)                 Output Shape              Param #   \n",
            "=================================================================\n",
            "embedding (Embedding)        (None, None, 50)          4696550   \n",
            "_________________________________________________________________\n",
            "bidirectional (Bidirectional (None, None, 128)         58880     \n",
            "_________________________________________________________________\n",
            "bidirectional_1 (Bidirection (None, 128)               98816     \n",
            "_________________________________________________________________\n",
            "dense (Dense)                (None, 1)                 129       \n",
            "=================================================================\n",
            "Total params: 4,854,375\n",
            "Trainable params: 157,825\n",
            "Non-trainable params: 4,696,550\n",
            "_________________________________________________________________\n"
          ],
          "name": "stdout"
        }
      ]
    },
    {
      "cell_type": "code",
      "metadata": {
        "id": "pJBiYW3GuGih"
      },
      "source": [
        "model_fe.compile(loss='binary_crossentropy', \n",
        "             optimizer='adam', \n",
        "             metrics=['accuracy', 'Precision', 'Recall'])"
      ],
      "execution_count": null,
      "outputs": []
    },
    {
      "cell_type": "code",
      "metadata": {
        "id": "DbPhrRaYuJGq"
      },
      "source": [
        "# prefetch is prepare data for next batch so it's not consume time\n",
        "encoded_train_batched = encoded_train.batch(BATCH_SIZE).prefetch(100)\n"
      ],
      "execution_count": null,
      "outputs": []
    },
    {
      "cell_type": "code",
      "metadata": {
        "colab": {
          "base_uri": "https://localhost:8080/"
        },
        "id": "NjkPkLhAuKpB",
        "outputId": "72e65825-4f4c-4c1c-b68c-a4e1a0ea3510"
      },
      "source": [
        "model_fe.fit(encoded_train_batched, epochs=30)\n"
      ],
      "execution_count": null,
      "outputs": [
        {
          "output_type": "stream",
          "text": [
            "Epoch 1/30\n",
            "250/250 [==============================] - 37s 72ms/step - loss: 0.5987 - accuracy: 0.6716 - precision: 0.6744 - recall: 0.6634\n",
            "Epoch 2/30\n",
            "250/250 [==============================] - 24s 94ms/step - loss: 0.5144 - accuracy: 0.7481 - precision: 0.7511 - recall: 0.7422\n",
            "Epoch 3/30\n",
            "250/250 [==============================] - 22s 89ms/step - loss: 0.4952 - accuracy: 0.7596 - precision: 0.7629 - recall: 0.7534\n",
            "Epoch 4/30\n",
            "250/250 [==============================] - 24s 95ms/step - loss: 0.4629 - accuracy: 0.7802 - precision: 0.7786 - recall: 0.7830\n",
            "Epoch 5/30\n",
            "250/250 [==============================] - 23s 94ms/step - loss: 0.4463 - accuracy: 0.7907 - precision: 0.7915 - recall: 0.7892\n",
            "Epoch 6/30\n",
            "250/250 [==============================] - 23s 90ms/step - loss: 0.4280 - accuracy: 0.8022 - precision: 0.8003 - recall: 0.8054\n",
            "Epoch 7/30\n",
            "250/250 [==============================] - 23s 92ms/step - loss: 0.4443 - accuracy: 0.7915 - precision: 0.7939 - recall: 0.7874\n",
            "Epoch 8/30\n",
            "250/250 [==============================] - 22s 89ms/step - loss: 0.4172 - accuracy: 0.8064 - precision: 0.8058 - recall: 0.8074\n",
            "Epoch 9/30\n",
            "250/250 [==============================] - 23s 93ms/step - loss: 0.4130 - accuracy: 0.8114 - precision: 0.8131 - recall: 0.8088\n",
            "Epoch 10/30\n",
            "250/250 [==============================] - 22s 90ms/step - loss: 0.4043 - accuracy: 0.8158 - precision: 0.8151 - recall: 0.8168\n",
            "Epoch 11/30\n",
            "250/250 [==============================] - 23s 93ms/step - loss: 0.3928 - accuracy: 0.8224 - precision: 0.8211 - recall: 0.8245\n",
            "Epoch 12/30\n",
            "250/250 [==============================] - 23s 91ms/step - loss: 0.3995 - accuracy: 0.8170 - precision: 0.8188 - recall: 0.8140\n",
            "Epoch 13/30\n",
            "250/250 [==============================] - 23s 92ms/step - loss: 0.3858 - accuracy: 0.8257 - precision: 0.8237 - recall: 0.8289\n",
            "Epoch 14/30\n",
            "250/250 [==============================] - 23s 93ms/step - loss: 0.3798 - accuracy: 0.8272 - precision: 0.8238 - recall: 0.8323\n",
            "Epoch 15/30\n",
            "250/250 [==============================] - 22s 89ms/step - loss: 0.3674 - accuracy: 0.8351 - precision: 0.8329 - recall: 0.8384\n",
            "Epoch 16/30\n",
            "250/250 [==============================] - 23s 93ms/step - loss: 0.3628 - accuracy: 0.8377 - precision: 0.8359 - recall: 0.8403\n",
            "Epoch 17/30\n",
            "250/250 [==============================] - 22s 89ms/step - loss: 0.3677 - accuracy: 0.8354 - precision: 0.8350 - recall: 0.8359\n",
            "Epoch 18/30\n",
            "250/250 [==============================] - 23s 93ms/step - loss: 0.3579 - accuracy: 0.8388 - precision: 0.8390 - recall: 0.8386\n",
            "Epoch 19/30\n",
            "250/250 [==============================] - 23s 90ms/step - loss: 0.3504 - accuracy: 0.8445 - precision: 0.8463 - recall: 0.8418\n",
            "Epoch 20/30\n",
            "250/250 [==============================] - 23s 92ms/step - loss: 0.3479 - accuracy: 0.8456 - precision: 0.8436 - recall: 0.8486\n",
            "Epoch 21/30\n",
            "250/250 [==============================] - 22s 90ms/step - loss: 0.3443 - accuracy: 0.8480 - precision: 0.8491 - recall: 0.8466\n",
            "Epoch 22/30\n",
            "250/250 [==============================] - 23s 92ms/step - loss: 0.3397 - accuracy: 0.8516 - precision: 0.8511 - recall: 0.8524\n",
            "Epoch 23/30\n",
            "250/250 [==============================] - 23s 93ms/step - loss: 0.3325 - accuracy: 0.8535 - precision: 0.8528 - recall: 0.8544\n",
            "Epoch 24/30\n",
            "250/250 [==============================] - 22s 89ms/step - loss: 0.3276 - accuracy: 0.8542 - precision: 0.8534 - recall: 0.8552\n",
            "Epoch 25/30\n",
            "250/250 [==============================] - 23s 93ms/step - loss: 0.3243 - accuracy: 0.8572 - precision: 0.8563 - recall: 0.8584\n",
            "Epoch 26/30\n",
            "250/250 [==============================] - 22s 90ms/step - loss: 0.3229 - accuracy: 0.8585 - precision: 0.8596 - recall: 0.8570\n",
            "Epoch 27/30\n",
            "250/250 [==============================] - 23s 92ms/step - loss: 0.3145 - accuracy: 0.8620 - precision: 0.8612 - recall: 0.8630\n",
            "Epoch 28/30\n",
            "250/250 [==============================] - 23s 93ms/step - loss: 0.3173 - accuracy: 0.8608 - precision: 0.8609 - recall: 0.8607\n",
            "Epoch 29/30\n",
            "250/250 [==============================] - 23s 91ms/step - loss: 0.3104 - accuracy: 0.8652 - precision: 0.8640 - recall: 0.8667\n",
            "Epoch 30/30\n",
            "250/250 [==============================] - 24s 94ms/step - loss: 0.3071 - accuracy: 0.8653 - precision: 0.8643 - recall: 0.8667\n"
          ],
          "name": "stdout"
        },
        {
          "output_type": "execute_result",
          "data": {
            "text/plain": [
              "<tensorflow.python.keras.callbacks.History at 0x7f7fef5f5bd0>"
            ]
          },
          "metadata": {
            "tags": []
          },
          "execution_count": 22
        }
      ]
    },
    {
      "cell_type": "code",
      "metadata": {
        "colab": {
          "base_uri": "https://localhost:8080/"
        },
        "id": "4MF3ZqkRuL66",
        "outputId": "0c706db9-b9d8-4992-fded-aeb58bb863cc"
      },
      "source": [
        "model_fe.evaluate(encoded_test.batch(BATCH_SIZE))"
      ],
      "execution_count": null,
      "outputs": [
        {
          "output_type": "stream",
          "text": [
            "250/250 [==============================] - 22s 73ms/step - loss: 0.3872 - accuracy: 0.8537 - precision: 0.8012 - recall: 0.9407\n"
          ],
          "name": "stdout"
        },
        {
          "output_type": "execute_result",
          "data": {
            "text/plain": [
              "[0.38724198937416077,\n",
              " 0.8536800146102905,\n",
              " 0.8012401461601257,\n",
              " 0.9407200217247009]"
            ]
          },
          "metadata": {
            "tags": []
          },
          "execution_count": 23
        }
      ]
    },
    {
      "cell_type": "code",
      "metadata": {
        "colab": {
          "base_uri": "https://localhost:8080/"
        },
        "id": "kqNIDaU-uh06",
        "outputId": "1338cfc8-5c71-4668-93d2-82d6dcc7eb94"
      },
      "source": [
        "# Train a Fine-Tuning Sequential Transfer Learning Model\n",
        "model_ft = build_model_bilstm(\n",
        "  vocab_size=vocab_size,\n",
        "  embedding_dim=embedding_dim,\n",
        "  rnn_units=rnn_units,\n",
        "  batch_size=BATCH_SIZE,\n",
        "  train_emb=True)\n",
        "\n",
        "model_ft.summary()"
      ],
      "execution_count": null,
      "outputs": [
        {
          "output_type": "stream",
          "text": [
            "Model: \"sequential_1\"\n",
            "_________________________________________________________________\n",
            "Layer (type)                 Output Shape              Param #   \n",
            "=================================================================\n",
            "embedding_1 (Embedding)      (None, None, 50)          4696550   \n",
            "_________________________________________________________________\n",
            "bidirectional_2 (Bidirection (None, None, 128)         58880     \n",
            "_________________________________________________________________\n",
            "bidirectional_3 (Bidirection (None, 128)               98816     \n",
            "_________________________________________________________________\n",
            "dense_1 (Dense)              (None, 1)                 129       \n",
            "=================================================================\n",
            "Total params: 4,854,375\n",
            "Trainable params: 4,854,375\n",
            "Non-trainable params: 0\n",
            "_________________________________________________________________\n"
          ],
          "name": "stdout"
        }
      ]
    },
    {
      "cell_type": "code",
      "metadata": {
        "id": "D15bYM_uuk_d"
      },
      "source": [
        "model_ft.compile(loss='binary_crossentropy', \n",
        "             optimizer='adam', \n",
        "             metrics=['accuracy', 'Precision', 'Recall'])"
      ],
      "execution_count": null,
      "outputs": []
    },
    {
      "cell_type": "code",
      "metadata": {
        "colab": {
          "base_uri": "https://localhost:8080/"
        },
        "id": "lI158DHaumr-",
        "outputId": "033a49f8-ff8c-412f-abda-ef87222c2568"
      },
      "source": [
        "model_ft.fit(encoded_train_batched, epochs=50)\n"
      ],
      "execution_count": null,
      "outputs": [
        {
          "output_type": "stream",
          "text": [
            "Epoch 1/50\n",
            "250/250 [==============================] - 46s 130ms/step - loss: 0.5436 - accuracy: 0.7195 - precision: 0.7197 - recall: 0.7191\n",
            "Epoch 2/50\n",
            "250/250 [==============================] - 33s 133ms/step - loss: 0.3962 - accuracy: 0.8216 - precision: 0.8242 - recall: 0.8174\n",
            "Epoch 3/50\n",
            "250/250 [==============================] - 34s 135ms/step - loss: 0.3236 - accuracy: 0.8620 - precision: 0.8601 - recall: 0.8646\n",
            "Epoch 4/50\n",
            "250/250 [==============================] - 33s 132ms/step - loss: 0.2745 - accuracy: 0.8858 - precision: 0.8888 - recall: 0.8820\n",
            "Epoch 5/50\n",
            "250/250 [==============================] - 34s 134ms/step - loss: 0.2428 - accuracy: 0.9029 - precision: 0.9032 - recall: 0.9026\n",
            "Epoch 6/50\n",
            "250/250 [==============================] - 33s 130ms/step - loss: 0.2044 - accuracy: 0.9196 - precision: 0.9196 - recall: 0.9195\n",
            "Epoch 7/50\n",
            "250/250 [==============================] - 34s 135ms/step - loss: 0.1765 - accuracy: 0.9316 - precision: 0.9339 - recall: 0.9289\n",
            "Epoch 8/50\n",
            "250/250 [==============================] - 33s 131ms/step - loss: 0.1528 - accuracy: 0.9429 - precision: 0.9420 - recall: 0.9439\n",
            "Epoch 9/50\n",
            "250/250 [==============================] - 33s 133ms/step - loss: 0.1321 - accuracy: 0.9508 - precision: 0.9507 - recall: 0.9508\n",
            "Epoch 10/50\n",
            "250/250 [==============================] - 33s 133ms/step - loss: 0.1162 - accuracy: 0.9579 - precision: 0.9586 - recall: 0.9572\n",
            "Epoch 11/50\n",
            "250/250 [==============================] - 34s 136ms/step - loss: 0.0991 - accuracy: 0.9655 - precision: 0.9665 - recall: 0.9644\n",
            "Epoch 12/50\n",
            "250/250 [==============================] - 33s 131ms/step - loss: 0.0827 - accuracy: 0.9710 - precision: 0.9716 - recall: 0.9704\n",
            "Epoch 13/50\n",
            "250/250 [==============================] - 34s 135ms/step - loss: 0.0720 - accuracy: 0.9736 - precision: 0.9735 - recall: 0.9738\n",
            "Epoch 14/50\n",
            "250/250 [==============================] - 33s 131ms/step - loss: 0.0645 - accuracy: 0.9781 - precision: 0.9775 - recall: 0.9786\n",
            "Epoch 15/50\n",
            "250/250 [==============================] - 34s 135ms/step - loss: 0.0569 - accuracy: 0.9805 - precision: 0.9808 - recall: 0.9802\n",
            "Epoch 16/50\n",
            "250/250 [==============================] - 33s 133ms/step - loss: 0.0507 - accuracy: 0.9831 - precision: 0.9828 - recall: 0.9834\n",
            "Epoch 17/50\n",
            "250/250 [==============================] - 33s 133ms/step - loss: 0.0422 - accuracy: 0.9846 - precision: 0.9846 - recall: 0.9846\n",
            "Epoch 18/50\n",
            "250/250 [==============================] - 33s 131ms/step - loss: 0.0390 - accuracy: 0.9862 - precision: 0.9867 - recall: 0.9857\n",
            "Epoch 19/50\n",
            "250/250 [==============================] - 33s 132ms/step - loss: 0.0330 - accuracy: 0.9883 - precision: 0.9884 - recall: 0.9882\n",
            "Epoch 20/50\n",
            "250/250 [==============================] - 34s 135ms/step - loss: 0.0302 - accuracy: 0.9896 - precision: 0.9899 - recall: 0.9894\n",
            "Epoch 21/50\n",
            "250/250 [==============================] - 34s 135ms/step - loss: 0.0299 - accuracy: 0.9899 - precision: 0.9900 - recall: 0.9898\n",
            "Epoch 22/50\n",
            "250/250 [==============================] - 33s 130ms/step - loss: 0.0248 - accuracy: 0.9916 - precision: 0.9916 - recall: 0.9916\n",
            "Epoch 23/50\n",
            "250/250 [==============================] - 34s 135ms/step - loss: 0.0234 - accuracy: 0.9918 - precision: 0.9918 - recall: 0.9918\n",
            "Epoch 24/50\n",
            "250/250 [==============================] - 33s 131ms/step - loss: 0.0214 - accuracy: 0.9930 - precision: 0.9933 - recall: 0.9927\n",
            "Epoch 25/50\n",
            "250/250 [==============================] - 33s 133ms/step - loss: 0.0223 - accuracy: 0.9921 - precision: 0.9916 - recall: 0.9926\n",
            "Epoch 26/50\n",
            "250/250 [==============================] - 33s 133ms/step - loss: 0.0193 - accuracy: 0.9933 - precision: 0.9934 - recall: 0.9931\n",
            "Epoch 27/50\n",
            "250/250 [==============================] - 32s 128ms/step - loss: 0.0192 - accuracy: 0.9933 - precision: 0.9938 - recall: 0.9929\n",
            "Epoch 28/50\n",
            "250/250 [==============================] - 33s 133ms/step - loss: 0.0194 - accuracy: 0.9932 - precision: 0.9932 - recall: 0.9931\n",
            "Epoch 29/50\n",
            "250/250 [==============================] - 33s 134ms/step - loss: 0.0159 - accuracy: 0.9946 - precision: 0.9952 - recall: 0.9941\n",
            "Epoch 30/50\n",
            "250/250 [==============================] - 33s 131ms/step - loss: 0.0150 - accuracy: 0.9951 - precision: 0.9954 - recall: 0.9948\n",
            "Epoch 31/50\n",
            "250/250 [==============================] - 33s 133ms/step - loss: 0.0147 - accuracy: 0.9950 - precision: 0.9947 - recall: 0.9954\n",
            "Epoch 32/50\n",
            "250/250 [==============================] - 34s 134ms/step - loss: 0.0128 - accuracy: 0.9958 - precision: 0.9955 - recall: 0.9960\n",
            "Epoch 33/50\n",
            "250/250 [==============================] - 33s 130ms/step - loss: 0.0124 - accuracy: 0.9958 - precision: 0.9962 - recall: 0.9955\n",
            "Epoch 34/50\n",
            "250/250 [==============================] - 34s 136ms/step - loss: 0.0121 - accuracy: 0.9959 - precision: 0.9961 - recall: 0.9958\n",
            "Epoch 35/50\n",
            "250/250 [==============================] - 33s 130ms/step - loss: 0.0119 - accuracy: 0.9960 - precision: 0.9958 - recall: 0.9962\n",
            "Epoch 36/50\n",
            "250/250 [==============================] - 34s 134ms/step - loss: 0.0098 - accuracy: 0.9968 - precision: 0.9969 - recall: 0.9967\n",
            "Epoch 37/50\n",
            "250/250 [==============================] - 32s 129ms/step - loss: 0.0085 - accuracy: 0.9970 - precision: 0.9970 - recall: 0.9970\n",
            "Epoch 38/50\n",
            "250/250 [==============================] - 34s 134ms/step - loss: 0.0108 - accuracy: 0.9964 - precision: 0.9962 - recall: 0.9965\n",
            "Epoch 39/50\n",
            "250/250 [==============================] - 33s 133ms/step - loss: 0.0096 - accuracy: 0.9966 - precision: 0.9966 - recall: 0.9967\n",
            "Epoch 40/50\n",
            "250/250 [==============================] - 33s 133ms/step - loss: 0.0072 - accuracy: 0.9978 - precision: 0.9978 - recall: 0.9978\n",
            "Epoch 41/50\n",
            "250/250 [==============================] - 33s 131ms/step - loss: 0.0077 - accuracy: 0.9976 - precision: 0.9978 - recall: 0.9973\n",
            "Epoch 42/50\n",
            "250/250 [==============================] - 33s 133ms/step - loss: 0.0068 - accuracy: 0.9978 - precision: 0.9981 - recall: 0.9974\n",
            "Epoch 43/50\n",
            "250/250 [==============================] - 32s 129ms/step - loss: 0.0077 - accuracy: 0.9972 - precision: 0.9970 - recall: 0.9974\n",
            "Epoch 44/50\n",
            "250/250 [==============================] - 34s 134ms/step - loss: 0.0069 - accuracy: 0.9976 - precision: 0.9978 - recall: 0.9974\n",
            "Epoch 45/50\n",
            "250/250 [==============================] - 33s 130ms/step - loss: 0.0073 - accuracy: 0.9977 - precision: 0.9977 - recall: 0.9978\n",
            "Epoch 46/50\n",
            "250/250 [==============================] - 34s 134ms/step - loss: 0.0066 - accuracy: 0.9977 - precision: 0.9978 - recall: 0.9977\n",
            "Epoch 47/50\n",
            "250/250 [==============================] - 34s 134ms/step - loss: 0.0052 - accuracy: 0.9983 - precision: 0.9984 - recall: 0.9982\n",
            "Epoch 48/50\n",
            "250/250 [==============================] - 33s 130ms/step - loss: 0.0047 - accuracy: 0.9986 - precision: 0.9986 - recall: 0.9986\n",
            "Epoch 49/50\n",
            "250/250 [==============================] - 34s 135ms/step - loss: 0.0037 - accuracy: 0.9988 - precision: 0.9988 - recall: 0.9989\n",
            "Epoch 50/50\n",
            "250/250 [==============================] - 33s 130ms/step - loss: 0.0046 - accuracy: 0.9982 - precision: 0.9979 - recall: 0.9984\n"
          ],
          "name": "stdout"
        },
        {
          "output_type": "execute_result",
          "data": {
            "text/plain": [
              "<tensorflow.python.keras.callbacks.History at 0x7f7f9c9b4e90>"
            ]
          },
          "metadata": {
            "tags": []
          },
          "execution_count": 26
        }
      ]
    },
    {
      "cell_type": "code",
      "metadata": {
        "colab": {
          "base_uri": "https://localhost:8080/"
        },
        "id": "H4WqKu4KuoBu",
        "outputId": "1512bb1d-2fff-4002-e11b-3aa0189a51af"
      },
      "source": [
        "model_ft.evaluate(encoded_test.batch(BATCH_SIZE))\n"
      ],
      "execution_count": null,
      "outputs": [
        {
          "output_type": "stream",
          "text": [
            "250/250 [==============================] - 22s 73ms/step - loss: 1.3702 - accuracy: 0.8359 - precision: 0.8698 - recall: 0.7900\n"
          ],
          "name": "stdout"
        },
        {
          "output_type": "execute_result",
          "data": {
            "text/plain": [
              "[1.370226263999939, 0.8358799815177917, 0.8698141574859619, 0.7900000214576721]"
            ]
          },
          "metadata": {
            "tags": []
          },
          "execution_count": 67
        }
      ]
    },
    {
      "cell_type": "markdown",
      "metadata": {
        "id": "3QkPvzCnvKjE"
      },
      "source": [
        "It can also be seen that the network is overfitting a little bit. A Dropout layer can\n",
        "be added between the Embedding layer and the first LSTM layer to help reduce this\n",
        "overfitting. It should also be noted that this network is still much faster than training\n",
        "embeddings from scratch. Most epochs took 34 seconds for training. Overall, this\n",
        "model is smaller in size, takes much less time to train, and has much higher accuracy!\n",
        "This is why transfer learning is so important in machine learning in general and NLP\n",
        "more specifically.\n",
        "So far, we have seen the use of context-free word embeddings. The major challenge\n",
        "with this approach is that a word could have multiple meanings depending on the\n",
        "context. The word bank could refer to a place for storing money and valuables and\n",
        "also the side of a river. A more recent innovation in this area is BERT"
      ]
    },
    {
      "cell_type": "code",
      "metadata": {
        "id": "oAVWDt4KuypY"
      },
      "source": [
        "tf.keras.backend.clear_session()"
      ],
      "execution_count": null,
      "outputs": []
    },
    {
      "cell_type": "markdown",
      "metadata": {
        "id": "mEIeFpBK18E_"
      },
      "source": [
        "# **BERT**"
      ]
    },
    {
      "cell_type": "code",
      "metadata": {
        "colab": {
          "base_uri": "https://localhost:8080/",
          "height": 163,
          "referenced_widgets": [
            "5725bd5fe95045d39d6b377b9ad1c734",
            "943e017fc4c745c8bc49c3a9f70664ac",
            "dcea4da3be57424ba9acfc74278ed431",
            "84f6d94c2cec4857963eb6acc6c77e73",
            "1ec7a717e701494683441e4fd0b2b9c5",
            "574e37422d434f6bad6163507803a656",
            "39bc362addf94e969a2ad9b720e0ad18",
            "d8c1ab19222341299926a65c27071108",
            "d774ab6c8b1c4b9a8d25085160806cf2",
            "c8823e0f460348af99aa9422c3e6db8c",
            "1a9334f372724f4fb95aacab7d8dfcd6",
            "d8496e5c41054f58837618de0928b3d6",
            "e5a7c72557c14719a6f8b26f32bf179b",
            "3e170a362c70479e985522ff8cd03d26",
            "9a6bc743e2404737b869c0722519b403",
            "1c0829f2abf548a4b901db25ef111bb6",
            "ad0059fac62b44baaac28ba870ef6995",
            "937159a3eac44f448212a5aadffdccd2",
            "9198cd782bb34f8082a62935a7f2b7ff",
            "4099f32de3e2481bae5f1a4c7c711809",
            "8ea8171696344bacae447203d881d41d",
            "9db9b70e8f2e465f954730176db56c11",
            "976495f68a8d4630a4a42679bc3237a3",
            "a18f7b2866834946b2bdceabd44622c5"
          ]
        },
        "id": "3MzltUi9y79R",
        "outputId": "4c8234f2-27f5-4d8f-a41e-729b52978189"
      },
      "source": [
        "# Defining BERT tokenizer\n",
        "#bert_name = 'bert-base-uncased'\n",
        "\n",
        "bert_name = 'bert-base-cased'\n",
        "tokenizer = BertTokenizer.from_pretrained(bert_name, add_special_tokens=True, \n",
        "                                          do_lower_case=False, max_length=150, \n",
        "                                          pad_to_max_length=True)"
      ],
      "execution_count": null,
      "outputs": [
        {
          "output_type": "display_data",
          "data": {
            "application/vnd.jupyter.widget-view+json": {
              "model_id": "5725bd5fe95045d39d6b377b9ad1c734",
              "version_minor": 0,
              "version_major": 2
            },
            "text/plain": [
              "HBox(children=(FloatProgress(value=0.0, description='Downloading', max=213450.0, style=ProgressStyle(descripti…"
            ]
          },
          "metadata": {
            "tags": []
          }
        },
        {
          "output_type": "stream",
          "text": [
            "\n"
          ],
          "name": "stdout"
        },
        {
          "output_type": "display_data",
          "data": {
            "application/vnd.jupyter.widget-view+json": {
              "model_id": "d774ab6c8b1c4b9a8d25085160806cf2",
              "version_minor": 0,
              "version_major": 2
            },
            "text/plain": [
              "HBox(children=(FloatProgress(value=0.0, description='Downloading', max=29.0, style=ProgressStyle(description_w…"
            ]
          },
          "metadata": {
            "tags": []
          }
        },
        {
          "output_type": "stream",
          "text": [
            "\n"
          ],
          "name": "stdout"
        },
        {
          "output_type": "display_data",
          "data": {
            "application/vnd.jupyter.widget-view+json": {
              "model_id": "ad0059fac62b44baaac28ba870ef6995",
              "version_minor": 0,
              "version_major": 2
            },
            "text/plain": [
              "HBox(children=(FloatProgress(value=0.0, description='Downloading', max=435797.0, style=ProgressStyle(descripti…"
            ]
          },
          "metadata": {
            "tags": []
          }
        },
        {
          "output_type": "stream",
          "text": [
            "\n"
          ],
          "name": "stdout"
        }
      ]
    },
    {
      "cell_type": "code",
      "metadata": {
        "colab": {
          "base_uri": "https://localhost:8080/"
        },
        "id": "REsW_dFg1983",
        "outputId": "0e5a59a1-f95e-4373-e695-eef57389b4cb"
      },
      "source": [
        "tst = \"This was an absolutely terrible movie. Don't be lured in \\\n",
        "        by Christopher Walken or Michael Ironside.\"\n",
        "tokenizer.encode_plus(tst, add_special_tokens=True, max_length=150, \n",
        "                      pad_to_max_length=True, \n",
        "                      return_attention_mask=True, \n",
        "                      return_token_type_ids=True,\n",
        "                      truncation=True)"
      ],
      "execution_count": null,
      "outputs": [
        {
          "output_type": "stream",
          "text": [
            "/usr/local/lib/python3.7/dist-packages/transformers/tokenization_utils_base.py:2132: FutureWarning: The `pad_to_max_length` argument is deprecated and will be removed in a future version, use `padding=True` or `padding='longest'` to pad to the longest sequence in the batch, or use `padding='max_length'` to pad to a max length. In this case, you can give a specific length with `max_length` (e.g. `max_length=45`) or leave max_length to None to pad to the maximal input size of the model (e.g. 512 for Bert).\n",
            "  FutureWarning,\n"
          ],
          "name": "stderr"
        },
        {
          "output_type": "execute_result",
          "data": {
            "text/plain": [
              "{'input_ids': [101, 1188, 1108, 1126, 7284, 6434, 2523, 119, 1790, 112, 189, 1129, 19615, 1181, 1107, 1118, 4978, 10065, 1424, 1137, 1847, 5621, 5570, 119, 102, 0, 0, 0, 0, 0, 0, 0, 0, 0, 0, 0, 0, 0, 0, 0, 0, 0, 0, 0, 0, 0, 0, 0, 0, 0, 0, 0, 0, 0, 0, 0, 0, 0, 0, 0, 0, 0, 0, 0, 0, 0, 0, 0, 0, 0, 0, 0, 0, 0, 0, 0, 0, 0, 0, 0, 0, 0, 0, 0, 0, 0, 0, 0, 0, 0, 0, 0, 0, 0, 0, 0, 0, 0, 0, 0, 0, 0, 0, 0, 0, 0, 0, 0, 0, 0, 0, 0, 0, 0, 0, 0, 0, 0, 0, 0, 0, 0, 0, 0, 0, 0, 0, 0, 0, 0, 0, 0, 0, 0, 0, 0, 0, 0, 0, 0, 0, 0, 0, 0, 0, 0, 0, 0, 0, 0], 'token_type_ids': [0, 0, 0, 0, 0, 0, 0, 0, 0, 0, 0, 0, 0, 0, 0, 0, 0, 0, 0, 0, 0, 0, 0, 0, 0, 0, 0, 0, 0, 0, 0, 0, 0, 0, 0, 0, 0, 0, 0, 0, 0, 0, 0, 0, 0, 0, 0, 0, 0, 0, 0, 0, 0, 0, 0, 0, 0, 0, 0, 0, 0, 0, 0, 0, 0, 0, 0, 0, 0, 0, 0, 0, 0, 0, 0, 0, 0, 0, 0, 0, 0, 0, 0, 0, 0, 0, 0, 0, 0, 0, 0, 0, 0, 0, 0, 0, 0, 0, 0, 0, 0, 0, 0, 0, 0, 0, 0, 0, 0, 0, 0, 0, 0, 0, 0, 0, 0, 0, 0, 0, 0, 0, 0, 0, 0, 0, 0, 0, 0, 0, 0, 0, 0, 0, 0, 0, 0, 0, 0, 0, 0, 0, 0, 0, 0, 0, 0, 0, 0, 0], 'attention_mask': [1, 1, 1, 1, 1, 1, 1, 1, 1, 1, 1, 1, 1, 1, 1, 1, 1, 1, 1, 1, 1, 1, 1, 1, 1, 0, 0, 0, 0, 0, 0, 0, 0, 0, 0, 0, 0, 0, 0, 0, 0, 0, 0, 0, 0, 0, 0, 0, 0, 0, 0, 0, 0, 0, 0, 0, 0, 0, 0, 0, 0, 0, 0, 0, 0, 0, 0, 0, 0, 0, 0, 0, 0, 0, 0, 0, 0, 0, 0, 0, 0, 0, 0, 0, 0, 0, 0, 0, 0, 0, 0, 0, 0, 0, 0, 0, 0, 0, 0, 0, 0, 0, 0, 0, 0, 0, 0, 0, 0, 0, 0, 0, 0, 0, 0, 0, 0, 0, 0, 0, 0, 0, 0, 0, 0, 0, 0, 0, 0, 0, 0, 0, 0, 0, 0, 0, 0, 0, 0, 0, 0, 0, 0, 0, 0, 0, 0, 0, 0, 0]}"
            ]
          },
          "metadata": {
            "tags": []
          },
          "execution_count": 29
        }
      ]
    },
    {
      "cell_type": "code",
      "metadata": {
        "colab": {
          "base_uri": "https://localhost:8080/",
          "height": 35
        },
        "id": "30HZZ_e51_if",
        "outputId": "9e967c05-bf52-4cb7-8730-1f71ee4b6e61"
      },
      "source": [
        "tokens = tokenizer.encode(tst, add_special_tokens=True)\n",
        "tokenizer.decode(tokens)"
      ],
      "execution_count": null,
      "outputs": [
        {
          "output_type": "execute_result",
          "data": {
            "application/vnd.google.colaboratory.intrinsic+json": {
              "type": "string"
            },
            "text/plain": [
              "\"[CLS] This was an absolutely terrible movie. Don't be lured in by Christopher Walken or Michael Ironside. [SEP]\""
            ]
          },
          "metadata": {
            "tags": []
          },
          "execution_count": 30
        }
      ]
    },
    {
      "cell_type": "code",
      "metadata": {
        "colab": {
          "base_uri": "https://localhost:8080/",
          "height": 35
        },
        "id": "KJBozKaY2CIA",
        "outputId": "9f905daf-2479-4a3b-fa17-7deb9eaf4b8f"
      },
      "source": [
        "\" \".join([tokenizer.decode([tok]) for tok in tokens])\n"
      ],
      "execution_count": null,
      "outputs": [
        {
          "output_type": "execute_result",
          "data": {
            "application/vnd.google.colaboratory.intrinsic+json": {
              "type": "string"
            },
            "text/plain": [
              "\"[CLS] This was an absolutely terrible movie . Don ' t be lure ##d in by Christopher Walk ##en or Michael Iron ##side . [SEP]\""
            ]
          },
          "metadata": {
            "tags": []
          },
          "execution_count": 31
        }
      ]
    },
    {
      "cell_type": "code",
      "metadata": {
        "colab": {
          "base_uri": "https://localhost:8080/"
        },
        "id": "7Caat2Z52ISp",
        "outputId": "a6a3a5b1-4bd7-462c-b952-f33bb64e2c87"
      },
      "source": [
        "tokenizer.encode_plus(\"Don't be lured\", add_special_tokens=True, \n",
        "                      max_length=9,\n",
        "                      pad_to_max_length=True, \n",
        "                      return_attention_mask=True, \n",
        "                      return_token_type_ids=True,\n",
        "                      truncation=True)"
      ],
      "execution_count": null,
      "outputs": [
        {
          "output_type": "stream",
          "text": [
            "/usr/local/lib/python3.7/dist-packages/transformers/tokenization_utils_base.py:2132: FutureWarning: The `pad_to_max_length` argument is deprecated and will be removed in a future version, use `padding=True` or `padding='longest'` to pad to the longest sequence in the batch, or use `padding='max_length'` to pad to a max length. In this case, you can give a specific length with `max_length` (e.g. `max_length=45`) or leave max_length to None to pad to the maximal input size of the model (e.g. 512 for Bert).\n",
            "  FutureWarning,\n"
          ],
          "name": "stderr"
        },
        {
          "output_type": "execute_result",
          "data": {
            "text/plain": [
              "{'input_ids': [101, 1790, 112, 189, 1129, 19615, 1181, 102, 0], 'token_type_ids': [0, 0, 0, 0, 0, 0, 0, 0, 0], 'attention_mask': [1, 1, 1, 1, 1, 1, 1, 1, 0]}"
            ]
          },
          "metadata": {
            "tags": []
          },
          "execution_count": 32
        }
      ]
    },
    {
      "cell_type": "code",
      "metadata": {
        "colab": {
          "base_uri": "https://localhost:8080/"
        },
        "id": "yKVOeuBJ2Jlh",
        "outputId": "f553bfa0-002a-4544-8f60-cb7634fa0351"
      },
      "source": [
        "# if two segment we observe the type ids have 1s , also we use special token [SEP] \"102\" to seperate between two segment\n",
        "tokenizer.encode_plus(\"Don't be\",\" lured\", add_special_tokens=True, \n",
        "                      max_length=10,\n",
        "                      pad_to_max_length=True, \n",
        "                      return_attention_mask=True, \n",
        "                      return_token_type_ids=True,\n",
        "                      truncation=True\n",
        "                     )"
      ],
      "execution_count": null,
      "outputs": [
        {
          "output_type": "stream",
          "text": [
            "/usr/local/lib/python3.7/dist-packages/transformers/tokenization_utils_base.py:2132: FutureWarning: The `pad_to_max_length` argument is deprecated and will be removed in a future version, use `padding=True` or `padding='longest'` to pad to the longest sequence in the batch, or use `padding='max_length'` to pad to a max length. In this case, you can give a specific length with `max_length` (e.g. `max_length=45`) or leave max_length to None to pad to the maximal input size of the model (e.g. 512 for Bert).\n",
            "  FutureWarning,\n"
          ],
          "name": "stderr"
        },
        {
          "output_type": "execute_result",
          "data": {
            "text/plain": [
              "{'input_ids': [101, 1790, 112, 189, 1129, 102, 19615, 1181, 102, 0], 'token_type_ids': [0, 0, 0, 0, 0, 0, 1, 1, 1, 0], 'attention_mask': [1, 1, 1, 1, 1, 1, 1, 1, 1, 0]}"
            ]
          },
          "metadata": {
            "tags": []
          },
          "execution_count": 33
        }
      ]
    },
    {
      "cell_type": "code",
      "metadata": {
        "id": "NHQdUjlI2KvR"
      },
      "source": [
        "def bert_encoder(review):\n",
        "    txt = review.numpy().decode('utf-8')\n",
        "    encoded = tokenizer.encode_plus(txt, add_special_tokens=True, \n",
        "                                    max_length=150, pad_to_max_length=True, \n",
        "                                    return_attention_mask=True, \n",
        "                                    return_token_type_ids=True,\n",
        "                                    truncation=True)\n",
        "    return encoded['input_ids'], encoded['token_type_ids'], \\\n",
        "           encoded['attention_mask']"
      ],
      "execution_count": null,
      "outputs": []
    },
    {
      "cell_type": "code",
      "metadata": {
        "colab": {
          "base_uri": "https://localhost:8080/"
        },
        "id": "A8dx7zxs2NBo",
        "outputId": "4b3450a1-2c1d-4815-cebf-641b1a4aab7f"
      },
      "source": [
        "# define X , y\n",
        "bert_train = [bert_encoder(r) for r,l in imdb_train]\n",
        "bert_lbl = [l for r, l in imdb_train]"
      ],
      "execution_count": null,
      "outputs": [
        {
          "output_type": "stream",
          "text": [
            "/usr/local/lib/python3.7/dist-packages/transformers/tokenization_utils_base.py:2132: FutureWarning: The `pad_to_max_length` argument is deprecated and will be removed in a future version, use `padding=True` or `padding='longest'` to pad to the longest sequence in the batch, or use `padding='max_length'` to pad to a max length. In this case, you can give a specific length with `max_length` (e.g. `max_length=45`) or leave max_length to None to pad to the maximal input size of the model (e.g. 512 for Bert).\n",
            "  FutureWarning,\n"
          ],
          "name": "stderr"
        }
      ]
    },
    {
      "cell_type": "code",
      "metadata": {
        "colab": {
          "base_uri": "https://localhost:8080/"
        },
        "id": "IUL0bXZX2QiS",
        "outputId": "9f5aa3b8-eea5-4a71-9852-c149d8476e02"
      },
      "source": [
        "bert_train = np.array(bert_train)\n",
        "bert_train.shape"
      ],
      "execution_count": null,
      "outputs": [
        {
          "output_type": "execute_result",
          "data": {
            "text/plain": [
              "(25000, 3, 150)"
            ]
          },
          "metadata": {
            "tags": []
          },
          "execution_count": 36
        }
      ]
    },
    {
      "cell_type": "code",
      "metadata": {
        "colab": {
          "base_uri": "https://localhost:8080/"
        },
        "id": "mCtcWdFc2Roq",
        "outputId": "017107cd-c565-42da-9b50-1247a4b07c5b"
      },
      "source": [
        "\n",
        "bert_lbl = tf.keras.utils.to_categorical(bert_lbl, num_classes=2)\n",
        "bert_lbl.shape"
      ],
      "execution_count": null,
      "outputs": [
        {
          "output_type": "execute_result",
          "data": {
            "text/plain": [
              "(25000, 2)"
            ]
          },
          "metadata": {
            "tags": []
          },
          "execution_count": 37
        }
      ]
    },
    {
      "cell_type": "code",
      "metadata": {
        "colab": {
          "base_uri": "https://localhost:8080/"
        },
        "id": "H3OlzGRs2S8S",
        "outputId": "4eb2587c-7219-499f-cb54-3578e713c5fc"
      },
      "source": [
        "# splitting Data\n",
        "x_train, x_val, y_train, y_val = train_test_split(bert_train, bert_lbl, \n",
        "                                                    test_size=0.2, \n",
        "                                                    random_state=42)\n",
        "\n",
        "print(x_train.shape, y_train.shape)"
      ],
      "execution_count": null,
      "outputs": [
        {
          "output_type": "stream",
          "text": [
            "(20000, 3, 150) (20000, 2)\n"
          ],
          "name": "stdout"
        }
      ]
    },
    {
      "cell_type": "code",
      "metadata": {
        "id": "GqywoCv72WyD"
      },
      "source": [
        "# Seperate each key\n",
        "tr_reviews, tr_segments, tr_masks = np.split(x_train, 3, axis=1)\n",
        "val_reviews, val_segments, val_masks = np.split(x_val, 3, axis=1)"
      ],
      "execution_count": null,
      "outputs": []
    },
    {
      "cell_type": "code",
      "metadata": {
        "colab": {
          "base_uri": "https://localhost:8080/"
        },
        "id": "1hbn5_Pz2Zjs",
        "outputId": "773d5232-26b3-4f29-c4e4-ac514b375099"
      },
      "source": [
        "tr_reviews.shape"
      ],
      "execution_count": null,
      "outputs": [
        {
          "output_type": "execute_result",
          "data": {
            "text/plain": [
              "(20000, 1, 150)"
            ]
          },
          "metadata": {
            "tags": []
          },
          "execution_count": 40
        }
      ]
    },
    {
      "cell_type": "code",
      "metadata": {
        "id": "UX_t8_v22aQf"
      },
      "source": [
        "tr_reviews = tr_reviews.squeeze()\n",
        "tr_segments = tr_segments.squeeze()\n",
        "tr_masks = tr_masks.squeeze()\n",
        "\n",
        "val_reviews = val_reviews.squeeze()\n",
        "val_segments = val_segments.squeeze()\n",
        "val_masks = val_masks.squeeze()"
      ],
      "execution_count": null,
      "outputs": []
    },
    {
      "cell_type": "code",
      "metadata": {
        "id": "Ah0xkXXJ2b3e"
      },
      "source": [
        "# Make a tf dataset object\n",
        "def example_to_features(input_ids,attention_masks,token_type_ids,y):\n",
        "  return {\"input_ids\": input_ids,\n",
        "          \"attention_mask\": attention_masks,\n",
        "          \"token_type_ids\": token_type_ids},y\n",
        "\n",
        "\n",
        "train_ds = tf.data.Dataset.from_tensor_slices((tr_reviews, tr_masks, \n",
        "                                               tr_segments, y_train)).\\\n",
        "            map(example_to_features).shuffle(100).batch(16)\n",
        "\n",
        "valid_ds = tf.data.Dataset.from_tensor_slices((val_reviews, val_masks, \n",
        "                                               val_segments, y_val)).\\\n",
        "            map(example_to_features).shuffle(100).batch(16)"
      ],
      "execution_count": null,
      "outputs": []
    },
    {
      "cell_type": "code",
      "metadata": {
        "colab": {
          "base_uri": "https://localhost:8080/",
          "height": 202,
          "referenced_widgets": [
            "158f04008f314d2ea9ecf33eea628e8e",
            "0272fbc449df4d0781a56974f5eaefe7",
            "8fe0b0ae40774e2caabe6da0f56ba1cd",
            "369b5e6b402c4269a2fcb5d80c2d9e14",
            "12d76167ea1045f7963ed517d6adc5fb",
            "e696032c96ee4380a0d116353ea7582c",
            "1f5fab0203604b949ae1c1ecefa68990",
            "fba1ff07faad466393116733d6f13f5e",
            "2cd03a73790b433e84f2c69b65325685",
            "dd8330100aa14cc48d589ce388beda58",
            "f8025d4bc53b4c3ea3dfbfa929616d9e",
            "41a7289e8f9a4e96abc260696dcb4f7d",
            "e7a8494d434148ce9f092a60d5ceb530",
            "4625d54dcecc472d8b68615143d6f3e5",
            "d0119c084f4045f5b2fb05eff26510ee",
            "a195fdbe3dc640d4a0dee0a215f0e1b7"
          ]
        },
        "id": "z_TtZ-vb2hmM",
        "outputId": "e2586f15-75c8-4c58-ad11-af995990c59f"
      },
      "source": [
        "bert_model = TFBertForSequenceClassification.from_pretrained(bert_name)"
      ],
      "execution_count": null,
      "outputs": [
        {
          "output_type": "display_data",
          "data": {
            "application/vnd.jupyter.widget-view+json": {
              "model_id": "158f04008f314d2ea9ecf33eea628e8e",
              "version_minor": 0,
              "version_major": 2
            },
            "text/plain": [
              "HBox(children=(FloatProgress(value=0.0, description='Downloading', max=570.0, style=ProgressStyle(description_…"
            ]
          },
          "metadata": {
            "tags": []
          }
        },
        {
          "output_type": "stream",
          "text": [
            "\n"
          ],
          "name": "stdout"
        },
        {
          "output_type": "display_data",
          "data": {
            "application/vnd.jupyter.widget-view+json": {
              "model_id": "2cd03a73790b433e84f2c69b65325685",
              "version_minor": 0,
              "version_major": 2
            },
            "text/plain": [
              "HBox(children=(FloatProgress(value=0.0, description='Downloading', max=526681800.0, style=ProgressStyle(descri…"
            ]
          },
          "metadata": {
            "tags": []
          }
        },
        {
          "output_type": "stream",
          "text": [
            "\n"
          ],
          "name": "stdout"
        },
        {
          "output_type": "stream",
          "text": [
            "All model checkpoint layers were used when initializing TFBertForSequenceClassification.\n",
            "\n",
            "Some layers of TFBertForSequenceClassification were not initialized from the model checkpoint at bert-base-cased and are newly initialized: ['classifier']\n",
            "You should probably TRAIN this model on a down-stream task to be able to use it for predictions and inference.\n"
          ],
          "name": "stderr"
        }
      ]
    },
    {
      "cell_type": "code",
      "metadata": {
        "id": "vLxjw8FG2lp1"
      },
      "source": [
        "optimizer = tf.keras.optimizers.Adam(learning_rate=2e-5)\n",
        "loss = tf.keras.losses.BinaryCrossentropy(from_logits=True)\n",
        "\n",
        "bert_model.compile(optimizer=optimizer, loss=loss, metrics=['accuracy'])"
      ],
      "execution_count": null,
      "outputs": []
    },
    {
      "cell_type": "code",
      "metadata": {
        "colab": {
          "base_uri": "https://localhost:8080/"
        },
        "id": "71akGZYx2nH2",
        "outputId": "f5a49dba-f0ee-4b76-d659-4003c03ef18a"
      },
      "source": [
        "bert_model.summary()"
      ],
      "execution_count": null,
      "outputs": [
        {
          "output_type": "stream",
          "text": [
            "Model: \"tf_bert_for_sequence_classification\"\n",
            "_________________________________________________________________\n",
            "Layer (type)                 Output Shape              Param #   \n",
            "=================================================================\n",
            "bert (TFBertMainLayer)       multiple                  108310272 \n",
            "_________________________________________________________________\n",
            "dropout_37 (Dropout)         multiple                  0         \n",
            "_________________________________________________________________\n",
            "classifier (Dense)           multiple                  1538      \n",
            "=================================================================\n",
            "Total params: 108,311,810\n",
            "Trainable params: 108,311,810\n",
            "Non-trainable params: 0\n",
            "_________________________________________________________________\n"
          ],
          "name": "stdout"
        }
      ]
    },
    {
      "cell_type": "code",
      "metadata": {
        "colab": {
          "base_uri": "https://localhost:8080/"
        },
        "id": "8qmam0WW2n3G",
        "outputId": "ecc51766-caba-4e68-f9f0-30513d4d0eef"
      },
      "source": [
        "\n",
        "print(\"Fine-tuning BERT on IMDB\")\n",
        "bert_history = bert_model.fit(train_ds, epochs=2, validation_data=valid_ds)"
      ],
      "execution_count": null,
      "outputs": [
        {
          "output_type": "stream",
          "text": [
            "Fine-tuning BERT on IMDB\n",
            "Epoch 1/2\n",
            "WARNING:tensorflow:The parameters `output_attentions`, `output_hidden_states` and `use_cache` cannot be updated when calling a model.They have to be set to True/False in the config object (i.e.: `config=XConfig.from_pretrained('name', output_attentions=True)`).\n",
            "WARNING:tensorflow:AutoGraph could not transform <bound method Socket.send of <zmq.sugar.socket.Socket object at 0x7f80a3a34d70>> and will run it as-is.\n",
            "Please report this to the TensorFlow team. When filing the bug, set the verbosity to 10 (on Linux, `export AUTOGRAPH_VERBOSITY=10`) and attach the full output.\n",
            "Cause: module, class, method, function, traceback, frame, or code object was expected, got cython_function_or_method\n",
            "To silence this warning, decorate the function with @tf.autograph.experimental.do_not_convert\n"
          ],
          "name": "stdout"
        },
        {
          "output_type": "stream",
          "text": [
            "WARNING:tensorflow:AutoGraph could not transform <bound method Socket.send of <zmq.sugar.socket.Socket object at 0x7f80a3a34d70>> and will run it as-is.\n",
            "Please report this to the TensorFlow team. When filing the bug, set the verbosity to 10 (on Linux, `export AUTOGRAPH_VERBOSITY=10`) and attach the full output.\n",
            "Cause: module, class, method, function, traceback, frame, or code object was expected, got cython_function_or_method\n",
            "To silence this warning, decorate the function with @tf.autograph.experimental.do_not_convert\n"
          ],
          "name": "stderr"
        },
        {
          "output_type": "stream",
          "text": [
            "WARNING: AutoGraph could not transform <bound method Socket.send of <zmq.sugar.socket.Socket object at 0x7f80a3a34d70>> and will run it as-is.\n",
            "Please report this to the TensorFlow team. When filing the bug, set the verbosity to 10 (on Linux, `export AUTOGRAPH_VERBOSITY=10`) and attach the full output.\n",
            "Cause: module, class, method, function, traceback, frame, or code object was expected, got cython_function_or_method\n",
            "To silence this warning, decorate the function with @tf.autograph.experimental.do_not_convert\n",
            "WARNING:tensorflow:AutoGraph could not transform <function wrap at 0x7f80bebe7170> and will run it as-is.\n",
            "Cause: while/else statement not yet supported\n",
            "To silence this warning, decorate the function with @tf.autograph.experimental.do_not_convert\n"
          ],
          "name": "stdout"
        },
        {
          "output_type": "stream",
          "text": [
            "WARNING:tensorflow:The parameters `output_attentions`, `output_hidden_states` and `use_cache` cannot be updated when calling a model.They have to be set to True/False in the config object (i.e.: `config=XConfig.from_pretrained('name', output_attentions=True)`).\n",
            "WARNING:tensorflow:AutoGraph could not transform <function wrap at 0x7f80bebe7170> and will run it as-is.\n",
            "Cause: while/else statement not yet supported\n",
            "To silence this warning, decorate the function with @tf.autograph.experimental.do_not_convert\n"
          ],
          "name": "stderr"
        },
        {
          "output_type": "stream",
          "text": [
            "WARNING:tensorflow:The parameter `return_dict` cannot be set in graph mode and will always be set to `True`.\n",
            "WARNING: AutoGraph could not transform <function wrap at 0x7f80bebe7170> and will run it as-is.\n",
            "Cause: while/else statement not yet supported\n",
            "To silence this warning, decorate the function with @tf.autograph.experimental.do_not_convert\n"
          ],
          "name": "stdout"
        },
        {
          "output_type": "stream",
          "text": [
            "WARNING:tensorflow:The parameter `return_dict` cannot be set in graph mode and will always be set to `True`.\n"
          ],
          "name": "stderr"
        },
        {
          "output_type": "stream",
          "text": [
            "WARNING:tensorflow:From /usr/local/lib/python3.7/dist-packages/tensorflow/python/ops/array_ops.py:5049: calling gather (from tensorflow.python.ops.array_ops) with validate_indices is deprecated and will be removed in a future version.\n",
            "Instructions for updating:\n",
            "The `validate_indices` argument has no effect. Indices are always validated on CPU and never validated on GPU.\n"
          ],
          "name": "stdout"
        },
        {
          "output_type": "stream",
          "text": [
            "WARNING:tensorflow:From /usr/local/lib/python3.7/dist-packages/tensorflow/python/ops/array_ops.py:5049: calling gather (from tensorflow.python.ops.array_ops) with validate_indices is deprecated and will be removed in a future version.\n",
            "Instructions for updating:\n",
            "The `validate_indices` argument has no effect. Indices are always validated on CPU and never validated on GPU.\n"
          ],
          "name": "stderr"
        },
        {
          "output_type": "stream",
          "text": [
            "WARNING:tensorflow:The parameters `output_attentions`, `output_hidden_states` and `use_cache` cannot be updated when calling a model.They have to be set to True/False in the config object (i.e.: `config=XConfig.from_pretrained('name', output_attentions=True)`).\n"
          ],
          "name": "stdout"
        },
        {
          "output_type": "stream",
          "text": [
            "WARNING:tensorflow:The parameters `output_attentions`, `output_hidden_states` and `use_cache` cannot be updated when calling a model.They have to be set to True/False in the config object (i.e.: `config=XConfig.from_pretrained('name', output_attentions=True)`).\n"
          ],
          "name": "stderr"
        },
        {
          "output_type": "stream",
          "text": [
            "WARNING:tensorflow:The parameter `return_dict` cannot be set in graph mode and will always be set to `True`.\n"
          ],
          "name": "stdout"
        },
        {
          "output_type": "stream",
          "text": [
            "WARNING:tensorflow:The parameter `return_dict` cannot be set in graph mode and will always be set to `True`.\n"
          ],
          "name": "stderr"
        },
        {
          "output_type": "stream",
          "text": [
            "1250/1250 [==============================] - ETA: 0s - loss: 0.3470 - accuracy: 0.8460WARNING:tensorflow:The parameters `output_attentions`, `output_hidden_states` and `use_cache` cannot be updated when calling a model.They have to be set to True/False in the config object (i.e.: `config=XConfig.from_pretrained('name', output_attentions=True)`).\n"
          ],
          "name": "stdout"
        },
        {
          "output_type": "stream",
          "text": [
            "WARNING:tensorflow:The parameters `output_attentions`, `output_hidden_states` and `use_cache` cannot be updated when calling a model.They have to be set to True/False in the config object (i.e.: `config=XConfig.from_pretrained('name', output_attentions=True)`).\n"
          ],
          "name": "stderr"
        },
        {
          "output_type": "stream",
          "text": [
            "WARNING:tensorflow:The parameter `return_dict` cannot be set in graph mode and will always be set to `True`.\n"
          ],
          "name": "stdout"
        },
        {
          "output_type": "stream",
          "text": [
            "WARNING:tensorflow:The parameter `return_dict` cannot be set in graph mode and will always be set to `True`.\n"
          ],
          "name": "stderr"
        },
        {
          "output_type": "stream",
          "text": [
            "\b\b\b\b\b\b\b\b\b\b\b\b\b\b\b\b\b\b\b\b\b\b\b\b\b\b\b\b\b\b\b\b\b\b\b\b\b\b\b\b\b\b\b\b\b\b\b\b\b\b\b\b\b\b\b\b\b\b\b\b\b\b\b\b\b\b\b\b\b\b\b\b\b\b\b\b\b\b\b\b\b\b\b\b\b\b\r1250/1250 [==============================] - 761s 561ms/step - loss: 0.3470 - accuracy: 0.8460 - val_loss: 0.2641 - val_accuracy: 0.8922\n",
            "Epoch 2/2\n",
            "1250/1250 [==============================] - 697s 558ms/step - loss: 0.1941 - accuracy: 0.9248 - val_loss: 0.3123 - val_accuracy: 0.8820\n"
          ],
          "name": "stdout"
        }
      ]
    },
    {
      "cell_type": "code",
      "metadata": {
        "colab": {
          "base_uri": "https://localhost:8080/"
        },
        "id": "8su69cKw2pau",
        "outputId": "b46b51d4-1e7f-417e-f00d-e089f5027b04"
      },
      "source": [
        "# prep data for testing\n",
        "bert_test = [bert_encoder(r) for r,l in imdb_test]\n",
        "bert_tst_lbl = [l for r, l in imdb_test]\n",
        "\n",
        "bert_test2 = np.array(bert_test)\n",
        "bert_tst_lbl2 = tf.keras.utils.to_categorical(bert_tst_lbl, num_classes=2)\n",
        "\n",
        "ts_reviews, ts_segments, ts_masks = np.split(bert_test2, 3, axis=1)\n",
        "ts_reviews = ts_reviews.squeeze()\n",
        "ts_segments = ts_segments.squeeze()\n",
        "ts_masks = ts_masks.squeeze()"
      ],
      "execution_count": null,
      "outputs": [
        {
          "output_type": "stream",
          "text": [
            "/usr/local/lib/python3.7/dist-packages/transformers/tokenization_utils_base.py:2132: FutureWarning: The `pad_to_max_length` argument is deprecated and will be removed in a future version, use `padding=True` or `padding='longest'` to pad to the longest sequence in the batch, or use `padding='max_length'` to pad to a max length. In this case, you can give a specific length with `max_length` (e.g. `max_length=45`) or leave max_length to None to pad to the maximal input size of the model (e.g. 512 for Bert).\n",
            "  FutureWarning,\n"
          ],
          "name": "stderr"
        }
      ]
    },
    {
      "cell_type": "code",
      "metadata": {
        "id": "z5ca2s9T2rph"
      },
      "source": [
        "test_ds = tf.data.Dataset.from_tensor_slices((ts_reviews, ts_masks, \n",
        "                                               ts_segments, bert_tst_lbl2)).\\\n",
        "            map(example_to_features).shuffle(100).batch(16)"
      ],
      "execution_count": null,
      "outputs": []
    },
    {
      "cell_type": "code",
      "metadata": {
        "colab": {
          "base_uri": "https://localhost:8080/"
        },
        "id": "ab6aaYom4IkW",
        "outputId": "5dd00713-6684-4501-daf4-2e765f995007"
      },
      "source": [
        "bert_model.evaluate(test_ds)\n"
      ],
      "execution_count": null,
      "outputs": [
        {
          "output_type": "stream",
          "text": [
            "1563/1563 [==============================] - 273s 175ms/step - loss: 0.3103 - accuracy: 0.8805\n"
          ],
          "name": "stdout"
        },
        {
          "output_type": "execute_result",
          "data": {
            "text/plain": [
              "[0.3102717101573944, 0.8805199861526489]"
            ]
          },
          "metadata": {
            "tags": []
          },
          "execution_count": 49
        }
      ]
    },
    {
      "cell_type": "code",
      "metadata": {
        "id": "0ocADHbO4KxG"
      },
      "source": [
        "from transformers import TFBertModel"
      ],
      "execution_count": null,
      "outputs": []
    },
    {
      "cell_type": "code",
      "metadata": {
        "colab": {
          "base_uri": "https://localhost:8080/"
        },
        "id": "Tk4cFwCn4MG-",
        "outputId": "fb9d1d2c-a8ad-4d06-90a3-c211cf9a86f9"
      },
      "source": [
        "bert_name = 'bert-base-cased'\n",
        "bert = TFBertModel.from_pretrained(bert_name)"
      ],
      "execution_count": null,
      "outputs": [
        {
          "output_type": "stream",
          "text": [
            "Some layers from the model checkpoint at bert-base-cased were not used when initializing TFBertModel: ['mlm___cls', 'nsp___cls']\n",
            "- This IS expected if you are initializing TFBertModel from the checkpoint of a model trained on another task or with another architecture (e.g. initializing a BertForSequenceClassification model from a BertForPreTraining model).\n",
            "- This IS NOT expected if you are initializing TFBertModel from the checkpoint of a model that you expect to be exactly identical (initializing a BertForSequenceClassification model from a BertForSequenceClassification model).\n",
            "All the layers of TFBertModel were initialized from the model checkpoint at bert-base-cased.\n",
            "If your task is similar to the task the model of the checkpoint was trained on, you can already use TFBertModel for predictions without further training.\n"
          ],
          "name": "stderr"
        }
      ]
    },
    {
      "cell_type": "code",
      "metadata": {
        "colab": {
          "base_uri": "https://localhost:8080/"
        },
        "id": "cXrb1lZW4Qfn",
        "outputId": "c807a388-e70c-49b3-8a64-a6996eab705a"
      },
      "source": [
        "bert.summary()"
      ],
      "execution_count": null,
      "outputs": [
        {
          "output_type": "stream",
          "text": [
            "Model: \"tf_bert_model\"\n",
            "_________________________________________________________________\n",
            "Layer (type)                 Output Shape              Param #   \n",
            "=================================================================\n",
            "bert (TFBertMainLayer)       multiple                  108310272 \n",
            "=================================================================\n",
            "Total params: 108,310,272\n",
            "Trainable params: 108,310,272\n",
            "Non-trainable params: 0\n",
            "_________________________________________________________________\n"
          ],
          "name": "stdout"
        }
      ]
    },
    {
      "cell_type": "code",
      "metadata": {
        "id": "VyaV-bpe4ReP"
      },
      "source": [
        "max_seq_len = 150\n",
        "inp_ids = tf.keras.layers.Input((max_seq_len,), dtype=tf.int64, name=\"input_ids\")\n",
        "att_mask = tf.keras.layers.Input((max_seq_len,), dtype=tf.int64, name=\"attention_mask\")\n",
        "seg_ids = tf.keras.layers.Input((max_seq_len,), dtype=tf.int64, name=\"token_type_ids\")"
      ],
      "execution_count": null,
      "outputs": []
    },
    {
      "cell_type": "code",
      "metadata": {
        "colab": {
          "base_uri": "https://localhost:8080/"
        },
        "id": "_4pwSNbd4SiX",
        "outputId": "b20ea7e9-fc01-46dc-c240-84d7488dd109"
      },
      "source": [
        "train_ds.element_spec"
      ],
      "execution_count": null,
      "outputs": [
        {
          "output_type": "execute_result",
          "data": {
            "text/plain": [
              "({'attention_mask': TensorSpec(shape=(None, 150), dtype=tf.int64, name=None),\n",
              "  'input_ids': TensorSpec(shape=(None, 150), dtype=tf.int64, name=None),\n",
              "  'token_type_ids': TensorSpec(shape=(None, 150), dtype=tf.int64, name=None)},\n",
              " TensorSpec(shape=(None, 2), dtype=tf.float32, name=None))"
            ]
          },
          "metadata": {
            "tags": []
          },
          "execution_count": 54
        }
      ]
    },
    {
      "cell_type": "code",
      "metadata": {
        "colab": {
          "base_uri": "https://localhost:8080/"
        },
        "id": "E59FRhq_4Tcn",
        "outputId": "ecb915a1-c2aa-42fc-d3c4-d744930baee4"
      },
      "source": [
        "# must keys have same name\n",
        "inp_dict = {\"input_ids\": inp_ids,\n",
        "          \"attention_mask\": att_mask,\n",
        "          \"token_type_ids\": seg_ids}\n",
        "outputs = bert(inp_dict)"
      ],
      "execution_count": null,
      "outputs": [
        {
          "output_type": "stream",
          "text": [
            "WARNING:tensorflow:The parameters `output_attentions`, `output_hidden_states` and `use_cache` cannot be updated when calling a model.They have to be set to True/False in the config object (i.e.: `config=XConfig.from_pretrained('name', output_attentions=True)`).\n"
          ],
          "name": "stdout"
        },
        {
          "output_type": "stream",
          "text": [
            "WARNING:tensorflow:The parameters `output_attentions`, `output_hidden_states` and `use_cache` cannot be updated when calling a model.They have to be set to True/False in the config object (i.e.: `config=XConfig.from_pretrained('name', output_attentions=True)`).\n"
          ],
          "name": "stderr"
        },
        {
          "output_type": "stream",
          "text": [
            "WARNING:tensorflow:The parameter `return_dict` cannot be set in graph mode and will always be set to `True`.\n"
          ],
          "name": "stdout"
        },
        {
          "output_type": "stream",
          "text": [
            "WARNING:tensorflow:The parameter `return_dict` cannot be set in graph mode and will always be set to `True`.\n"
          ],
          "name": "stderr"
        }
      ]
    },
    {
      "cell_type": "code",
      "metadata": {
        "colab": {
          "base_uri": "https://localhost:8080/"
        },
        "id": "GVroL4kc4UqH",
        "outputId": "deafb7a4-3874-4a62-c428-dbc8cb50d118"
      },
      "source": [
        "outputs"
      ],
      "execution_count": null,
      "outputs": [
        {
          "output_type": "execute_result",
          "data": {
            "text/plain": [
              "TFBaseModelOutputWithPooling([('last_hidden_state',\n",
              "                               <KerasTensor: shape=(None, 150, 768) dtype=float32 (created by layer 'tf_bert_model')>),\n",
              "                              ('pooler_output',\n",
              "                               <KerasTensor: shape=(None, 768) dtype=float32 (created by layer 'tf_bert_model')>)])"
            ]
          },
          "metadata": {
            "tags": []
          },
          "execution_count": 56
        }
      ]
    },
    {
      "cell_type": "code",
      "metadata": {
        "id": "1347-kzl4Wq3"
      },
      "source": [
        "x = tf.keras.layers.Dropout(0.2)(outputs[1])\n",
        "x = tf.keras.layers.Dense(200, activation='relu')(x)\n",
        "x = tf.keras.layers.Dropout(0.2)(x)\n",
        "x = tf.keras.layers.Dense(2, activation='softmax')(x)"
      ],
      "execution_count": null,
      "outputs": []
    },
    {
      "cell_type": "code",
      "metadata": {
        "id": "X8SVIQdQ4YCA"
      },
      "source": [
        "custom_model = tf.keras.models.Model(inputs=inp_dict, outputs=x)"
      ],
      "execution_count": null,
      "outputs": []
    },
    {
      "cell_type": "code",
      "metadata": {
        "colab": {
          "base_uri": "https://localhost:8080/"
        },
        "id": "OpQBP1GS4acI",
        "outputId": "b2cf218c-1480-424a-9d8a-72d89d0ff743"
      },
      "source": [
        "train_ds.take(1)"
      ],
      "execution_count": null,
      "outputs": [
        {
          "output_type": "execute_result",
          "data": {
            "text/plain": [
              "<TakeDataset shapes: ({input_ids: (None, 150), attention_mask: (None, 150), token_type_ids: (None, 150)}, (None, 2)), types: ({input_ids: tf.int64, attention_mask: tf.int64, token_type_ids: tf.int64}, tf.float32)>"
            ]
          },
          "metadata": {
            "tags": []
          },
          "execution_count": 59
        }
      ]
    },
    {
      "cell_type": "code",
      "metadata": {
        "id": "UbADUfTX4cBg"
      },
      "source": [
        "# first train the new layers added \n",
        "# Feature Extracting\n",
        "bert.trainable = False  \n",
        "optimizer = tf.keras.optimizers.Adam()  # standard learning rate\n",
        "loss = tf.keras.losses.BinaryCrossentropy() #from_logits=True)\n",
        "custom_model.compile(optimizer=optimizer, loss='binary_crossentropy', metrics=['accuracy'])"
      ],
      "execution_count": null,
      "outputs": []
    },
    {
      "cell_type": "code",
      "metadata": {
        "colab": {
          "base_uri": "https://localhost:8080/"
        },
        "id": "11ZuAHH_4eMR",
        "outputId": "fafa818e-8622-4e99-8e9d-4622f52220ce"
      },
      "source": [
        "print(\"Custom Model: training custom model on IMDB\")\n",
        "custom_history = custom_model.fit(train_ds, epochs=10, \n",
        "                                  validation_data=valid_ds)"
      ],
      "execution_count": null,
      "outputs": [
        {
          "output_type": "stream",
          "text": [
            "Custom Model: training custom model on IMDB\n",
            "Epoch 1/10\n",
            "WARNING:tensorflow:The parameters `output_attentions`, `output_hidden_states` and `use_cache` cannot be updated when calling a model.They have to be set to True/False in the config object (i.e.: `config=XConfig.from_pretrained('name', output_attentions=True)`).\n"
          ],
          "name": "stdout"
        },
        {
          "output_type": "stream",
          "text": [
            "WARNING:tensorflow:The parameters `output_attentions`, `output_hidden_states` and `use_cache` cannot be updated when calling a model.They have to be set to True/False in the config object (i.e.: `config=XConfig.from_pretrained('name', output_attentions=True)`).\n"
          ],
          "name": "stderr"
        },
        {
          "output_type": "stream",
          "text": [
            "WARNING:tensorflow:The parameter `return_dict` cannot be set in graph mode and will always be set to `True`.\n"
          ],
          "name": "stdout"
        },
        {
          "output_type": "stream",
          "text": [
            "WARNING:tensorflow:The parameter `return_dict` cannot be set in graph mode and will always be set to `True`.\n"
          ],
          "name": "stderr"
        },
        {
          "output_type": "stream",
          "text": [
            "WARNING:tensorflow:The parameters `output_attentions`, `output_hidden_states` and `use_cache` cannot be updated when calling a model.They have to be set to True/False in the config object (i.e.: `config=XConfig.from_pretrained('name', output_attentions=True)`).\n"
          ],
          "name": "stdout"
        },
        {
          "output_type": "stream",
          "text": [
            "WARNING:tensorflow:The parameters `output_attentions`, `output_hidden_states` and `use_cache` cannot be updated when calling a model.They have to be set to True/False in the config object (i.e.: `config=XConfig.from_pretrained('name', output_attentions=True)`).\n"
          ],
          "name": "stderr"
        },
        {
          "output_type": "stream",
          "text": [
            "WARNING:tensorflow:The parameter `return_dict` cannot be set in graph mode and will always be set to `True`.\n"
          ],
          "name": "stdout"
        },
        {
          "output_type": "stream",
          "text": [
            "WARNING:tensorflow:The parameter `return_dict` cannot be set in graph mode and will always be set to `True`.\n"
          ],
          "name": "stderr"
        },
        {
          "output_type": "stream",
          "text": [
            "1250/1250 [==============================] - ETA: 0s - loss: 0.6808 - accuracy: 0.5688WARNING:tensorflow:The parameters `output_attentions`, `output_hidden_states` and `use_cache` cannot be updated when calling a model.They have to be set to True/False in the config object (i.e.: `config=XConfig.from_pretrained('name', output_attentions=True)`).\n"
          ],
          "name": "stdout"
        },
        {
          "output_type": "stream",
          "text": [
            "WARNING:tensorflow:The parameters `output_attentions`, `output_hidden_states` and `use_cache` cannot be updated when calling a model.They have to be set to True/False in the config object (i.e.: `config=XConfig.from_pretrained('name', output_attentions=True)`).\n"
          ],
          "name": "stderr"
        },
        {
          "output_type": "stream",
          "text": [
            "WARNING:tensorflow:The parameter `return_dict` cannot be set in graph mode and will always be set to `True`.\n"
          ],
          "name": "stdout"
        },
        {
          "output_type": "stream",
          "text": [
            "WARNING:tensorflow:The parameter `return_dict` cannot be set in graph mode and will always be set to `True`.\n"
          ],
          "name": "stderr"
        },
        {
          "output_type": "stream",
          "text": [
            "\b\b\b\b\b\b\b\b\b\b\b\b\b\b\b\b\b\b\b\b\b\b\b\b\b\b\b\b\b\b\b\b\b\b\b\b\b\b\b\b\b\b\b\b\b\b\b\b\b\b\b\b\b\b\b\b\b\b\b\b\b\b\b\b\b\b\b\b\b\b\b\b\b\b\b\b\b\b\b\b\b\b\b\b\b\b\r1250/1250 [==============================] - 304s 234ms/step - loss: 0.6808 - accuracy: 0.5688 - val_loss: 0.6528 - val_accuracy: 0.6276\n",
            "Epoch 2/10\n",
            "1250/1250 [==============================] - 290s 232ms/step - loss: 0.6571 - accuracy: 0.6075 - val_loss: 0.6369 - val_accuracy: 0.6384\n",
            "Epoch 3/10\n",
            "1250/1250 [==============================] - 290s 232ms/step - loss: 0.6453 - accuracy: 0.6284 - val_loss: 0.6133 - val_accuracy: 0.6710\n",
            "Epoch 4/10\n",
            "1250/1250 [==============================] - 290s 232ms/step - loss: 0.6405 - accuracy: 0.6362 - val_loss: 0.6160 - val_accuracy: 0.6680\n",
            "Epoch 5/10\n",
            "1250/1250 [==============================] - 290s 232ms/step - loss: 0.6341 - accuracy: 0.6392 - val_loss: 0.5997 - val_accuracy: 0.6854\n",
            "Epoch 6/10\n",
            "1250/1250 [==============================] - 290s 232ms/step - loss: 0.6345 - accuracy: 0.6402 - val_loss: 0.5978 - val_accuracy: 0.6836\n",
            "Epoch 7/10\n",
            "1250/1250 [==============================] - 290s 232ms/step - loss: 0.6332 - accuracy: 0.6416 - val_loss: 0.5982 - val_accuracy: 0.6874\n",
            "Epoch 8/10\n",
            "1250/1250 [==============================] - 290s 232ms/step - loss: 0.6266 - accuracy: 0.6481 - val_loss: 0.6076 - val_accuracy: 0.6928\n",
            "Epoch 9/10\n",
            "1250/1250 [==============================] - 290s 232ms/step - loss: 0.6260 - accuracy: 0.6491 - val_loss: 0.5823 - val_accuracy: 0.6934\n",
            "Epoch 10/10\n",
            "1250/1250 [==============================] - 290s 232ms/step - loss: 0.6291 - accuracy: 0.6457 - val_loss: 0.5985 - val_accuracy: 0.6848\n"
          ],
          "name": "stdout"
        }
      ]
    },
    {
      "cell_type": "code",
      "metadata": {
        "colab": {
          "base_uri": "https://localhost:8080/"
        },
        "id": "cC2LkWn94fyR",
        "outputId": "409e0cd2-6fc5-4aac-89d2-c09023f7384e"
      },
      "source": [
        "custom_model.evaluate(test_ds)\n"
      ],
      "execution_count": null,
      "outputs": [
        {
          "output_type": "stream",
          "text": [
            "1563/1563 [==============================] - 273s 174ms/step - loss: 0.5981 - accuracy: 0.6904\n"
          ],
          "name": "stdout"
        },
        {
          "output_type": "execute_result",
          "data": {
            "text/plain": [
              "[0.5981252193450928, 0.6904000043869019]"
            ]
          },
          "metadata": {
            "tags": []
          },
          "execution_count": 62
        }
      ]
    },
    {
      "cell_type": "code",
      "metadata": {
        "id": "825bMvj84gup"
      },
      "source": [
        "# Now finetune BERT for a couple of epochs\n",
        "bert.trainable = True\n",
        "optimizer = tf.keras.optimizers.Adam(learning_rate=2e-5)\n",
        "loss = tf.keras.losses.BinaryCrossentropy() #from_logits=True)\n",
        "\n",
        "custom_model.compile(optimizer=optimizer, loss=loss, metrics=['accuracy'])"
      ],
      "execution_count": null,
      "outputs": []
    },
    {
      "cell_type": "code",
      "metadata": {
        "colab": {
          "base_uri": "https://localhost:8080/"
        },
        "id": "dqNF4RuN4kGZ",
        "outputId": "b01f85b6-d683-4f6c-bcb0-9de0e5846773"
      },
      "source": [
        "custom_model.summary()"
      ],
      "execution_count": null,
      "outputs": [
        {
          "output_type": "stream",
          "text": [
            "Model: \"model\"\n",
            "__________________________________________________________________________________________________\n",
            "Layer (type)                    Output Shape         Param #     Connected to                     \n",
            "==================================================================================================\n",
            "attention_mask (InputLayer)     [(None, 150)]        0                                            \n",
            "__________________________________________________________________________________________________\n",
            "input_ids (InputLayer)          [(None, 150)]        0                                            \n",
            "__________________________________________________________________________________________________\n",
            "token_type_ids (InputLayer)     [(None, 150)]        0                                            \n",
            "__________________________________________________________________________________________________\n",
            "tf_bert_model (TFBertModel)     TFBaseModelOutputWit 108310272   attention_mask[0][0]             \n",
            "                                                                 input_ids[0][0]                  \n",
            "                                                                 token_type_ids[0][0]             \n",
            "__________________________________________________________________________________________________\n",
            "dropout_75 (Dropout)            (None, 768)          0           tf_bert_model[0][1]              \n",
            "__________________________________________________________________________________________________\n",
            "dense (Dense)                   (None, 200)          153800      dropout_75[0][0]                 \n",
            "__________________________________________________________________________________________________\n",
            "dropout_76 (Dropout)            (None, 200)          0           dense[0][0]                      \n",
            "__________________________________________________________________________________________________\n",
            "dense_1 (Dense)                 (None, 2)            402         dropout_76[0][0]                 \n",
            "==================================================================================================\n",
            "Total params: 108,464,474\n",
            "Trainable params: 108,464,474\n",
            "Non-trainable params: 0\n",
            "__________________________________________________________________________________________________\n"
          ],
          "name": "stdout"
        }
      ]
    },
    {
      "cell_type": "code",
      "metadata": {
        "colab": {
          "base_uri": "https://localhost:8080/"
        },
        "id": "65aJjf8T4k6R",
        "outputId": "50aa2ce3-367b-4b8a-f219-bc8e2f98225d"
      },
      "source": [
        "print(\"Custom Model: Fine-tuning BERT on IMDB\")\n",
        "custom_history = custom_model.fit(train_ds, epochs=2, \n",
        "                                  validation_data=valid_ds)"
      ],
      "execution_count": null,
      "outputs": [
        {
          "output_type": "stream",
          "text": [
            "Custom Model: Fine-tuning BERT on IMDB\n",
            "Epoch 1/2\n",
            "WARNING:tensorflow:The parameters `output_attentions`, `output_hidden_states` and `use_cache` cannot be updated when calling a model.They have to be set to True/False in the config object (i.e.: `config=XConfig.from_pretrained('name', output_attentions=True)`).\n"
          ],
          "name": "stdout"
        },
        {
          "output_type": "stream",
          "text": [
            "WARNING:tensorflow:The parameters `output_attentions`, `output_hidden_states` and `use_cache` cannot be updated when calling a model.They have to be set to True/False in the config object (i.e.: `config=XConfig.from_pretrained('name', output_attentions=True)`).\n"
          ],
          "name": "stderr"
        },
        {
          "output_type": "stream",
          "text": [
            "WARNING:tensorflow:The parameter `return_dict` cannot be set in graph mode and will always be set to `True`.\n"
          ],
          "name": "stdout"
        },
        {
          "output_type": "stream",
          "text": [
            "WARNING:tensorflow:The parameter `return_dict` cannot be set in graph mode and will always be set to `True`.\n"
          ],
          "name": "stderr"
        },
        {
          "output_type": "stream",
          "text": [
            "WARNING:tensorflow:The parameters `output_attentions`, `output_hidden_states` and `use_cache` cannot be updated when calling a model.They have to be set to True/False in the config object (i.e.: `config=XConfig.from_pretrained('name', output_attentions=True)`).\n"
          ],
          "name": "stdout"
        },
        {
          "output_type": "stream",
          "text": [
            "WARNING:tensorflow:The parameters `output_attentions`, `output_hidden_states` and `use_cache` cannot be updated when calling a model.They have to be set to True/False in the config object (i.e.: `config=XConfig.from_pretrained('name', output_attentions=True)`).\n"
          ],
          "name": "stderr"
        },
        {
          "output_type": "stream",
          "text": [
            "WARNING:tensorflow:The parameter `return_dict` cannot be set in graph mode and will always be set to `True`.\n"
          ],
          "name": "stdout"
        },
        {
          "output_type": "stream",
          "text": [
            "WARNING:tensorflow:The parameter `return_dict` cannot be set in graph mode and will always be set to `True`.\n"
          ],
          "name": "stderr"
        },
        {
          "output_type": "stream",
          "text": [
            "1250/1250 [==============================] - ETA: 0s - loss: 0.3604 - accuracy: 0.8439WARNING:tensorflow:The parameters `output_attentions`, `output_hidden_states` and `use_cache` cannot be updated when calling a model.They have to be set to True/False in the config object (i.e.: `config=XConfig.from_pretrained('name', output_attentions=True)`).\n"
          ],
          "name": "stdout"
        },
        {
          "output_type": "stream",
          "text": [
            "WARNING:tensorflow:The parameters `output_attentions`, `output_hidden_states` and `use_cache` cannot be updated when calling a model.They have to be set to True/False in the config object (i.e.: `config=XConfig.from_pretrained('name', output_attentions=True)`).\n"
          ],
          "name": "stderr"
        },
        {
          "output_type": "stream",
          "text": [
            "WARNING:tensorflow:The parameter `return_dict` cannot be set in graph mode and will always be set to `True`.\n"
          ],
          "name": "stdout"
        },
        {
          "output_type": "stream",
          "text": [
            "WARNING:tensorflow:The parameter `return_dict` cannot be set in graph mode and will always be set to `True`.\n"
          ],
          "name": "stderr"
        },
        {
          "output_type": "stream",
          "text": [
            "\b\b\b\b\b\b\b\b\b\b\b\b\b\b\b\b\b\b\b\b\b\b\b\b\b\b\b\b\b\b\b\b\b\b\b\b\b\b\b\b\b\b\b\b\b\b\b\b\b\b\b\b\b\b\b\b\b\b\b\b\b\b\b\b\b\b\b\b\b\b\b\b\b\b\b\b\b\b\b\b\b\b\b\b\b\b\r1250/1250 [==============================] - 714s 560ms/step - loss: 0.3604 - accuracy: 0.8439 - val_loss: 0.2788 - val_accuracy: 0.8702\n",
            "Epoch 2/2\n",
            "1250/1250 [==============================] - 697s 557ms/step - loss: 0.2180 - accuracy: 0.9134 - val_loss: 0.2737 - val_accuracy: 0.8896\n"
          ],
          "name": "stdout"
        }
      ]
    },
    {
      "cell_type": "code",
      "metadata": {
        "colab": {
          "base_uri": "https://localhost:8080/"
        },
        "id": "1dtTwdZk4mTJ",
        "outputId": "a6a5add1-9e20-40d7-b233-9ddb7c5138e5"
      },
      "source": [
        "custom_model.evaluate(test_ds)"
      ],
      "execution_count": null,
      "outputs": [
        {
          "output_type": "stream",
          "text": [
            "1563/1563 [==============================] - 272s 174ms/step - loss: 0.2899 - accuracy: 0.8806\n"
          ],
          "name": "stdout"
        },
        {
          "output_type": "execute_result",
          "data": {
            "text/plain": [
              "[0.28991788625717163, 0.8805599808692932]"
            ]
          },
          "metadata": {
            "tags": []
          },
          "execution_count": 66
        }
      ]
    }
  ]
}